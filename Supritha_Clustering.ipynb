{
  "nbformat": 4,
  "nbformat_minor": 0,
  "metadata": {
    "colab": {
      "provenance": []
    },
    "kernelspec": {
      "name": "python3",
      "display_name": "Python 3"
    },
    "language_info": {
      "name": "python"
    }
  },
  "cells": [
    {
      "cell_type": "markdown",
      "source": [
        "**In this task, you will cluster the product reviews in the test dataset. You will need to create word\n",
        "features from the data and use that for k-means clustering. Clustering will be done by product\n",
        "types, i.e., in this case, the labels will be product categories. You will use the Silhouette score\n",
        "and Rand index to analyze the quality of clustering.**"
      ],
      "metadata": {
        "id": "tK-Ss-Nojyhq"
      }
    },
    {
      "cell_type": "code",
      "source": [
        "#All the required library importing\n",
        "import pandas as pd\n",
        "import numpy as np\n",
        "\n",
        "#uploading the test data\n",
        "Testing_Data = pd.read_csv('Test.csv')\n",
        "\n",
        "#Selecting only category and style and making it as a new dataframe\n",
        "NewDesired_Dataframe = Testing_Data[['category', 'style']]\n",
        "# Encode the product categories as integer labels\n",
        "NewDesired_Dataframe['category_id'] = pd.factorize(NewDesired_Dataframe['category'])[0]\n",
        "NewDesired_Dataframe = NewDesired_Dataframe.drop(columns=['category'])\n",
        "NewDesired_Dataframe = NewDesired_Dataframe.replace(np.nan, '')"
      ],
      "metadata": {
        "colab": {
          "base_uri": "https://localhost:8080/"
        },
        "id": "wqAnKa23jz4J",
        "outputId": "f57e2ae9-75c3-4b2f-fcc1-95c4e4dacf6e"
      },
      "execution_count": null,
      "outputs": [
        {
          "output_type": "stream",
          "name": "stderr",
          "text": [
            "<ipython-input-2-b02aae9ad584>:11: SettingWithCopyWarning: \n",
            "A value is trying to be set on a copy of a slice from a DataFrame.\n",
            "Try using .loc[row_indexer,col_indexer] = value instead\n",
            "\n",
            "See the caveats in the documentation: https://pandas.pydata.org/pandas-docs/stable/user_guide/indexing.html#returning-a-view-versus-a-copy\n",
            "  NewDesired_Dataframe['category_id'] = pd.factorize(NewDesired_Dataframe['category'])[0]\n"
          ]
        }
      ]
    },
    {
      "cell_type": "code",
      "source": [
        "from sklearn.feature_extraction.text import TfidfVectorizer\n",
        "\n",
        "#TfidfVectorizer\n",
        "tfidf_vectorizer  = TfidfVectorizer(max_df=0.5,min_df=0.1,max_features=3)\n",
        "\n",
        "#for cluster---->style\n",
        "train_new_features = tfidf_vectorizer .fit_transform(NewDesired_Dataframe['style'])"
      ],
      "metadata": {
        "id": "Hs_Go0oIlDON"
      },
      "execution_count": null,
      "outputs": []
    },
    {
      "cell_type": "code",
      "source": [
        "#The number clusters and categories--> to be equal\n",
        "X = len(Testing_Data['category'].unique())\n",
        "\n",
        "#Training K-means model--> with category and style--->for clustering\n",
        "from sklearn.cluster import KMeans\n",
        "kmeans = KMeans(n_clusters=X, random_state=2, init='random', max_iter= 300)"
      ],
      "metadata": {
        "id": "53PF-FLel0T2"
      },
      "execution_count": null,
      "outputs": []
    },
    {
      "cell_type": "code",
      "source": [
        "from sklearn.compose import ColumnTransformer\n",
        "from sklearn.pipeline import Pipeline\n",
        "from sklearn.feature_extraction.text import TfidfVectorizer\n",
        "\n",
        "#Column transformer\n",
        "column_trans = ColumnTransformer([('style_tf', TfidfVectorizer(),'style'),],remainder='passthrough', verbose_feature_names_out=True)\n",
        "#Pipeline to tune kmeans and vectorizer)\n",
        "X_pipeline = Pipeline(steps=[('column_trans', column_trans),('model', kmeans)])\n",
        "\n",
        "#hyper parameters of the model\n",
        "X_pipeline.get_params()"
      ],
      "metadata": {
        "colab": {
          "base_uri": "https://localhost:8080/"
        },
        "id": "EoKtzd7gmkC1",
        "outputId": "d10ad84f-eced-4439-d224-55a7e1a53361"
      },
      "execution_count": null,
      "outputs": [
        {
          "output_type": "execute_result",
          "data": {
            "text/plain": [
              "{'memory': None,\n",
              " 'steps': [('column_trans',\n",
              "   ColumnTransformer(remainder='passthrough',\n",
              "                     transformers=[('style_tf', TfidfVectorizer(), 'style')])),\n",
              "  ('model', KMeans(init='random', n_clusters=6, random_state=2))],\n",
              " 'verbose': False,\n",
              " 'column_trans': ColumnTransformer(remainder='passthrough',\n",
              "                   transformers=[('style_tf', TfidfVectorizer(), 'style')]),\n",
              " 'model': KMeans(init='random', n_clusters=6, random_state=2),\n",
              " 'column_trans__n_jobs': None,\n",
              " 'column_trans__remainder': 'passthrough',\n",
              " 'column_trans__sparse_threshold': 0.3,\n",
              " 'column_trans__transformer_weights': None,\n",
              " 'column_trans__transformers': [('style_tf', TfidfVectorizer(), 'style')],\n",
              " 'column_trans__verbose': False,\n",
              " 'column_trans__verbose_feature_names_out': True,\n",
              " 'column_trans__style_tf': TfidfVectorizer(),\n",
              " 'column_trans__style_tf__analyzer': 'word',\n",
              " 'column_trans__style_tf__binary': False,\n",
              " 'column_trans__style_tf__decode_error': 'strict',\n",
              " 'column_trans__style_tf__dtype': numpy.float64,\n",
              " 'column_trans__style_tf__encoding': 'utf-8',\n",
              " 'column_trans__style_tf__input': 'content',\n",
              " 'column_trans__style_tf__lowercase': True,\n",
              " 'column_trans__style_tf__max_df': 1.0,\n",
              " 'column_trans__style_tf__max_features': None,\n",
              " 'column_trans__style_tf__min_df': 1,\n",
              " 'column_trans__style_tf__ngram_range': (1, 1),\n",
              " 'column_trans__style_tf__norm': 'l2',\n",
              " 'column_trans__style_tf__preprocessor': None,\n",
              " 'column_trans__style_tf__smooth_idf': True,\n",
              " 'column_trans__style_tf__stop_words': None,\n",
              " 'column_trans__style_tf__strip_accents': None,\n",
              " 'column_trans__style_tf__sublinear_tf': False,\n",
              " 'column_trans__style_tf__token_pattern': '(?u)\\\\b\\\\w\\\\w+\\\\b',\n",
              " 'column_trans__style_tf__tokenizer': None,\n",
              " 'column_trans__style_tf__use_idf': True,\n",
              " 'column_trans__style_tf__vocabulary': None,\n",
              " 'model__algorithm': 'lloyd',\n",
              " 'model__copy_x': True,\n",
              " 'model__init': 'random',\n",
              " 'model__max_iter': 300,\n",
              " 'model__n_clusters': 6,\n",
              " 'model__n_init': 'warn',\n",
              " 'model__random_state': 2,\n",
              " 'model__tol': 0.0001,\n",
              " 'model__verbose': 0}"
            ]
          },
          "metadata": {},
          "execution_count": 5
        }
      ]
    },
    {
      "cell_type": "code",
      "source": [
        "from sklearn.model_selection import GridSearchCV\n",
        "\n",
        "#parameters for tuning\n",
        "param = {\n",
        "    'column_trans__style_tf__max_df': (0.5, 0.7),\n",
        "    'column_trans__style_tf__max_features': (None, 3, 6),\n",
        "    'column_trans__style_tf__min_df':(0.0,0.1),\n",
        "    'model__max_iter':[300,450,600]\n",
        "}"
      ],
      "metadata": {
        "id": "ncKhORKMnf-G"
      },
      "execution_count": null,
      "outputs": []
    },
    {
      "cell_type": "code",
      "source": [
        "# perform grid search with 5-fold cross validation\n",
        "GridSearch = GridSearchCV(X_pipeline, param, cv=5, n_jobs=-1, verbose=3)\n",
        "GridSearch.fit(NewDesired_Dataframe)\n",
        "\n",
        "#Print best score and params\n",
        "print(\"Best Parameters: \", GridSearch.best_params_)\n",
        "print(\"Best Score: \", GridSearch.best_score_)"
      ],
      "metadata": {
        "colab": {
          "base_uri": "https://localhost:8080/"
        },
        "id": "CCw8i-uJn7O_",
        "outputId": "f3591728-9459-4465-90f3-91f51ee999a3"
      },
      "execution_count": null,
      "outputs": [
        {
          "output_type": "stream",
          "name": "stdout",
          "text": [
            "Fitting 5 folds for each of 36 candidates, totalling 180 fits\n",
            "Best Parameters:  {'column_trans__style_tf__max_df': 0.5, 'column_trans__style_tf__max_features': 3, 'column_trans__style_tf__min_df': 0.1, 'model__max_iter': 300}\n",
            "Best Score:  -744.3143375271096\n"
          ]
        },
        {
          "output_type": "stream",
          "name": "stderr",
          "text": [
            "/usr/local/lib/python3.10/dist-packages/sklearn/cluster/_kmeans.py:870: FutureWarning: The default value of `n_init` will change from 10 to 'auto' in 1.4. Set the value of `n_init` explicitly to suppress the warning\n",
            "  warnings.warn(\n"
          ]
        }
      ]
    },
    {
      "cell_type": "code",
      "source": [
        "#fitting the model\n",
        "kmeans.fit(train_new_features)"
      ],
      "metadata": {
        "colab": {
          "base_uri": "https://localhost:8080/",
          "height": 74
        },
        "id": "cULeeZO0otwZ",
        "outputId": "af253688-38c7-40c5-de09-875a6c7413ee"
      },
      "execution_count": null,
      "outputs": [
        {
          "output_type": "execute_result",
          "data": {
            "text/plain": [
              "KMeans(init='random', n_clusters=6, random_state=2)"
            ],
            "text/html": [
              "<style>#sk-container-id-1 {color: black;background-color: white;}#sk-container-id-1 pre{padding: 0;}#sk-container-id-1 div.sk-toggleable {background-color: white;}#sk-container-id-1 label.sk-toggleable__label {cursor: pointer;display: block;width: 100%;margin-bottom: 0;padding: 0.3em;box-sizing: border-box;text-align: center;}#sk-container-id-1 label.sk-toggleable__label-arrow:before {content: \"▸\";float: left;margin-right: 0.25em;color: #696969;}#sk-container-id-1 label.sk-toggleable__label-arrow:hover:before {color: black;}#sk-container-id-1 div.sk-estimator:hover label.sk-toggleable__label-arrow:before {color: black;}#sk-container-id-1 div.sk-toggleable__content {max-height: 0;max-width: 0;overflow: hidden;text-align: left;background-color: #f0f8ff;}#sk-container-id-1 div.sk-toggleable__content pre {margin: 0.2em;color: black;border-radius: 0.25em;background-color: #f0f8ff;}#sk-container-id-1 input.sk-toggleable__control:checked~div.sk-toggleable__content {max-height: 200px;max-width: 100%;overflow: auto;}#sk-container-id-1 input.sk-toggleable__control:checked~label.sk-toggleable__label-arrow:before {content: \"▾\";}#sk-container-id-1 div.sk-estimator input.sk-toggleable__control:checked~label.sk-toggleable__label {background-color: #d4ebff;}#sk-container-id-1 div.sk-label input.sk-toggleable__control:checked~label.sk-toggleable__label {background-color: #d4ebff;}#sk-container-id-1 input.sk-hidden--visually {border: 0;clip: rect(1px 1px 1px 1px);clip: rect(1px, 1px, 1px, 1px);height: 1px;margin: -1px;overflow: hidden;padding: 0;position: absolute;width: 1px;}#sk-container-id-1 div.sk-estimator {font-family: monospace;background-color: #f0f8ff;border: 1px dotted black;border-radius: 0.25em;box-sizing: border-box;margin-bottom: 0.5em;}#sk-container-id-1 div.sk-estimator:hover {background-color: #d4ebff;}#sk-container-id-1 div.sk-parallel-item::after {content: \"\";width: 100%;border-bottom: 1px solid gray;flex-grow: 1;}#sk-container-id-1 div.sk-label:hover label.sk-toggleable__label {background-color: #d4ebff;}#sk-container-id-1 div.sk-serial::before {content: \"\";position: absolute;border-left: 1px solid gray;box-sizing: border-box;top: 0;bottom: 0;left: 50%;z-index: 0;}#sk-container-id-1 div.sk-serial {display: flex;flex-direction: column;align-items: center;background-color: white;padding-right: 0.2em;padding-left: 0.2em;position: relative;}#sk-container-id-1 div.sk-item {position: relative;z-index: 1;}#sk-container-id-1 div.sk-parallel {display: flex;align-items: stretch;justify-content: center;background-color: white;position: relative;}#sk-container-id-1 div.sk-item::before, #sk-container-id-1 div.sk-parallel-item::before {content: \"\";position: absolute;border-left: 1px solid gray;box-sizing: border-box;top: 0;bottom: 0;left: 50%;z-index: -1;}#sk-container-id-1 div.sk-parallel-item {display: flex;flex-direction: column;z-index: 1;position: relative;background-color: white;}#sk-container-id-1 div.sk-parallel-item:first-child::after {align-self: flex-end;width: 50%;}#sk-container-id-1 div.sk-parallel-item:last-child::after {align-self: flex-start;width: 50%;}#sk-container-id-1 div.sk-parallel-item:only-child::after {width: 0;}#sk-container-id-1 div.sk-dashed-wrapped {border: 1px dashed gray;margin: 0 0.4em 0.5em 0.4em;box-sizing: border-box;padding-bottom: 0.4em;background-color: white;}#sk-container-id-1 div.sk-label label {font-family: monospace;font-weight: bold;display: inline-block;line-height: 1.2em;}#sk-container-id-1 div.sk-label-container {text-align: center;}#sk-container-id-1 div.sk-container {/* jupyter's `normalize.less` sets `[hidden] { display: none; }` but bootstrap.min.css set `[hidden] { display: none !important; }` so we also need the `!important` here to be able to override the default hidden behavior on the sphinx rendered scikit-learn.org. See: https://github.com/scikit-learn/scikit-learn/issues/21755 */display: inline-block !important;position: relative;}#sk-container-id-1 div.sk-text-repr-fallback {display: none;}</style><div id=\"sk-container-id-1\" class=\"sk-top-container\"><div class=\"sk-text-repr-fallback\"><pre>KMeans(init=&#x27;random&#x27;, n_clusters=6, random_state=2)</pre><b>In a Jupyter environment, please rerun this cell to show the HTML representation or trust the notebook. <br />On GitHub, the HTML representation is unable to render, please try loading this page with nbviewer.org.</b></div><div class=\"sk-container\" hidden><div class=\"sk-item\"><div class=\"sk-estimator sk-toggleable\"><input class=\"sk-toggleable__control sk-hidden--visually\" id=\"sk-estimator-id-1\" type=\"checkbox\" checked><label for=\"sk-estimator-id-1\" class=\"sk-toggleable__label sk-toggleable__label-arrow\">KMeans</label><div class=\"sk-toggleable__content\"><pre>KMeans(init=&#x27;random&#x27;, n_clusters=6, random_state=2)</pre></div></div></div></div></div>"
            ]
          },
          "metadata": {},
          "execution_count": 8
        }
      ]
    },
    {
      "cell_type": "code",
      "source": [
        "from sklearn.model_selection import train_test_split\n",
        "from sklearn.metrics import silhouette_score, adjusted_rand_score\n",
        "from IPython.display import display, HTML\n",
        "# Define HTML tags for bold text\n",
        "BOLD = '<b>'\n",
        "RESET = '</b>'\n",
        "\n",
        "prediction_labels = kmeans.predict(train_new_features)\n",
        "display(HTML(\"-----------------------------------------------------------\"))\n",
        "#Rand Index\n",
        "RandIndex_Score = adjusted_rand_score(NewDesired_Dataframe['category_id'], prediction_labels)\n",
        "display(HTML(f\"{BOLD}Adjusted Rand Index:{RESET}{RandIndex_Score} \"))\n",
        "#Silhouette Score\n",
        "Silhouette_Score = silhouette_score(train_new_features, prediction_labels,metric='euclidean')\n",
        "display(HTML(f\"{BOLD}Silhouette score:{RESET}{Silhouette_Score} \"))\n",
        "\n",
        "display(HTML(\"-----------------------------------------------------------\"))"
      ],
      "metadata": {
        "colab": {
          "base_uri": "https://localhost:8080/",
          "height": 86
        },
        "id": "1Umk8AdSpZRR",
        "outputId": "ee2ab890-e3ed-46ea-d1fb-119911fe1787"
      },
      "execution_count": null,
      "outputs": [
        {
          "output_type": "display_data",
          "data": {
            "text/plain": [
              "<IPython.core.display.HTML object>"
            ],
            "text/html": [
              "-----------------------------------------------------------"
            ]
          },
          "metadata": {}
        },
        {
          "output_type": "display_data",
          "data": {
            "text/plain": [
              "<IPython.core.display.HTML object>"
            ],
            "text/html": [
              "<b>Adjusted Rand Index:</b>0.2000526586178455 "
            ]
          },
          "metadata": {}
        },
        {
          "output_type": "display_data",
          "data": {
            "text/plain": [
              "<IPython.core.display.HTML object>"
            ],
            "text/html": [
              "<b>Silhouette score:</b>0.9981344748218427 "
            ]
          },
          "metadata": {}
        },
        {
          "output_type": "display_data",
          "data": {
            "text/plain": [
              "<IPython.core.display.HTML object>"
            ],
            "text/html": [
              "-----------------------------------------------------------"
            ]
          },
          "metadata": {}
        }
      ]
    },
    {
      "cell_type": "code",
      "source": [
        "#try\n",
        "#now with different combination---> category, style, reviewText\n",
        "#all required libraries\n",
        "import pandas as pd\n",
        "import numpy as np\n",
        "from sklearn.feature_extraction.text import TfidfVectorizer\n",
        "from sklearn.compose import ColumnTransformer\n",
        "from sklearn.pipeline import Pipeline\n",
        "from sklearn.feature_extraction.text import TfidfVectorizer\n",
        "from sklearn.model_selection import GridSearchCV\n",
        "from sklearn.model_selection import train_test_split\n",
        "from sklearn.metrics import silhouette_score, adjusted_rand_score\n",
        "from IPython.display import display, HTML\n",
        "\n",
        "#uploading the test data\n",
        "Testing_Data = pd.read_csv('Test.csv')\n",
        "#category, style, reviewText\n",
        "NewDesired_Dataframe = Testing_Data[['category', 'style', 'reviewText']]\n",
        "# Encode the product categories as integer labels\n",
        "NewDesired_Dataframe['category_id'] = pd.factorize(NewDesired_Dataframe['category'])[0]\n",
        "NewDesired_Dataframe = NewDesired_Dataframe.drop(columns=['category'])\n",
        "NewDesired_Dataframe = NewDesired_Dataframe.replace(np.nan, '')\n",
        "\n",
        "column_trans = ColumnTransformer([('style_tf', TfidfVectorizer(max_df=0.7,min_df=0.1),'style'),('review_tf', TfidfVectorizer(max_df=0.7,min_df=0.1), 'reviewText')],remainder='passthrough', verbose_feature_names_out=True)\n",
        "\n",
        "kmeans_n = KMeans(n_clusters=6, random_state=0, init='random', max_iter= 300)\n",
        "#Pipeline to tune kmeans and vectorizer)\n",
        "X_pipeline = Pipeline(steps=[('column_trans', column_trans),('model', kmeans_n)])\n",
        "\n",
        "X_pipeline.fit(NewDesired_Dataframe)\n",
        "prediction_labels = X_pipeline.predict(NewDesired_Dataframe)\n",
        "train_new_features = column_trans.fit_transform(NewDesired_Dataframe)\n",
        "\n",
        "# Define HTML tags for bold text\n",
        "BOLD = '<b>'\n",
        "RESET = '</b>'\n",
        "#Rand Index\n",
        "RandIndex_Score = adjusted_rand_score(NewDesired_Dataframe['category_id'], prediction_labels)\n",
        "display(HTML(f\"{BOLD}Adjusted Rand Index:{RESET}{RandIndex_Score} \"))\n",
        "#Silhouette Score\n",
        "Silhouette_Score = silhouette_score(train_new_features, prediction_labels,metric='euclidean')\n",
        "display(HTML(f\"{BOLD}Silhouette score:{RESET}{Silhouette_Score} \"))"
      ],
      "metadata": {
        "colab": {
          "base_uri": "https://localhost:8080/",
          "height": 210
        },
        "id": "C-uC4L7OraPJ",
        "outputId": "026a7486-77f0-40cd-99e6-1cf722170a91"
      },
      "execution_count": null,
      "outputs": [
        {
          "output_type": "stream",
          "name": "stderr",
          "text": [
            "<ipython-input-10-61ed6a648780>:20: SettingWithCopyWarning: \n",
            "A value is trying to be set on a copy of a slice from a DataFrame.\n",
            "Try using .loc[row_indexer,col_indexer] = value instead\n",
            "\n",
            "See the caveats in the documentation: https://pandas.pydata.org/pandas-docs/stable/user_guide/indexing.html#returning-a-view-versus-a-copy\n",
            "  NewDesired_Dataframe['category_id'] = pd.factorize(NewDesired_Dataframe['category'])[0]\n",
            "/usr/local/lib/python3.10/dist-packages/sklearn/cluster/_kmeans.py:870: FutureWarning: The default value of `n_init` will change from 10 to 'auto' in 1.4. Set the value of `n_init` explicitly to suppress the warning\n",
            "  warnings.warn(\n"
          ]
        },
        {
          "output_type": "display_data",
          "data": {
            "text/plain": [
              "<IPython.core.display.HTML object>"
            ],
            "text/html": [
              "<b>Adjusted Rand Index:</b>0.9989335713831902 "
            ]
          },
          "metadata": {}
        },
        {
          "output_type": "display_data",
          "data": {
            "text/plain": [
              "<IPython.core.display.HTML object>"
            ],
            "text/html": [
              "<b>Silhouette score:</b>0.25034337189788597 "
            ]
          },
          "metadata": {}
        }
      ]
    }
  ]
}