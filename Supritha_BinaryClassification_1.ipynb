{
  "nbformat": 4,
  "nbformat_minor": 0,
  "metadata": {
    "colab": {
      "provenance": []
    },
    "kernelspec": {
      "name": "python3",
      "display_name": "Python 3"
    },
    "language_info": {
      "name": "python"
    }
  },
  "cells": [
    {
      "cell_type": "code",
      "execution_count": null,
      "metadata": {
        "id": "ad_tPvDodv0H"
      },
      "outputs": [],
      "source": [
        "import pandas as pd\n",
        "# upload Training.csv and Test.csv from the kaggle competition!\n",
        "Training_Data = pd.read_csv('Training.csv')\n",
        "Testing_Data = pd.read_csv('Test.csv')\n",
        "cutoff=1"
      ]
    },
    {
      "cell_type": "code",
      "source": [
        "#All the required library importing\n",
        "from sklearn import linear_model\n",
        "import numpy as np\n",
        "import matplotlib.pyplot as plt\n",
        "from sklearn.metrics import f1_score\n",
        "from sklearn.linear_model import LogisticRegression\n",
        "from sklearn.model_selection import train_test_split\n",
        "from sklearn.feature_extraction.text import CountVectorizer"
      ],
      "metadata": {
        "id": "5pu9Eg4TfLZ3"
      },
      "execution_count": null,
      "outputs": []
    },
    {
      "cell_type": "code",
      "source": [
        "#Preprocessing data\n",
        "def data_encoder(dataset):\n",
        "  dataset['category'] = dataset.category.astype('category')\n",
        "  dataset['vote'] = np.where(np.isfinite(dataset.vote),dataset.vote,-1)\n",
        "  dataset['vote'] = dataset.vote.astype('int')\n",
        "  return dataset"
      ],
      "metadata": {
        "id": "uIJmVIryfUgr"
      },
      "execution_count": null,
      "outputs": []
    },
    {
      "cell_type": "code",
      "source": [
        "#New dataframes with processed features\n",
        "def create_dataframe(dataset, train = True):\n",
        "    dataframe = pd.DataFrame(\n",
        "    {'summary': dataset['summary'],\n",
        "    'reviewText': dataset['reviewText'],\n",
        "    'category': dataset['category'],\n",
        "    'vote': dataset['vote']})\n",
        "\n",
        "    if train == True :\n",
        "      dataframe['overall'] = dataset['overall']\n",
        "    dataframe = dataframe.replace(np.nan, '')\n",
        "    return dataframe"
      ],
      "metadata": {
        "id": "opxNen51fYrm"
      },
      "execution_count": null,
      "outputs": []
    },
    {
      "cell_type": "code",
      "source": [
        "#Column transofrmer: to process the different features\n",
        "from sklearn.compose import ColumnTransformer\n",
        "#CountVectorizer:for text features\n",
        "from sklearn.feature_extraction.text import CountVectorizer\n",
        "#OneHotEncoder: for everything else\n",
        "from sklearn.preprocessing import OneHotEncoder\n",
        "\n",
        "column_trans = ColumnTransformer([\n",
        "    ('summary_tf', CountVectorizer(),'summary'),\n",
        "    ('review_tf', CountVectorizer(),'reviewText'),\n",
        "    ('category_tf', OneHotEncoder(dtype='int',handle_unknown='ignore'),['category']),\n",
        "    ('vote_tf', OneHotEncoder(dtype='int',handle_unknown='ignore'),['vote'])],remainder='passthrough', verbose_feature_names_out=True)"
      ],
      "metadata": {
        "id": "LhFDH66RfpzP"
      },
      "execution_count": null,
      "outputs": []
    },
    {
      "cell_type": "code",
      "source": [
        "#Model-1 (tuned hyper-parameters)\n",
        "from sklearn.linear_model import LogisticRegression\n",
        "LogRegCLF_1 = LogisticRegression(random_state=2, solver='liblinear', C=0.5, penalty='l2', max_iter=50)"
      ],
      "metadata": {
        "id": "FdndABF9fwep"
      },
      "execution_count": null,
      "outputs": []
    },
    {
      "cell_type": "code",
      "source": [
        "#Model-2 (tuned hyper-parameters)\n",
        "from sklearn.tree import DecisionTreeClassifier\n",
        "DecTreeCLF_2 = DecisionTreeClassifier(random_state=2, max_depth =5, splitter='random')"
      ],
      "metadata": {
        "id": "4w06jMMKfxt2"
      },
      "execution_count": null,
      "outputs": []
    },
    {
      "cell_type": "code",
      "source": [
        "#Model-3 (tuned hyper-parameters)\n",
        "from sklearn.ensemble import RandomForestClassifier\n",
        "RanForestCLF_3 = RandomForestClassifier(max_depth=None, max_features=0.4,  random_state=2)"
      ],
      "metadata": {
        "id": "5yWgxxvKf24l"
      },
      "execution_count": null,
      "outputs": []
    },
    {
      "cell_type": "code",
      "source": [
        "#Pipelines: to give preeprocessed data to Classifiers\n",
        "from sklearn.pipeline import Pipeline\n",
        "\n",
        "CLFPipeline_1 = Pipeline(steps=[\n",
        "    ('column_trans', column_trans),\n",
        "    ('model', LogRegCLF_1)\n",
        "])\n",
        "\n",
        "CLFPipeline_2 = Pipeline(steps=[\n",
        "    ('column_trans', column_trans),\n",
        "    ('model', DecTreeCLF_2)\n",
        "])\n",
        "\n",
        "CLFPipeline_3 = Pipeline(steps=[\n",
        "    ('column_trans', column_trans),\n",
        "    ('model', RanForestCLF_3)\n",
        "])"
      ],
      "metadata": {
        "id": "3laItgEyf5uY"
      },
      "execution_count": null,
      "outputs": []
    },
    {
      "cell_type": "code",
      "source": [
        "#Printing values from each pipleine\n",
        "print(CLFPipeline_1.get_params())\n",
        "print(CLFPipeline_2.get_params())\n",
        "print(CLFPipeline_3.get_params())"
      ],
      "metadata": {
        "colab": {
          "base_uri": "https://localhost:8080/"
        },
        "id": "hrdX2ul1f8FR",
        "outputId": "ff6e42de-cff9-4497-848a-116b781d1ddf"
      },
      "execution_count": null,
      "outputs": [
        {
          "output_type": "stream",
          "name": "stdout",
          "text": [
            "{'memory': None, 'steps': [('column_trans', ColumnTransformer(remainder='passthrough',\n",
            "                  transformers=[('summary_tf', CountVectorizer(), 'summary'),\n",
            "                                ('review_tf', CountVectorizer(), 'reviewText'),\n",
            "                                ('category_tf',\n",
            "                                 OneHotEncoder(dtype='int',\n",
            "                                               handle_unknown='ignore'),\n",
            "                                 ['category']),\n",
            "                                ('vote_tf',\n",
            "                                 OneHotEncoder(dtype='int',\n",
            "                                               handle_unknown='ignore'),\n",
            "                                 ['vote'])])), ('model', LogisticRegression(C=0.5, max_iter=50, random_state=2, solver='liblinear'))], 'verbose': False, 'column_trans': ColumnTransformer(remainder='passthrough',\n",
            "                  transformers=[('summary_tf', CountVectorizer(), 'summary'),\n",
            "                                ('review_tf', CountVectorizer(), 'reviewText'),\n",
            "                                ('category_tf',\n",
            "                                 OneHotEncoder(dtype='int',\n",
            "                                               handle_unknown='ignore'),\n",
            "                                 ['category']),\n",
            "                                ('vote_tf',\n",
            "                                 OneHotEncoder(dtype='int',\n",
            "                                               handle_unknown='ignore'),\n",
            "                                 ['vote'])]), 'model': LogisticRegression(C=0.5, max_iter=50, random_state=2, solver='liblinear'), 'column_trans__n_jobs': None, 'column_trans__remainder': 'passthrough', 'column_trans__sparse_threshold': 0.3, 'column_trans__transformer_weights': None, 'column_trans__transformers': [('summary_tf', CountVectorizer(), 'summary'), ('review_tf', CountVectorizer(), 'reviewText'), ('category_tf', OneHotEncoder(dtype='int', handle_unknown='ignore'), ['category']), ('vote_tf', OneHotEncoder(dtype='int', handle_unknown='ignore'), ['vote'])], 'column_trans__verbose': False, 'column_trans__verbose_feature_names_out': True, 'column_trans__summary_tf': CountVectorizer(), 'column_trans__review_tf': CountVectorizer(), 'column_trans__category_tf': OneHotEncoder(dtype='int', handle_unknown='ignore'), 'column_trans__vote_tf': OneHotEncoder(dtype='int', handle_unknown='ignore'), 'column_trans__summary_tf__analyzer': 'word', 'column_trans__summary_tf__binary': False, 'column_trans__summary_tf__decode_error': 'strict', 'column_trans__summary_tf__dtype': <class 'numpy.int64'>, 'column_trans__summary_tf__encoding': 'utf-8', 'column_trans__summary_tf__input': 'content', 'column_trans__summary_tf__lowercase': True, 'column_trans__summary_tf__max_df': 1.0, 'column_trans__summary_tf__max_features': None, 'column_trans__summary_tf__min_df': 1, 'column_trans__summary_tf__ngram_range': (1, 1), 'column_trans__summary_tf__preprocessor': None, 'column_trans__summary_tf__stop_words': None, 'column_trans__summary_tf__strip_accents': None, 'column_trans__summary_tf__token_pattern': '(?u)\\\\b\\\\w\\\\w+\\\\b', 'column_trans__summary_tf__tokenizer': None, 'column_trans__summary_tf__vocabulary': None, 'column_trans__review_tf__analyzer': 'word', 'column_trans__review_tf__binary': False, 'column_trans__review_tf__decode_error': 'strict', 'column_trans__review_tf__dtype': <class 'numpy.int64'>, 'column_trans__review_tf__encoding': 'utf-8', 'column_trans__review_tf__input': 'content', 'column_trans__review_tf__lowercase': True, 'column_trans__review_tf__max_df': 1.0, 'column_trans__review_tf__max_features': None, 'column_trans__review_tf__min_df': 1, 'column_trans__review_tf__ngram_range': (1, 1), 'column_trans__review_tf__preprocessor': None, 'column_trans__review_tf__stop_words': None, 'column_trans__review_tf__strip_accents': None, 'column_trans__review_tf__token_pattern': '(?u)\\\\b\\\\w\\\\w+\\\\b', 'column_trans__review_tf__tokenizer': None, 'column_trans__review_tf__vocabulary': None, 'column_trans__category_tf__categories': 'auto', 'column_trans__category_tf__drop': None, 'column_trans__category_tf__dtype': 'int', 'column_trans__category_tf__handle_unknown': 'ignore', 'column_trans__category_tf__max_categories': None, 'column_trans__category_tf__min_frequency': None, 'column_trans__category_tf__sparse': 'deprecated', 'column_trans__category_tf__sparse_output': True, 'column_trans__vote_tf__categories': 'auto', 'column_trans__vote_tf__drop': None, 'column_trans__vote_tf__dtype': 'int', 'column_trans__vote_tf__handle_unknown': 'ignore', 'column_trans__vote_tf__max_categories': None, 'column_trans__vote_tf__min_frequency': None, 'column_trans__vote_tf__sparse': 'deprecated', 'column_trans__vote_tf__sparse_output': True, 'model__C': 0.5, 'model__class_weight': None, 'model__dual': False, 'model__fit_intercept': True, 'model__intercept_scaling': 1, 'model__l1_ratio': None, 'model__max_iter': 50, 'model__multi_class': 'auto', 'model__n_jobs': None, 'model__penalty': 'l2', 'model__random_state': 2, 'model__solver': 'liblinear', 'model__tol': 0.0001, 'model__verbose': 0, 'model__warm_start': False}\n",
            "{'memory': None, 'steps': [('column_trans', ColumnTransformer(remainder='passthrough',\n",
            "                  transformers=[('summary_tf', CountVectorizer(), 'summary'),\n",
            "                                ('review_tf', CountVectorizer(), 'reviewText'),\n",
            "                                ('category_tf',\n",
            "                                 OneHotEncoder(dtype='int',\n",
            "                                               handle_unknown='ignore'),\n",
            "                                 ['category']),\n",
            "                                ('vote_tf',\n",
            "                                 OneHotEncoder(dtype='int',\n",
            "                                               handle_unknown='ignore'),\n",
            "                                 ['vote'])])), ('model', DecisionTreeClassifier(max_depth=5, random_state=2, splitter='random'))], 'verbose': False, 'column_trans': ColumnTransformer(remainder='passthrough',\n",
            "                  transformers=[('summary_tf', CountVectorizer(), 'summary'),\n",
            "                                ('review_tf', CountVectorizer(), 'reviewText'),\n",
            "                                ('category_tf',\n",
            "                                 OneHotEncoder(dtype='int',\n",
            "                                               handle_unknown='ignore'),\n",
            "                                 ['category']),\n",
            "                                ('vote_tf',\n",
            "                                 OneHotEncoder(dtype='int',\n",
            "                                               handle_unknown='ignore'),\n",
            "                                 ['vote'])]), 'model': DecisionTreeClassifier(max_depth=5, random_state=2, splitter='random'), 'column_trans__n_jobs': None, 'column_trans__remainder': 'passthrough', 'column_trans__sparse_threshold': 0.3, 'column_trans__transformer_weights': None, 'column_trans__transformers': [('summary_tf', CountVectorizer(), 'summary'), ('review_tf', CountVectorizer(), 'reviewText'), ('category_tf', OneHotEncoder(dtype='int', handle_unknown='ignore'), ['category']), ('vote_tf', OneHotEncoder(dtype='int', handle_unknown='ignore'), ['vote'])], 'column_trans__verbose': False, 'column_trans__verbose_feature_names_out': True, 'column_trans__summary_tf': CountVectorizer(), 'column_trans__review_tf': CountVectorizer(), 'column_trans__category_tf': OneHotEncoder(dtype='int', handle_unknown='ignore'), 'column_trans__vote_tf': OneHotEncoder(dtype='int', handle_unknown='ignore'), 'column_trans__summary_tf__analyzer': 'word', 'column_trans__summary_tf__binary': False, 'column_trans__summary_tf__decode_error': 'strict', 'column_trans__summary_tf__dtype': <class 'numpy.int64'>, 'column_trans__summary_tf__encoding': 'utf-8', 'column_trans__summary_tf__input': 'content', 'column_trans__summary_tf__lowercase': True, 'column_trans__summary_tf__max_df': 1.0, 'column_trans__summary_tf__max_features': None, 'column_trans__summary_tf__min_df': 1, 'column_trans__summary_tf__ngram_range': (1, 1), 'column_trans__summary_tf__preprocessor': None, 'column_trans__summary_tf__stop_words': None, 'column_trans__summary_tf__strip_accents': None, 'column_trans__summary_tf__token_pattern': '(?u)\\\\b\\\\w\\\\w+\\\\b', 'column_trans__summary_tf__tokenizer': None, 'column_trans__summary_tf__vocabulary': None, 'column_trans__review_tf__analyzer': 'word', 'column_trans__review_tf__binary': False, 'column_trans__review_tf__decode_error': 'strict', 'column_trans__review_tf__dtype': <class 'numpy.int64'>, 'column_trans__review_tf__encoding': 'utf-8', 'column_trans__review_tf__input': 'content', 'column_trans__review_tf__lowercase': True, 'column_trans__review_tf__max_df': 1.0, 'column_trans__review_tf__max_features': None, 'column_trans__review_tf__min_df': 1, 'column_trans__review_tf__ngram_range': (1, 1), 'column_trans__review_tf__preprocessor': None, 'column_trans__review_tf__stop_words': None, 'column_trans__review_tf__strip_accents': None, 'column_trans__review_tf__token_pattern': '(?u)\\\\b\\\\w\\\\w+\\\\b', 'column_trans__review_tf__tokenizer': None, 'column_trans__review_tf__vocabulary': None, 'column_trans__category_tf__categories': 'auto', 'column_trans__category_tf__drop': None, 'column_trans__category_tf__dtype': 'int', 'column_trans__category_tf__handle_unknown': 'ignore', 'column_trans__category_tf__max_categories': None, 'column_trans__category_tf__min_frequency': None, 'column_trans__category_tf__sparse': 'deprecated', 'column_trans__category_tf__sparse_output': True, 'column_trans__vote_tf__categories': 'auto', 'column_trans__vote_tf__drop': None, 'column_trans__vote_tf__dtype': 'int', 'column_trans__vote_tf__handle_unknown': 'ignore', 'column_trans__vote_tf__max_categories': None, 'column_trans__vote_tf__min_frequency': None, 'column_trans__vote_tf__sparse': 'deprecated', 'column_trans__vote_tf__sparse_output': True, 'model__ccp_alpha': 0.0, 'model__class_weight': None, 'model__criterion': 'gini', 'model__max_depth': 5, 'model__max_features': None, 'model__max_leaf_nodes': None, 'model__min_impurity_decrease': 0.0, 'model__min_samples_leaf': 1, 'model__min_samples_split': 2, 'model__min_weight_fraction_leaf': 0.0, 'model__random_state': 2, 'model__splitter': 'random'}\n",
            "{'memory': None, 'steps': [('column_trans', ColumnTransformer(remainder='passthrough',\n",
            "                  transformers=[('summary_tf', CountVectorizer(), 'summary'),\n",
            "                                ('review_tf', CountVectorizer(), 'reviewText'),\n",
            "                                ('category_tf',\n",
            "                                 OneHotEncoder(dtype='int',\n",
            "                                               handle_unknown='ignore'),\n",
            "                                 ['category']),\n",
            "                                ('vote_tf',\n",
            "                                 OneHotEncoder(dtype='int',\n",
            "                                               handle_unknown='ignore'),\n",
            "                                 ['vote'])])), ('model', RandomForestClassifier(max_features=0.4, random_state=2))], 'verbose': False, 'column_trans': ColumnTransformer(remainder='passthrough',\n",
            "                  transformers=[('summary_tf', CountVectorizer(), 'summary'),\n",
            "                                ('review_tf', CountVectorizer(), 'reviewText'),\n",
            "                                ('category_tf',\n",
            "                                 OneHotEncoder(dtype='int',\n",
            "                                               handle_unknown='ignore'),\n",
            "                                 ['category']),\n",
            "                                ('vote_tf',\n",
            "                                 OneHotEncoder(dtype='int',\n",
            "                                               handle_unknown='ignore'),\n",
            "                                 ['vote'])]), 'model': RandomForestClassifier(max_features=0.4, random_state=2), 'column_trans__n_jobs': None, 'column_trans__remainder': 'passthrough', 'column_trans__sparse_threshold': 0.3, 'column_trans__transformer_weights': None, 'column_trans__transformers': [('summary_tf', CountVectorizer(), 'summary'), ('review_tf', CountVectorizer(), 'reviewText'), ('category_tf', OneHotEncoder(dtype='int', handle_unknown='ignore'), ['category']), ('vote_tf', OneHotEncoder(dtype='int', handle_unknown='ignore'), ['vote'])], 'column_trans__verbose': False, 'column_trans__verbose_feature_names_out': True, 'column_trans__summary_tf': CountVectorizer(), 'column_trans__review_tf': CountVectorizer(), 'column_trans__category_tf': OneHotEncoder(dtype='int', handle_unknown='ignore'), 'column_trans__vote_tf': OneHotEncoder(dtype='int', handle_unknown='ignore'), 'column_trans__summary_tf__analyzer': 'word', 'column_trans__summary_tf__binary': False, 'column_trans__summary_tf__decode_error': 'strict', 'column_trans__summary_tf__dtype': <class 'numpy.int64'>, 'column_trans__summary_tf__encoding': 'utf-8', 'column_trans__summary_tf__input': 'content', 'column_trans__summary_tf__lowercase': True, 'column_trans__summary_tf__max_df': 1.0, 'column_trans__summary_tf__max_features': None, 'column_trans__summary_tf__min_df': 1, 'column_trans__summary_tf__ngram_range': (1, 1), 'column_trans__summary_tf__preprocessor': None, 'column_trans__summary_tf__stop_words': None, 'column_trans__summary_tf__strip_accents': None, 'column_trans__summary_tf__token_pattern': '(?u)\\\\b\\\\w\\\\w+\\\\b', 'column_trans__summary_tf__tokenizer': None, 'column_trans__summary_tf__vocabulary': None, 'column_trans__review_tf__analyzer': 'word', 'column_trans__review_tf__binary': False, 'column_trans__review_tf__decode_error': 'strict', 'column_trans__review_tf__dtype': <class 'numpy.int64'>, 'column_trans__review_tf__encoding': 'utf-8', 'column_trans__review_tf__input': 'content', 'column_trans__review_tf__lowercase': True, 'column_trans__review_tf__max_df': 1.0, 'column_trans__review_tf__max_features': None, 'column_trans__review_tf__min_df': 1, 'column_trans__review_tf__ngram_range': (1, 1), 'column_trans__review_tf__preprocessor': None, 'column_trans__review_tf__stop_words': None, 'column_trans__review_tf__strip_accents': None, 'column_trans__review_tf__token_pattern': '(?u)\\\\b\\\\w\\\\w+\\\\b', 'column_trans__review_tf__tokenizer': None, 'column_trans__review_tf__vocabulary': None, 'column_trans__category_tf__categories': 'auto', 'column_trans__category_tf__drop': None, 'column_trans__category_tf__dtype': 'int', 'column_trans__category_tf__handle_unknown': 'ignore', 'column_trans__category_tf__max_categories': None, 'column_trans__category_tf__min_frequency': None, 'column_trans__category_tf__sparse': 'deprecated', 'column_trans__category_tf__sparse_output': True, 'column_trans__vote_tf__categories': 'auto', 'column_trans__vote_tf__drop': None, 'column_trans__vote_tf__dtype': 'int', 'column_trans__vote_tf__handle_unknown': 'ignore', 'column_trans__vote_tf__max_categories': None, 'column_trans__vote_tf__min_frequency': None, 'column_trans__vote_tf__sparse': 'deprecated', 'column_trans__vote_tf__sparse_output': True, 'model__bootstrap': True, 'model__ccp_alpha': 0.0, 'model__class_weight': None, 'model__criterion': 'gini', 'model__max_depth': None, 'model__max_features': 0.4, 'model__max_leaf_nodes': None, 'model__max_samples': None, 'model__min_impurity_decrease': 0.0, 'model__min_samples_leaf': 1, 'model__min_samples_split': 2, 'model__min_weight_fraction_leaf': 0.0, 'model__n_estimators': 100, 'model__n_jobs': None, 'model__oob_score': False, 'model__random_state': 2, 'model__verbose': 0, 'model__warm_start': False}\n"
          ]
        }
      ]
    },
    {
      "cell_type": "code",
      "source": [
        "#Grids for tuning (hyper-parameters)\n",
        "GridParameters_1 = {'model__penalty' : [None, 'l2'],'model__C' : [0.5,0.8,1.3,1.7],'model__max_iter': [50,100,200,400]}\n",
        "GridParameters_2 = {'model__splitter' : ['best', 'random'],'model__max_depth' : [None,5,15]}\n",
        "GridParameters_3 = {'model__max_depth' : [None,3,10],'model__max_features' : ['sqrt', None, 0.4]}"
      ],
      "metadata": {
        "id": "oygqTHr9gClT"
      },
      "execution_count": null,
      "outputs": []
    },
    {
      "cell_type": "code",
      "source": [
        "from sklearn.model_selection import train_test_split\n",
        "\n",
        "TrainingDF = create_dataframe(data_encoder(Training_Data), train=True)\n",
        "X = TrainingDF[['summary','reviewText','vote','category']]\n",
        "y = np.where(TrainingDF['overall']>cutoff,1,0)\n",
        "\n",
        "X_train, X_test, y_train, y_test = train_test_split(X, y, test_size=0.2, random_state=2)"
      ],
      "metadata": {
        "id": "3F9ZY8NXgFoK"
      },
      "execution_count": null,
      "outputs": []
    },
    {
      "cell_type": "code",
      "source": [
        "#Grid Search CV ---> hyper parameter tuning\n",
        "from sklearn.model_selection import GridSearchCV\n",
        "\n",
        "def perform_gridsearch_THP(pipeline, grid_params, model):\n",
        "  GridSearch = GridSearchCV(pipeline, grid_params, scoring='accuracy', verbose=3)\n",
        "  GridSearch.fit(X_train, y_train)\n",
        "\n",
        "  print(\"Best Score: \"+str(GridSearch.best_score_))\n",
        "  print(\"Best Parameters: \"+str(GridSearch.best_params_))\n",
        "  print(\"Test Score: \"+str(GridSearch.score(X_test,y_test)))\n",
        "\n",
        "  return GridSearch"
      ],
      "metadata": {
        "id": "wWg4Yiw6gMoI"
      },
      "execution_count": null,
      "outputs": []
    },
    {
      "cell_type": "code",
      "source": [
        "GridSearch_1= perform_gridsearch_THP(CLFPipeline_1, GridParameters_1, 'Logistic Regression')"
      ],
      "metadata": {
        "colab": {
          "base_uri": "https://localhost:8080/"
        },
        "id": "56JRBhzcgPaH",
        "outputId": "ea75c0e7-32b3-400c-a1fd-eb71b8d28c35"
      },
      "execution_count": null,
      "outputs": [
        {
          "output_type": "stream",
          "name": "stdout",
          "text": [
            "Fitting 5 folds for each of 32 candidates, totalling 160 fits\n"
          ]
        },
        {
          "output_type": "stream",
          "name": "stderr",
          "text": [
            "/usr/local/lib/python3.10/dist-packages/sklearn/linear_model/_logistic.py:1181: UserWarning: Setting penalty=None will ignore the C and l1_ratio parameters\n",
            "  warnings.warn(\n"
          ]
        },
        {
          "output_type": "stream",
          "name": "stdout",
          "text": [
            "[CV 1/5] END model__C=0.5, model__max_iter=50, model__penalty=None;, score=nan total time=   1.2s\n"
          ]
        },
        {
          "output_type": "stream",
          "name": "stderr",
          "text": [
            "/usr/local/lib/python3.10/dist-packages/sklearn/linear_model/_logistic.py:1181: UserWarning: Setting penalty=None will ignore the C and l1_ratio parameters\n",
            "  warnings.warn(\n"
          ]
        },
        {
          "output_type": "stream",
          "name": "stdout",
          "text": [
            "[CV 2/5] END model__C=0.5, model__max_iter=50, model__penalty=None;, score=nan total time=   1.1s\n"
          ]
        },
        {
          "output_type": "stream",
          "name": "stderr",
          "text": [
            "/usr/local/lib/python3.10/dist-packages/sklearn/linear_model/_logistic.py:1181: UserWarning: Setting penalty=None will ignore the C and l1_ratio parameters\n",
            "  warnings.warn(\n"
          ]
        },
        {
          "output_type": "stream",
          "name": "stdout",
          "text": [
            "[CV 3/5] END model__C=0.5, model__max_iter=50, model__penalty=None;, score=nan total time=   1.1s\n"
          ]
        },
        {
          "output_type": "stream",
          "name": "stderr",
          "text": [
            "/usr/local/lib/python3.10/dist-packages/sklearn/linear_model/_logistic.py:1181: UserWarning: Setting penalty=None will ignore the C and l1_ratio parameters\n",
            "  warnings.warn(\n"
          ]
        },
        {
          "output_type": "stream",
          "name": "stdout",
          "text": [
            "[CV 4/5] END model__C=0.5, model__max_iter=50, model__penalty=None;, score=nan total time=   2.1s\n"
          ]
        },
        {
          "output_type": "stream",
          "name": "stderr",
          "text": [
            "/usr/local/lib/python3.10/dist-packages/sklearn/linear_model/_logistic.py:1181: UserWarning: Setting penalty=None will ignore the C and l1_ratio parameters\n",
            "  warnings.warn(\n"
          ]
        },
        {
          "output_type": "stream",
          "name": "stdout",
          "text": [
            "[CV 5/5] END model__C=0.5, model__max_iter=50, model__penalty=None;, score=nan total time=   1.3s\n",
            "[CV 1/5] END model__C=0.5, model__max_iter=50, model__penalty=l2;, score=0.861 total time=   2.9s\n",
            "[CV 2/5] END model__C=0.5, model__max_iter=50, model__penalty=l2;, score=0.858 total time=   3.0s\n",
            "[CV 3/5] END model__C=0.5, model__max_iter=50, model__penalty=l2;, score=0.861 total time=   2.8s\n",
            "[CV 4/5] END model__C=0.5, model__max_iter=50, model__penalty=l2;, score=0.865 total time=   4.5s\n",
            "[CV 5/5] END model__C=0.5, model__max_iter=50, model__penalty=l2;, score=0.865 total time=   3.3s\n"
          ]
        },
        {
          "output_type": "stream",
          "name": "stderr",
          "text": [
            "/usr/local/lib/python3.10/dist-packages/sklearn/linear_model/_logistic.py:1181: UserWarning: Setting penalty=None will ignore the C and l1_ratio parameters\n",
            "  warnings.warn(\n"
          ]
        },
        {
          "output_type": "stream",
          "name": "stdout",
          "text": [
            "[CV 1/5] END model__C=0.5, model__max_iter=100, model__penalty=None;, score=nan total time=   1.1s\n"
          ]
        },
        {
          "output_type": "stream",
          "name": "stderr",
          "text": [
            "/usr/local/lib/python3.10/dist-packages/sklearn/linear_model/_logistic.py:1181: UserWarning: Setting penalty=None will ignore the C and l1_ratio parameters\n",
            "  warnings.warn(\n"
          ]
        },
        {
          "output_type": "stream",
          "name": "stdout",
          "text": [
            "[CV 2/5] END model__C=0.5, model__max_iter=100, model__penalty=None;, score=nan total time=   1.2s\n"
          ]
        },
        {
          "output_type": "stream",
          "name": "stderr",
          "text": [
            "/usr/local/lib/python3.10/dist-packages/sklearn/linear_model/_logistic.py:1181: UserWarning: Setting penalty=None will ignore the C and l1_ratio parameters\n",
            "  warnings.warn(\n"
          ]
        },
        {
          "output_type": "stream",
          "name": "stdout",
          "text": [
            "[CV 3/5] END model__C=0.5, model__max_iter=100, model__penalty=None;, score=nan total time=   1.1s\n"
          ]
        },
        {
          "output_type": "stream",
          "name": "stderr",
          "text": [
            "/usr/local/lib/python3.10/dist-packages/sklearn/linear_model/_logistic.py:1181: UserWarning: Setting penalty=None will ignore the C and l1_ratio parameters\n",
            "  warnings.warn(\n"
          ]
        },
        {
          "output_type": "stream",
          "name": "stdout",
          "text": [
            "[CV 4/5] END model__C=0.5, model__max_iter=100, model__penalty=None;, score=nan total time=   1.2s\n"
          ]
        },
        {
          "output_type": "stream",
          "name": "stderr",
          "text": [
            "/usr/local/lib/python3.10/dist-packages/sklearn/linear_model/_logistic.py:1181: UserWarning: Setting penalty=None will ignore the C and l1_ratio parameters\n",
            "  warnings.warn(\n"
          ]
        },
        {
          "output_type": "stream",
          "name": "stdout",
          "text": [
            "[CV 5/5] END model__C=0.5, model__max_iter=100, model__penalty=None;, score=nan total time=   1.6s\n",
            "[CV 1/5] END model__C=0.5, model__max_iter=100, model__penalty=l2;, score=0.861 total time=   3.8s\n",
            "[CV 2/5] END model__C=0.5, model__max_iter=100, model__penalty=l2;, score=0.858 total time=   3.2s\n",
            "[CV 3/5] END model__C=0.5, model__max_iter=100, model__penalty=l2;, score=0.861 total time=   2.8s\n",
            "[CV 4/5] END model__C=0.5, model__max_iter=100, model__penalty=l2;, score=0.865 total time=   4.3s\n",
            "[CV 5/5] END model__C=0.5, model__max_iter=100, model__penalty=l2;, score=0.865 total time=   3.9s\n"
          ]
        },
        {
          "output_type": "stream",
          "name": "stderr",
          "text": [
            "/usr/local/lib/python3.10/dist-packages/sklearn/linear_model/_logistic.py:1181: UserWarning: Setting penalty=None will ignore the C and l1_ratio parameters\n",
            "  warnings.warn(\n"
          ]
        },
        {
          "output_type": "stream",
          "name": "stdout",
          "text": [
            "[CV 1/5] END model__C=0.5, model__max_iter=200, model__penalty=None;, score=nan total time=   1.4s\n"
          ]
        },
        {
          "output_type": "stream",
          "name": "stderr",
          "text": [
            "/usr/local/lib/python3.10/dist-packages/sklearn/linear_model/_logistic.py:1181: UserWarning: Setting penalty=None will ignore the C and l1_ratio parameters\n",
            "  warnings.warn(\n"
          ]
        },
        {
          "output_type": "stream",
          "name": "stdout",
          "text": [
            "[CV 2/5] END model__C=0.5, model__max_iter=200, model__penalty=None;, score=nan total time=   1.2s\n"
          ]
        },
        {
          "output_type": "stream",
          "name": "stderr",
          "text": [
            "/usr/local/lib/python3.10/dist-packages/sklearn/linear_model/_logistic.py:1181: UserWarning: Setting penalty=None will ignore the C and l1_ratio parameters\n",
            "  warnings.warn(\n"
          ]
        },
        {
          "output_type": "stream",
          "name": "stdout",
          "text": [
            "[CV 3/5] END model__C=0.5, model__max_iter=200, model__penalty=None;, score=nan total time=   1.2s\n"
          ]
        },
        {
          "output_type": "stream",
          "name": "stderr",
          "text": [
            "/usr/local/lib/python3.10/dist-packages/sklearn/linear_model/_logistic.py:1181: UserWarning: Setting penalty=None will ignore the C and l1_ratio parameters\n",
            "  warnings.warn(\n"
          ]
        },
        {
          "output_type": "stream",
          "name": "stdout",
          "text": [
            "[CV 4/5] END model__C=0.5, model__max_iter=200, model__penalty=None;, score=nan total time=   1.2s\n"
          ]
        },
        {
          "output_type": "stream",
          "name": "stderr",
          "text": [
            "/usr/local/lib/python3.10/dist-packages/sklearn/linear_model/_logistic.py:1181: UserWarning: Setting penalty=None will ignore the C and l1_ratio parameters\n",
            "  warnings.warn(\n"
          ]
        },
        {
          "output_type": "stream",
          "name": "stdout",
          "text": [
            "[CV 5/5] END model__C=0.5, model__max_iter=200, model__penalty=None;, score=nan total time=   1.2s\n",
            "[CV 1/5] END model__C=0.5, model__max_iter=200, model__penalty=l2;, score=0.861 total time=   4.2s\n",
            "[CV 2/5] END model__C=0.5, model__max_iter=200, model__penalty=l2;, score=0.858 total time=   3.2s\n",
            "[CV 3/5] END model__C=0.5, model__max_iter=200, model__penalty=l2;, score=0.861 total time=   2.9s\n",
            "[CV 4/5] END model__C=0.5, model__max_iter=200, model__penalty=l2;, score=0.865 total time=   5.7s\n",
            "[CV 5/5] END model__C=0.5, model__max_iter=200, model__penalty=l2;, score=0.865 total time=   4.0s\n"
          ]
        },
        {
          "output_type": "stream",
          "name": "stderr",
          "text": [
            "/usr/local/lib/python3.10/dist-packages/sklearn/linear_model/_logistic.py:1181: UserWarning: Setting penalty=None will ignore the C and l1_ratio parameters\n",
            "  warnings.warn(\n"
          ]
        },
        {
          "output_type": "stream",
          "name": "stdout",
          "text": [
            "[CV 1/5] END model__C=0.5, model__max_iter=400, model__penalty=None;, score=nan total time=   1.2s\n"
          ]
        },
        {
          "output_type": "stream",
          "name": "stderr",
          "text": [
            "/usr/local/lib/python3.10/dist-packages/sklearn/linear_model/_logistic.py:1181: UserWarning: Setting penalty=None will ignore the C and l1_ratio parameters\n",
            "  warnings.warn(\n"
          ]
        },
        {
          "output_type": "stream",
          "name": "stdout",
          "text": [
            "[CV 2/5] END model__C=0.5, model__max_iter=400, model__penalty=None;, score=nan total time=   1.2s\n"
          ]
        },
        {
          "output_type": "stream",
          "name": "stderr",
          "text": [
            "/usr/local/lib/python3.10/dist-packages/sklearn/linear_model/_logistic.py:1181: UserWarning: Setting penalty=None will ignore the C and l1_ratio parameters\n",
            "  warnings.warn(\n"
          ]
        },
        {
          "output_type": "stream",
          "name": "stdout",
          "text": [
            "[CV 3/5] END model__C=0.5, model__max_iter=400, model__penalty=None;, score=nan total time=   1.2s\n"
          ]
        },
        {
          "output_type": "stream",
          "name": "stderr",
          "text": [
            "/usr/local/lib/python3.10/dist-packages/sklearn/linear_model/_logistic.py:1181: UserWarning: Setting penalty=None will ignore the C and l1_ratio parameters\n",
            "  warnings.warn(\n"
          ]
        },
        {
          "output_type": "stream",
          "name": "stdout",
          "text": [
            "[CV 4/5] END model__C=0.5, model__max_iter=400, model__penalty=None;, score=nan total time=   1.2s\n"
          ]
        },
        {
          "output_type": "stream",
          "name": "stderr",
          "text": [
            "/usr/local/lib/python3.10/dist-packages/sklearn/linear_model/_logistic.py:1181: UserWarning: Setting penalty=None will ignore the C and l1_ratio parameters\n",
            "  warnings.warn(\n"
          ]
        },
        {
          "output_type": "stream",
          "name": "stdout",
          "text": [
            "[CV 5/5] END model__C=0.5, model__max_iter=400, model__penalty=None;, score=nan total time=   1.3s\n",
            "[CV 1/5] END model__C=0.5, model__max_iter=400, model__penalty=l2;, score=0.861 total time=   4.2s\n",
            "[CV 2/5] END model__C=0.5, model__max_iter=400, model__penalty=l2;, score=0.858 total time=   3.1s\n",
            "[CV 3/5] END model__C=0.5, model__max_iter=400, model__penalty=l2;, score=0.861 total time=   2.9s\n",
            "[CV 4/5] END model__C=0.5, model__max_iter=400, model__penalty=l2;, score=0.865 total time=   3.9s\n",
            "[CV 5/5] END model__C=0.5, model__max_iter=400, model__penalty=l2;, score=0.865 total time=   3.9s\n"
          ]
        },
        {
          "output_type": "stream",
          "name": "stderr",
          "text": [
            "/usr/local/lib/python3.10/dist-packages/sklearn/linear_model/_logistic.py:1181: UserWarning: Setting penalty=None will ignore the C and l1_ratio parameters\n",
            "  warnings.warn(\n"
          ]
        },
        {
          "output_type": "stream",
          "name": "stdout",
          "text": [
            "[CV 1/5] END model__C=0.8, model__max_iter=50, model__penalty=None;, score=nan total time=   1.2s\n"
          ]
        },
        {
          "output_type": "stream",
          "name": "stderr",
          "text": [
            "/usr/local/lib/python3.10/dist-packages/sklearn/linear_model/_logistic.py:1181: UserWarning: Setting penalty=None will ignore the C and l1_ratio parameters\n",
            "  warnings.warn(\n"
          ]
        },
        {
          "output_type": "stream",
          "name": "stdout",
          "text": [
            "[CV 2/5] END model__C=0.8, model__max_iter=50, model__penalty=None;, score=nan total time=   1.2s\n"
          ]
        },
        {
          "output_type": "stream",
          "name": "stderr",
          "text": [
            "/usr/local/lib/python3.10/dist-packages/sklearn/linear_model/_logistic.py:1181: UserWarning: Setting penalty=None will ignore the C and l1_ratio parameters\n",
            "  warnings.warn(\n"
          ]
        },
        {
          "output_type": "stream",
          "name": "stdout",
          "text": [
            "[CV 3/5] END model__C=0.8, model__max_iter=50, model__penalty=None;, score=nan total time=   1.2s\n"
          ]
        },
        {
          "output_type": "stream",
          "name": "stderr",
          "text": [
            "/usr/local/lib/python3.10/dist-packages/sklearn/linear_model/_logistic.py:1181: UserWarning: Setting penalty=None will ignore the C and l1_ratio parameters\n",
            "  warnings.warn(\n"
          ]
        },
        {
          "output_type": "stream",
          "name": "stdout",
          "text": [
            "[CV 4/5] END model__C=0.8, model__max_iter=50, model__penalty=None;, score=nan total time=   1.2s\n"
          ]
        },
        {
          "output_type": "stream",
          "name": "stderr",
          "text": [
            "/usr/local/lib/python3.10/dist-packages/sklearn/linear_model/_logistic.py:1181: UserWarning: Setting penalty=None will ignore the C and l1_ratio parameters\n",
            "  warnings.warn(\n"
          ]
        },
        {
          "output_type": "stream",
          "name": "stdout",
          "text": [
            "[CV 5/5] END model__C=0.8, model__max_iter=50, model__penalty=None;, score=nan total time=   1.2s\n",
            "[CV 1/5] END model__C=0.8, model__max_iter=50, model__penalty=l2;, score=0.859 total time=   5.1s\n",
            "[CV 2/5] END model__C=0.8, model__max_iter=50, model__penalty=l2;, score=0.860 total time=   3.5s\n",
            "[CV 3/5] END model__C=0.8, model__max_iter=50, model__penalty=l2;, score=0.860 total time=   3.6s\n",
            "[CV 4/5] END model__C=0.8, model__max_iter=50, model__penalty=l2;, score=0.864 total time=   5.0s\n",
            "[CV 5/5] END model__C=0.8, model__max_iter=50, model__penalty=l2;, score=0.863 total time=   3.4s\n"
          ]
        },
        {
          "output_type": "stream",
          "name": "stderr",
          "text": [
            "/usr/local/lib/python3.10/dist-packages/sklearn/linear_model/_logistic.py:1181: UserWarning: Setting penalty=None will ignore the C and l1_ratio parameters\n",
            "  warnings.warn(\n"
          ]
        },
        {
          "output_type": "stream",
          "name": "stdout",
          "text": [
            "[CV 1/5] END model__C=0.8, model__max_iter=100, model__penalty=None;, score=nan total time=   1.2s\n"
          ]
        },
        {
          "output_type": "stream",
          "name": "stderr",
          "text": [
            "/usr/local/lib/python3.10/dist-packages/sklearn/linear_model/_logistic.py:1181: UserWarning: Setting penalty=None will ignore the C and l1_ratio parameters\n",
            "  warnings.warn(\n"
          ]
        },
        {
          "output_type": "stream",
          "name": "stdout",
          "text": [
            "[CV 2/5] END model__C=0.8, model__max_iter=100, model__penalty=None;, score=nan total time=   1.2s\n"
          ]
        },
        {
          "output_type": "stream",
          "name": "stderr",
          "text": [
            "/usr/local/lib/python3.10/dist-packages/sklearn/linear_model/_logistic.py:1181: UserWarning: Setting penalty=None will ignore the C and l1_ratio parameters\n",
            "  warnings.warn(\n"
          ]
        },
        {
          "output_type": "stream",
          "name": "stdout",
          "text": [
            "[CV 3/5] END model__C=0.8, model__max_iter=100, model__penalty=None;, score=nan total time=   1.2s\n"
          ]
        },
        {
          "output_type": "stream",
          "name": "stderr",
          "text": [
            "/usr/local/lib/python3.10/dist-packages/sklearn/linear_model/_logistic.py:1181: UserWarning: Setting penalty=None will ignore the C and l1_ratio parameters\n",
            "  warnings.warn(\n"
          ]
        },
        {
          "output_type": "stream",
          "name": "stdout",
          "text": [
            "[CV 4/5] END model__C=0.8, model__max_iter=100, model__penalty=None;, score=nan total time=   1.2s\n"
          ]
        },
        {
          "output_type": "stream",
          "name": "stderr",
          "text": [
            "/usr/local/lib/python3.10/dist-packages/sklearn/linear_model/_logistic.py:1181: UserWarning: Setting penalty=None will ignore the C and l1_ratio parameters\n",
            "  warnings.warn(\n"
          ]
        },
        {
          "output_type": "stream",
          "name": "stdout",
          "text": [
            "[CV 5/5] END model__C=0.8, model__max_iter=100, model__penalty=None;, score=nan total time=   1.1s\n",
            "[CV 1/5] END model__C=0.8, model__max_iter=100, model__penalty=l2;, score=0.859 total time=   4.8s\n",
            "[CV 2/5] END model__C=0.8, model__max_iter=100, model__penalty=l2;, score=0.860 total time=   3.4s\n",
            "[CV 3/5] END model__C=0.8, model__max_iter=100, model__penalty=l2;, score=0.860 total time=   3.6s\n",
            "[CV 4/5] END model__C=0.8, model__max_iter=100, model__penalty=l2;, score=0.864 total time=   5.1s\n",
            "[CV 5/5] END model__C=0.8, model__max_iter=100, model__penalty=l2;, score=0.863 total time=   3.4s\n"
          ]
        },
        {
          "output_type": "stream",
          "name": "stderr",
          "text": [
            "/usr/local/lib/python3.10/dist-packages/sklearn/linear_model/_logistic.py:1181: UserWarning: Setting penalty=None will ignore the C and l1_ratio parameters\n",
            "  warnings.warn(\n"
          ]
        },
        {
          "output_type": "stream",
          "name": "stdout",
          "text": [
            "[CV 1/5] END model__C=0.8, model__max_iter=200, model__penalty=None;, score=nan total time=   1.2s\n"
          ]
        },
        {
          "output_type": "stream",
          "name": "stderr",
          "text": [
            "/usr/local/lib/python3.10/dist-packages/sklearn/linear_model/_logistic.py:1181: UserWarning: Setting penalty=None will ignore the C and l1_ratio parameters\n",
            "  warnings.warn(\n"
          ]
        },
        {
          "output_type": "stream",
          "name": "stdout",
          "text": [
            "[CV 2/5] END model__C=0.8, model__max_iter=200, model__penalty=None;, score=nan total time=   1.2s\n"
          ]
        },
        {
          "output_type": "stream",
          "name": "stderr",
          "text": [
            "/usr/local/lib/python3.10/dist-packages/sklearn/linear_model/_logistic.py:1181: UserWarning: Setting penalty=None will ignore the C and l1_ratio parameters\n",
            "  warnings.warn(\n"
          ]
        },
        {
          "output_type": "stream",
          "name": "stdout",
          "text": [
            "[CV 3/5] END model__C=0.8, model__max_iter=200, model__penalty=None;, score=nan total time=   1.2s\n"
          ]
        },
        {
          "output_type": "stream",
          "name": "stderr",
          "text": [
            "/usr/local/lib/python3.10/dist-packages/sklearn/linear_model/_logistic.py:1181: UserWarning: Setting penalty=None will ignore the C and l1_ratio parameters\n",
            "  warnings.warn(\n"
          ]
        },
        {
          "output_type": "stream",
          "name": "stdout",
          "text": [
            "[CV 4/5] END model__C=0.8, model__max_iter=200, model__penalty=None;, score=nan total time=   1.2s\n"
          ]
        },
        {
          "output_type": "stream",
          "name": "stderr",
          "text": [
            "/usr/local/lib/python3.10/dist-packages/sklearn/linear_model/_logistic.py:1181: UserWarning: Setting penalty=None will ignore the C and l1_ratio parameters\n",
            "  warnings.warn(\n"
          ]
        },
        {
          "output_type": "stream",
          "name": "stdout",
          "text": [
            "[CV 5/5] END model__C=0.8, model__max_iter=200, model__penalty=None;, score=nan total time=   1.2s\n",
            "[CV 1/5] END model__C=0.8, model__max_iter=200, model__penalty=l2;, score=0.859 total time=   4.8s\n",
            "[CV 2/5] END model__C=0.8, model__max_iter=200, model__penalty=l2;, score=0.860 total time=   3.3s\n",
            "[CV 3/5] END model__C=0.8, model__max_iter=200, model__penalty=l2;, score=0.860 total time=   3.5s\n",
            "[CV 4/5] END model__C=0.8, model__max_iter=200, model__penalty=l2;, score=0.864 total time=   4.9s\n",
            "[CV 5/5] END model__C=0.8, model__max_iter=200, model__penalty=l2;, score=0.863 total time=   3.4s\n"
          ]
        },
        {
          "output_type": "stream",
          "name": "stderr",
          "text": [
            "/usr/local/lib/python3.10/dist-packages/sklearn/linear_model/_logistic.py:1181: UserWarning: Setting penalty=None will ignore the C and l1_ratio parameters\n",
            "  warnings.warn(\n"
          ]
        },
        {
          "output_type": "stream",
          "name": "stdout",
          "text": [
            "[CV 1/5] END model__C=0.8, model__max_iter=400, model__penalty=None;, score=nan total time=   1.1s\n"
          ]
        },
        {
          "output_type": "stream",
          "name": "stderr",
          "text": [
            "/usr/local/lib/python3.10/dist-packages/sklearn/linear_model/_logistic.py:1181: UserWarning: Setting penalty=None will ignore the C and l1_ratio parameters\n",
            "  warnings.warn(\n"
          ]
        },
        {
          "output_type": "stream",
          "name": "stdout",
          "text": [
            "[CV 2/5] END model__C=0.8, model__max_iter=400, model__penalty=None;, score=nan total time=   1.2s\n"
          ]
        },
        {
          "output_type": "stream",
          "name": "stderr",
          "text": [
            "/usr/local/lib/python3.10/dist-packages/sklearn/linear_model/_logistic.py:1181: UserWarning: Setting penalty=None will ignore the C and l1_ratio parameters\n",
            "  warnings.warn(\n"
          ]
        },
        {
          "output_type": "stream",
          "name": "stdout",
          "text": [
            "[CV 3/5] END model__C=0.8, model__max_iter=400, model__penalty=None;, score=nan total time=   1.2s\n"
          ]
        },
        {
          "output_type": "stream",
          "name": "stderr",
          "text": [
            "/usr/local/lib/python3.10/dist-packages/sklearn/linear_model/_logistic.py:1181: UserWarning: Setting penalty=None will ignore the C and l1_ratio parameters\n",
            "  warnings.warn(\n"
          ]
        },
        {
          "output_type": "stream",
          "name": "stdout",
          "text": [
            "[CV 4/5] END model__C=0.8, model__max_iter=400, model__penalty=None;, score=nan total time=   1.2s\n"
          ]
        },
        {
          "output_type": "stream",
          "name": "stderr",
          "text": [
            "/usr/local/lib/python3.10/dist-packages/sklearn/linear_model/_logistic.py:1181: UserWarning: Setting penalty=None will ignore the C and l1_ratio parameters\n",
            "  warnings.warn(\n"
          ]
        },
        {
          "output_type": "stream",
          "name": "stdout",
          "text": [
            "[CV 5/5] END model__C=0.8, model__max_iter=400, model__penalty=None;, score=nan total time=   1.5s\n",
            "[CV 1/5] END model__C=0.8, model__max_iter=400, model__penalty=l2;, score=0.859 total time=   4.3s\n",
            "[CV 2/5] END model__C=0.8, model__max_iter=400, model__penalty=l2;, score=0.860 total time=   3.3s\n",
            "[CV 3/5] END model__C=0.8, model__max_iter=400, model__penalty=l2;, score=0.860 total time=   3.4s\n",
            "[CV 4/5] END model__C=0.8, model__max_iter=400, model__penalty=l2;, score=0.864 total time=   4.6s\n",
            "[CV 5/5] END model__C=0.8, model__max_iter=400, model__penalty=l2;, score=0.863 total time=   3.3s\n"
          ]
        },
        {
          "output_type": "stream",
          "name": "stderr",
          "text": [
            "/usr/local/lib/python3.10/dist-packages/sklearn/linear_model/_logistic.py:1181: UserWarning: Setting penalty=None will ignore the C and l1_ratio parameters\n",
            "  warnings.warn(\n"
          ]
        },
        {
          "output_type": "stream",
          "name": "stdout",
          "text": [
            "[CV 1/5] END model__C=1.3, model__max_iter=50, model__penalty=None;, score=nan total time=   1.2s\n"
          ]
        },
        {
          "output_type": "stream",
          "name": "stderr",
          "text": [
            "/usr/local/lib/python3.10/dist-packages/sklearn/linear_model/_logistic.py:1181: UserWarning: Setting penalty=None will ignore the C and l1_ratio parameters\n",
            "  warnings.warn(\n"
          ]
        },
        {
          "output_type": "stream",
          "name": "stdout",
          "text": [
            "[CV 2/5] END model__C=1.3, model__max_iter=50, model__penalty=None;, score=nan total time=   1.1s\n"
          ]
        },
        {
          "output_type": "stream",
          "name": "stderr",
          "text": [
            "/usr/local/lib/python3.10/dist-packages/sklearn/linear_model/_logistic.py:1181: UserWarning: Setting penalty=None will ignore the C and l1_ratio parameters\n",
            "  warnings.warn(\n"
          ]
        },
        {
          "output_type": "stream",
          "name": "stdout",
          "text": [
            "[CV 3/5] END model__C=1.3, model__max_iter=50, model__penalty=None;, score=nan total time=   1.2s\n"
          ]
        },
        {
          "output_type": "stream",
          "name": "stderr",
          "text": [
            "/usr/local/lib/python3.10/dist-packages/sklearn/linear_model/_logistic.py:1181: UserWarning: Setting penalty=None will ignore the C and l1_ratio parameters\n",
            "  warnings.warn(\n"
          ]
        },
        {
          "output_type": "stream",
          "name": "stdout",
          "text": [
            "[CV 4/5] END model__C=1.3, model__max_iter=50, model__penalty=None;, score=nan total time=   1.1s\n"
          ]
        },
        {
          "output_type": "stream",
          "name": "stderr",
          "text": [
            "/usr/local/lib/python3.10/dist-packages/sklearn/linear_model/_logistic.py:1181: UserWarning: Setting penalty=None will ignore the C and l1_ratio parameters\n",
            "  warnings.warn(\n"
          ]
        },
        {
          "output_type": "stream",
          "name": "stdout",
          "text": [
            "[CV 5/5] END model__C=1.3, model__max_iter=50, model__penalty=None;, score=nan total time=   1.6s\n",
            "[CV 1/5] END model__C=1.3, model__max_iter=50, model__penalty=l2;, score=0.858 total time=   4.5s\n",
            "[CV 2/5] END model__C=1.3, model__max_iter=50, model__penalty=l2;, score=0.858 total time=   3.6s\n",
            "[CV 3/5] END model__C=1.3, model__max_iter=50, model__penalty=l2;, score=0.858 total time=   4.0s\n",
            "[CV 4/5] END model__C=1.3, model__max_iter=50, model__penalty=l2;, score=0.861 total time=   4.8s\n",
            "[CV 5/5] END model__C=1.3, model__max_iter=50, model__penalty=l2;, score=0.857 total time=   3.5s\n"
          ]
        },
        {
          "output_type": "stream",
          "name": "stderr",
          "text": [
            "/usr/local/lib/python3.10/dist-packages/sklearn/linear_model/_logistic.py:1181: UserWarning: Setting penalty=None will ignore the C and l1_ratio parameters\n",
            "  warnings.warn(\n"
          ]
        },
        {
          "output_type": "stream",
          "name": "stdout",
          "text": [
            "[CV 1/5] END model__C=1.3, model__max_iter=100, model__penalty=None;, score=nan total time=   1.2s\n"
          ]
        },
        {
          "output_type": "stream",
          "name": "stderr",
          "text": [
            "/usr/local/lib/python3.10/dist-packages/sklearn/linear_model/_logistic.py:1181: UserWarning: Setting penalty=None will ignore the C and l1_ratio parameters\n",
            "  warnings.warn(\n"
          ]
        },
        {
          "output_type": "stream",
          "name": "stdout",
          "text": [
            "[CV 2/5] END model__C=1.3, model__max_iter=100, model__penalty=None;, score=nan total time=   1.1s\n"
          ]
        },
        {
          "output_type": "stream",
          "name": "stderr",
          "text": [
            "/usr/local/lib/python3.10/dist-packages/sklearn/linear_model/_logistic.py:1181: UserWarning: Setting penalty=None will ignore the C and l1_ratio parameters\n",
            "  warnings.warn(\n"
          ]
        },
        {
          "output_type": "stream",
          "name": "stdout",
          "text": [
            "[CV 3/5] END model__C=1.3, model__max_iter=100, model__penalty=None;, score=nan total time=   1.1s\n"
          ]
        },
        {
          "output_type": "stream",
          "name": "stderr",
          "text": [
            "/usr/local/lib/python3.10/dist-packages/sklearn/linear_model/_logistic.py:1181: UserWarning: Setting penalty=None will ignore the C and l1_ratio parameters\n",
            "  warnings.warn(\n"
          ]
        },
        {
          "output_type": "stream",
          "name": "stdout",
          "text": [
            "[CV 4/5] END model__C=1.3, model__max_iter=100, model__penalty=None;, score=nan total time=   2.2s\n"
          ]
        },
        {
          "output_type": "stream",
          "name": "stderr",
          "text": [
            "/usr/local/lib/python3.10/dist-packages/sklearn/linear_model/_logistic.py:1181: UserWarning: Setting penalty=None will ignore the C and l1_ratio parameters\n",
            "  warnings.warn(\n"
          ]
        },
        {
          "output_type": "stream",
          "name": "stdout",
          "text": [
            "[CV 5/5] END model__C=1.3, model__max_iter=100, model__penalty=None;, score=nan total time=   2.2s\n",
            "[CV 1/5] END model__C=1.3, model__max_iter=100, model__penalty=l2;, score=0.858 total time=   4.4s\n",
            "[CV 2/5] END model__C=1.3, model__max_iter=100, model__penalty=l2;, score=0.858 total time=   3.7s\n",
            "[CV 3/5] END model__C=1.3, model__max_iter=100, model__penalty=l2;, score=0.858 total time=   5.2s\n",
            "[CV 4/5] END model__C=1.3, model__max_iter=100, model__penalty=l2;, score=0.861 total time=   3.7s\n",
            "[CV 5/5] END model__C=1.3, model__max_iter=100, model__penalty=l2;, score=0.857 total time=   3.6s\n"
          ]
        },
        {
          "output_type": "stream",
          "name": "stderr",
          "text": [
            "/usr/local/lib/python3.10/dist-packages/sklearn/linear_model/_logistic.py:1181: UserWarning: Setting penalty=None will ignore the C and l1_ratio parameters\n",
            "  warnings.warn(\n"
          ]
        },
        {
          "output_type": "stream",
          "name": "stdout",
          "text": [
            "[CV 1/5] END model__C=1.3, model__max_iter=200, model__penalty=None;, score=nan total time=   1.1s\n"
          ]
        },
        {
          "output_type": "stream",
          "name": "stderr",
          "text": [
            "/usr/local/lib/python3.10/dist-packages/sklearn/linear_model/_logistic.py:1181: UserWarning: Setting penalty=None will ignore the C and l1_ratio parameters\n",
            "  warnings.warn(\n"
          ]
        },
        {
          "output_type": "stream",
          "name": "stdout",
          "text": [
            "[CV 2/5] END model__C=1.3, model__max_iter=200, model__penalty=None;, score=nan total time=   1.3s\n"
          ]
        },
        {
          "output_type": "stream",
          "name": "stderr",
          "text": [
            "/usr/local/lib/python3.10/dist-packages/sklearn/linear_model/_logistic.py:1181: UserWarning: Setting penalty=None will ignore the C and l1_ratio parameters\n",
            "  warnings.warn(\n"
          ]
        },
        {
          "output_type": "stream",
          "name": "stdout",
          "text": [
            "[CV 3/5] END model__C=1.3, model__max_iter=200, model__penalty=None;, score=nan total time=   2.2s\n"
          ]
        },
        {
          "output_type": "stream",
          "name": "stderr",
          "text": [
            "/usr/local/lib/python3.10/dist-packages/sklearn/linear_model/_logistic.py:1181: UserWarning: Setting penalty=None will ignore the C and l1_ratio parameters\n",
            "  warnings.warn(\n"
          ]
        },
        {
          "output_type": "stream",
          "name": "stdout",
          "text": [
            "[CV 4/5] END model__C=1.3, model__max_iter=200, model__penalty=None;, score=nan total time=   1.2s\n"
          ]
        },
        {
          "output_type": "stream",
          "name": "stderr",
          "text": [
            "/usr/local/lib/python3.10/dist-packages/sklearn/linear_model/_logistic.py:1181: UserWarning: Setting penalty=None will ignore the C and l1_ratio parameters\n",
            "  warnings.warn(\n"
          ]
        },
        {
          "output_type": "stream",
          "name": "stdout",
          "text": [
            "[CV 5/5] END model__C=1.3, model__max_iter=200, model__penalty=None;, score=nan total time=   1.1s\n",
            "[CV 1/5] END model__C=1.3, model__max_iter=200, model__penalty=l2;, score=0.858 total time=   3.8s\n",
            "[CV 2/5] END model__C=1.3, model__max_iter=200, model__penalty=l2;, score=0.858 total time=   3.8s\n",
            "[CV 3/5] END model__C=1.3, model__max_iter=200, model__penalty=l2;, score=0.858 total time=   5.1s\n",
            "[CV 4/5] END model__C=1.3, model__max_iter=200, model__penalty=l2;, score=0.861 total time=   3.7s\n",
            "[CV 5/5] END model__C=1.3, model__max_iter=200, model__penalty=l2;, score=0.857 total time=   3.7s\n"
          ]
        },
        {
          "output_type": "stream",
          "name": "stderr",
          "text": [
            "/usr/local/lib/python3.10/dist-packages/sklearn/linear_model/_logistic.py:1181: UserWarning: Setting penalty=None will ignore the C and l1_ratio parameters\n",
            "  warnings.warn(\n"
          ]
        },
        {
          "output_type": "stream",
          "name": "stdout",
          "text": [
            "[CV 1/5] END model__C=1.3, model__max_iter=400, model__penalty=None;, score=nan total time=   1.8s\n"
          ]
        },
        {
          "output_type": "stream",
          "name": "stderr",
          "text": [
            "/usr/local/lib/python3.10/dist-packages/sklearn/linear_model/_logistic.py:1181: UserWarning: Setting penalty=None will ignore the C and l1_ratio parameters\n",
            "  warnings.warn(\n"
          ]
        },
        {
          "output_type": "stream",
          "name": "stdout",
          "text": [
            "[CV 2/5] END model__C=1.3, model__max_iter=400, model__penalty=None;, score=nan total time=   1.7s\n"
          ]
        },
        {
          "output_type": "stream",
          "name": "stderr",
          "text": [
            "/usr/local/lib/python3.10/dist-packages/sklearn/linear_model/_logistic.py:1181: UserWarning: Setting penalty=None will ignore the C and l1_ratio parameters\n",
            "  warnings.warn(\n"
          ]
        },
        {
          "output_type": "stream",
          "name": "stdout",
          "text": [
            "[CV 3/5] END model__C=1.3, model__max_iter=400, model__penalty=None;, score=nan total time=   1.1s\n"
          ]
        },
        {
          "output_type": "stream",
          "name": "stderr",
          "text": [
            "/usr/local/lib/python3.10/dist-packages/sklearn/linear_model/_logistic.py:1181: UserWarning: Setting penalty=None will ignore the C and l1_ratio parameters\n",
            "  warnings.warn(\n"
          ]
        },
        {
          "output_type": "stream",
          "name": "stdout",
          "text": [
            "[CV 4/5] END model__C=1.3, model__max_iter=400, model__penalty=None;, score=nan total time=   1.1s\n"
          ]
        },
        {
          "output_type": "stream",
          "name": "stderr",
          "text": [
            "/usr/local/lib/python3.10/dist-packages/sklearn/linear_model/_logistic.py:1181: UserWarning: Setting penalty=None will ignore the C and l1_ratio parameters\n",
            "  warnings.warn(\n"
          ]
        },
        {
          "output_type": "stream",
          "name": "stdout",
          "text": [
            "[CV 5/5] END model__C=1.3, model__max_iter=400, model__penalty=None;, score=nan total time=   1.2s\n",
            "[CV 1/5] END model__C=1.3, model__max_iter=400, model__penalty=l2;, score=0.858 total time=   3.8s\n",
            "[CV 2/5] END model__C=1.3, model__max_iter=400, model__penalty=l2;, score=0.858 total time=   5.1s\n",
            "[CV 3/5] END model__C=1.3, model__max_iter=400, model__penalty=l2;, score=0.858 total time=   3.8s\n",
            "[CV 4/5] END model__C=1.3, model__max_iter=400, model__penalty=l2;, score=0.861 total time=   4.1s\n",
            "[CV 5/5] END model__C=1.3, model__max_iter=400, model__penalty=l2;, score=0.857 total time=   5.1s\n"
          ]
        },
        {
          "output_type": "stream",
          "name": "stderr",
          "text": [
            "/usr/local/lib/python3.10/dist-packages/sklearn/linear_model/_logistic.py:1181: UserWarning: Setting penalty=None will ignore the C and l1_ratio parameters\n",
            "  warnings.warn(\n"
          ]
        },
        {
          "output_type": "stream",
          "name": "stdout",
          "text": [
            "[CV 1/5] END model__C=1.7, model__max_iter=50, model__penalty=None;, score=nan total time=   1.2s\n"
          ]
        },
        {
          "output_type": "stream",
          "name": "stderr",
          "text": [
            "/usr/local/lib/python3.10/dist-packages/sklearn/linear_model/_logistic.py:1181: UserWarning: Setting penalty=None will ignore the C and l1_ratio parameters\n",
            "  warnings.warn(\n"
          ]
        },
        {
          "output_type": "stream",
          "name": "stdout",
          "text": [
            "[CV 2/5] END model__C=1.7, model__max_iter=50, model__penalty=None;, score=nan total time=   1.1s\n"
          ]
        },
        {
          "output_type": "stream",
          "name": "stderr",
          "text": [
            "/usr/local/lib/python3.10/dist-packages/sklearn/linear_model/_logistic.py:1181: UserWarning: Setting penalty=None will ignore the C and l1_ratio parameters\n",
            "  warnings.warn(\n"
          ]
        },
        {
          "output_type": "stream",
          "name": "stdout",
          "text": [
            "[CV 3/5] END model__C=1.7, model__max_iter=50, model__penalty=None;, score=nan total time=   1.1s\n"
          ]
        },
        {
          "output_type": "stream",
          "name": "stderr",
          "text": [
            "/usr/local/lib/python3.10/dist-packages/sklearn/linear_model/_logistic.py:1181: UserWarning: Setting penalty=None will ignore the C and l1_ratio parameters\n",
            "  warnings.warn(\n"
          ]
        },
        {
          "output_type": "stream",
          "name": "stdout",
          "text": [
            "[CV 4/5] END model__C=1.7, model__max_iter=50, model__penalty=None;, score=nan total time=   1.1s\n"
          ]
        },
        {
          "output_type": "stream",
          "name": "stderr",
          "text": [
            "/usr/local/lib/python3.10/dist-packages/sklearn/linear_model/_logistic.py:1181: UserWarning: Setting penalty=None will ignore the C and l1_ratio parameters\n",
            "  warnings.warn(\n"
          ]
        },
        {
          "output_type": "stream",
          "name": "stdout",
          "text": [
            "[CV 5/5] END model__C=1.7, model__max_iter=50, model__penalty=None;, score=nan total time=   1.1s\n",
            "[CV 1/5] END model__C=1.7, model__max_iter=50, model__penalty=l2;, score=0.858 total time=   4.6s\n",
            "[CV 2/5] END model__C=1.7, model__max_iter=50, model__penalty=l2;, score=0.857 total time=   5.2s\n",
            "[CV 3/5] END model__C=1.7, model__max_iter=50, model__penalty=l2;, score=0.855 total time=   4.0s\n",
            "[CV 4/5] END model__C=1.7, model__max_iter=50, model__penalty=l2;, score=0.859 total time=   5.3s\n",
            "[CV 5/5] END model__C=1.7, model__max_iter=50, model__penalty=l2;, score=0.855 total time=   4.3s\n"
          ]
        },
        {
          "output_type": "stream",
          "name": "stderr",
          "text": [
            "/usr/local/lib/python3.10/dist-packages/sklearn/linear_model/_logistic.py:1181: UserWarning: Setting penalty=None will ignore the C and l1_ratio parameters\n",
            "  warnings.warn(\n"
          ]
        },
        {
          "output_type": "stream",
          "name": "stdout",
          "text": [
            "[CV 1/5] END model__C=1.7, model__max_iter=100, model__penalty=None;, score=nan total time=   1.2s\n"
          ]
        },
        {
          "output_type": "stream",
          "name": "stderr",
          "text": [
            "/usr/local/lib/python3.10/dist-packages/sklearn/linear_model/_logistic.py:1181: UserWarning: Setting penalty=None will ignore the C and l1_ratio parameters\n",
            "  warnings.warn(\n"
          ]
        },
        {
          "output_type": "stream",
          "name": "stdout",
          "text": [
            "[CV 2/5] END model__C=1.7, model__max_iter=100, model__penalty=None;, score=nan total time=   1.2s\n"
          ]
        },
        {
          "output_type": "stream",
          "name": "stderr",
          "text": [
            "/usr/local/lib/python3.10/dist-packages/sklearn/linear_model/_logistic.py:1181: UserWarning: Setting penalty=None will ignore the C and l1_ratio parameters\n",
            "  warnings.warn(\n"
          ]
        },
        {
          "output_type": "stream",
          "name": "stdout",
          "text": [
            "[CV 3/5] END model__C=1.7, model__max_iter=100, model__penalty=None;, score=nan total time=   1.2s\n"
          ]
        },
        {
          "output_type": "stream",
          "name": "stderr",
          "text": [
            "/usr/local/lib/python3.10/dist-packages/sklearn/linear_model/_logistic.py:1181: UserWarning: Setting penalty=None will ignore the C and l1_ratio parameters\n",
            "  warnings.warn(\n"
          ]
        },
        {
          "output_type": "stream",
          "name": "stdout",
          "text": [
            "[CV 4/5] END model__C=1.7, model__max_iter=100, model__penalty=None;, score=nan total time=   1.2s\n"
          ]
        },
        {
          "output_type": "stream",
          "name": "stderr",
          "text": [
            "/usr/local/lib/python3.10/dist-packages/sklearn/linear_model/_logistic.py:1181: UserWarning: Setting penalty=None will ignore the C and l1_ratio parameters\n",
            "  warnings.warn(\n"
          ]
        },
        {
          "output_type": "stream",
          "name": "stdout",
          "text": [
            "[CV 5/5] END model__C=1.7, model__max_iter=100, model__penalty=None;, score=nan total time=   1.3s\n",
            "[CV 1/5] END model__C=1.7, model__max_iter=100, model__penalty=l2;, score=0.858 total time=   5.0s\n",
            "[CV 2/5] END model__C=1.7, model__max_iter=100, model__penalty=l2;, score=0.857 total time=   4.4s\n",
            "[CV 3/5] END model__C=1.7, model__max_iter=100, model__penalty=l2;, score=0.855 total time=   5.1s\n",
            "[CV 4/5] END model__C=1.7, model__max_iter=100, model__penalty=l2;, score=0.859 total time=   4.1s\n",
            "[CV 5/5] END model__C=1.7, model__max_iter=100, model__penalty=l2;, score=0.855 total time=   4.2s\n"
          ]
        },
        {
          "output_type": "stream",
          "name": "stderr",
          "text": [
            "/usr/local/lib/python3.10/dist-packages/sklearn/linear_model/_logistic.py:1181: UserWarning: Setting penalty=None will ignore the C and l1_ratio parameters\n",
            "  warnings.warn(\n"
          ]
        },
        {
          "output_type": "stream",
          "name": "stdout",
          "text": [
            "[CV 1/5] END model__C=1.7, model__max_iter=200, model__penalty=None;, score=nan total time=   1.2s\n"
          ]
        },
        {
          "output_type": "stream",
          "name": "stderr",
          "text": [
            "/usr/local/lib/python3.10/dist-packages/sklearn/linear_model/_logistic.py:1181: UserWarning: Setting penalty=None will ignore the C and l1_ratio parameters\n",
            "  warnings.warn(\n"
          ]
        },
        {
          "output_type": "stream",
          "name": "stdout",
          "text": [
            "[CV 2/5] END model__C=1.7, model__max_iter=200, model__penalty=None;, score=nan total time=   1.4s\n"
          ]
        },
        {
          "output_type": "stream",
          "name": "stderr",
          "text": [
            "/usr/local/lib/python3.10/dist-packages/sklearn/linear_model/_logistic.py:1181: UserWarning: Setting penalty=None will ignore the C and l1_ratio parameters\n",
            "  warnings.warn(\n"
          ]
        },
        {
          "output_type": "stream",
          "name": "stdout",
          "text": [
            "[CV 3/5] END model__C=1.7, model__max_iter=200, model__penalty=None;, score=nan total time=   2.2s\n"
          ]
        },
        {
          "output_type": "stream",
          "name": "stderr",
          "text": [
            "/usr/local/lib/python3.10/dist-packages/sklearn/linear_model/_logistic.py:1181: UserWarning: Setting penalty=None will ignore the C and l1_ratio parameters\n",
            "  warnings.warn(\n"
          ]
        },
        {
          "output_type": "stream",
          "name": "stdout",
          "text": [
            "[CV 4/5] END model__C=1.7, model__max_iter=200, model__penalty=None;, score=nan total time=   1.2s\n"
          ]
        },
        {
          "output_type": "stream",
          "name": "stderr",
          "text": [
            "/usr/local/lib/python3.10/dist-packages/sklearn/linear_model/_logistic.py:1181: UserWarning: Setting penalty=None will ignore the C and l1_ratio parameters\n",
            "  warnings.warn(\n"
          ]
        },
        {
          "output_type": "stream",
          "name": "stdout",
          "text": [
            "[CV 5/5] END model__C=1.7, model__max_iter=200, model__penalty=None;, score=nan total time=   1.2s\n",
            "[CV 1/5] END model__C=1.7, model__max_iter=200, model__penalty=l2;, score=0.858 total time=   4.2s\n",
            "[CV 2/5] END model__C=1.7, model__max_iter=200, model__penalty=l2;, score=0.857 total time=   5.5s\n",
            "[CV 3/5] END model__C=1.7, model__max_iter=200, model__penalty=l2;, score=0.855 total time=   4.3s\n",
            "[CV 4/5] END model__C=1.7, model__max_iter=200, model__penalty=l2;, score=0.859 total time=   3.9s\n",
            "[CV 5/5] END model__C=1.7, model__max_iter=200, model__penalty=l2;, score=0.855 total time=   5.8s\n"
          ]
        },
        {
          "output_type": "stream",
          "name": "stderr",
          "text": [
            "/usr/local/lib/python3.10/dist-packages/sklearn/linear_model/_logistic.py:1181: UserWarning: Setting penalty=None will ignore the C and l1_ratio parameters\n",
            "  warnings.warn(\n"
          ]
        },
        {
          "output_type": "stream",
          "name": "stdout",
          "text": [
            "[CV 1/5] END model__C=1.7, model__max_iter=400, model__penalty=None;, score=nan total time=   1.2s\n"
          ]
        },
        {
          "output_type": "stream",
          "name": "stderr",
          "text": [
            "/usr/local/lib/python3.10/dist-packages/sklearn/linear_model/_logistic.py:1181: UserWarning: Setting penalty=None will ignore the C and l1_ratio parameters\n",
            "  warnings.warn(\n"
          ]
        },
        {
          "output_type": "stream",
          "name": "stdout",
          "text": [
            "[CV 2/5] END model__C=1.7, model__max_iter=400, model__penalty=None;, score=nan total time=   1.2s\n"
          ]
        },
        {
          "output_type": "stream",
          "name": "stderr",
          "text": [
            "/usr/local/lib/python3.10/dist-packages/sklearn/linear_model/_logistic.py:1181: UserWarning: Setting penalty=None will ignore the C and l1_ratio parameters\n",
            "  warnings.warn(\n"
          ]
        },
        {
          "output_type": "stream",
          "name": "stdout",
          "text": [
            "[CV 3/5] END model__C=1.7, model__max_iter=400, model__penalty=None;, score=nan total time=   1.2s\n"
          ]
        },
        {
          "output_type": "stream",
          "name": "stderr",
          "text": [
            "/usr/local/lib/python3.10/dist-packages/sklearn/linear_model/_logistic.py:1181: UserWarning: Setting penalty=None will ignore the C and l1_ratio parameters\n",
            "  warnings.warn(\n"
          ]
        },
        {
          "output_type": "stream",
          "name": "stdout",
          "text": [
            "[CV 4/5] END model__C=1.7, model__max_iter=400, model__penalty=None;, score=nan total time=   1.2s\n"
          ]
        },
        {
          "output_type": "stream",
          "name": "stderr",
          "text": [
            "/usr/local/lib/python3.10/dist-packages/sklearn/linear_model/_logistic.py:1181: UserWarning: Setting penalty=None will ignore the C and l1_ratio parameters\n",
            "  warnings.warn(\n"
          ]
        },
        {
          "output_type": "stream",
          "name": "stdout",
          "text": [
            "[CV 5/5] END model__C=1.7, model__max_iter=400, model__penalty=None;, score=nan total time=   1.2s\n",
            "[CV 1/5] END model__C=1.7, model__max_iter=400, model__penalty=l2;, score=0.858 total time=   4.6s\n",
            "[CV 2/5] END model__C=1.7, model__max_iter=400, model__penalty=l2;, score=0.857 total time=   5.2s\n",
            "[CV 3/5] END model__C=1.7, model__max_iter=400, model__penalty=l2;, score=0.855 total time=   3.9s\n",
            "[CV 4/5] END model__C=1.7, model__max_iter=400, model__penalty=l2;, score=0.859 total time=   5.0s\n",
            "[CV 5/5] END model__C=1.7, model__max_iter=400, model__penalty=l2;, score=0.855 total time=   4.5s\n"
          ]
        },
        {
          "output_type": "stream",
          "name": "stderr",
          "text": [
            "/usr/local/lib/python3.10/dist-packages/sklearn/model_selection/_validation.py:378: FitFailedWarning: \n",
            "80 fits failed out of a total of 160.\n",
            "The score on these train-test partitions for these parameters will be set to nan.\n",
            "If these failures are not expected, you can try to debug them by setting error_score='raise'.\n",
            "\n",
            "Below are more details about the failures:\n",
            "--------------------------------------------------------------------------------\n",
            "80 fits failed with the following error:\n",
            "Traceback (most recent call last):\n",
            "  File \"/usr/local/lib/python3.10/dist-packages/sklearn/model_selection/_validation.py\", line 686, in _fit_and_score\n",
            "    estimator.fit(X_train, y_train, **fit_params)\n",
            "  File \"/usr/local/lib/python3.10/dist-packages/sklearn/pipeline.py\", line 405, in fit\n",
            "    self._final_estimator.fit(Xt, y, **fit_params_last_step)\n",
            "  File \"/usr/local/lib/python3.10/dist-packages/sklearn/linear_model/_logistic.py\", line 1216, in fit\n",
            "    self.coef_, self.intercept_, self.n_iter_ = _fit_liblinear(\n",
            "  File \"/usr/local/lib/python3.10/dist-packages/sklearn/svm/_base.py\", line 1223, in _fit_liblinear\n",
            "    solver_type = _get_liblinear_solver_type(multi_class, penalty, loss, dual)\n",
            "  File \"/usr/local/lib/python3.10/dist-packages/sklearn/svm/_base.py\", line 1062, in _get_liblinear_solver_type\n",
            "    raise ValueError(\n",
            "ValueError: Unsupported set of arguments: The combination of penalty='None' and loss='logistic_regression' is not supported, Parameters: penalty=None, loss='logistic_regression', dual=False\n",
            "\n",
            "  warnings.warn(some_fits_failed_message, FitFailedWarning)\n",
            "/usr/local/lib/python3.10/dist-packages/sklearn/model_selection/_search.py:952: UserWarning: One or more of the test scores are non-finite: [       nan 0.86206162        nan 0.86206162        nan 0.86206162\n",
            "        nan 0.86206162        nan 0.86107669        nan 0.86107669\n",
            "        nan 0.86107669        nan 0.86107669        nan 0.85854996\n",
            "        nan 0.85854996        nan 0.85854996        nan 0.85854996\n",
            "        nan 0.85700821        nan 0.85700821        nan 0.85700821\n",
            "        nan 0.85700821]\n",
            "  warnings.warn(\n"
          ]
        },
        {
          "output_type": "stream",
          "name": "stdout",
          "text": [
            "Best Score: 0.8620616249426389\n",
            "Best Parameters: {'model__C': 0.5, 'model__max_iter': 50, 'model__penalty': 'l2'}\n",
            "Test Score: 0.8670777663583419\n"
          ]
        }
      ]
    },
    {
      "cell_type": "code",
      "source": [
        "GridSearch_2 = perform_gridsearch_THP(CLFPipeline_2, GridParameters_2, 'Decision Tree Classifier')"
      ],
      "metadata": {
        "colab": {
          "base_uri": "https://localhost:8080/"
        },
        "id": "Z4GliI7bibmz",
        "outputId": "976af385-7f75-4ba1-8cde-b4676c7c1f1b"
      },
      "execution_count": null,
      "outputs": [
        {
          "output_type": "stream",
          "name": "stdout",
          "text": [
            "Fitting 5 folds for each of 6 candidates, totalling 30 fits\n",
            "[CV 1/5] END model__max_depth=None, model__splitter=best;, score=0.806 total time=  11.7s\n",
            "[CV 2/5] END model__max_depth=None, model__splitter=best;, score=0.803 total time=  11.5s\n",
            "[CV 3/5] END model__max_depth=None, model__splitter=best;, score=0.800 total time=  11.3s\n",
            "[CV 4/5] END model__max_depth=None, model__splitter=best;, score=0.814 total time=  11.3s\n",
            "[CV 5/5] END model__max_depth=None, model__splitter=best;, score=0.798 total time=  11.2s\n",
            "[CV 1/5] END model__max_depth=None, model__splitter=random;, score=0.809 total time=  11.3s\n",
            "[CV 2/5] END model__max_depth=None, model__splitter=random;, score=0.810 total time=  11.6s\n",
            "[CV 3/5] END model__max_depth=None, model__splitter=random;, score=0.804 total time=  11.5s\n",
            "[CV 4/5] END model__max_depth=None, model__splitter=random;, score=0.802 total time=  10.8s\n",
            "[CV 5/5] END model__max_depth=None, model__splitter=random;, score=0.804 total time=  12.1s\n",
            "[CV 1/5] END model__max_depth=5, model__splitter=best;, score=0.834 total time=   2.1s\n",
            "[CV 2/5] END model__max_depth=5, model__splitter=best;, score=0.834 total time=   2.4s\n",
            "[CV 3/5] END model__max_depth=5, model__splitter=best;, score=0.833 total time=   1.6s\n",
            "[CV 4/5] END model__max_depth=5, model__splitter=best;, score=0.839 total time=   1.7s\n",
            "[CV 5/5] END model__max_depth=5, model__splitter=best;, score=0.835 total time=   1.7s\n",
            "[CV 1/5] END model__max_depth=5, model__splitter=random;, score=0.830 total time=   1.7s\n",
            "[CV 2/5] END model__max_depth=5, model__splitter=random;, score=0.834 total time=   1.7s\n",
            "[CV 3/5] END model__max_depth=5, model__splitter=random;, score=0.837 total time=   2.2s\n",
            "[CV 4/5] END model__max_depth=5, model__splitter=random;, score=0.834 total time=   2.2s\n",
            "[CV 5/5] END model__max_depth=5, model__splitter=random;, score=0.835 total time=   1.6s\n",
            "[CV 1/5] END model__max_depth=15, model__splitter=best;, score=0.829 total time=   3.1s\n",
            "[CV 2/5] END model__max_depth=15, model__splitter=best;, score=0.827 total time=   3.0s\n",
            "[CV 3/5] END model__max_depth=15, model__splitter=best;, score=0.831 total time=   4.0s\n",
            "[CV 4/5] END model__max_depth=15, model__splitter=best;, score=0.834 total time=   3.0s\n",
            "[CV 5/5] END model__max_depth=15, model__splitter=best;, score=0.832 total time=   3.2s\n",
            "[CV 1/5] END model__max_depth=15, model__splitter=random;, score=0.828 total time=   3.0s\n",
            "[CV 2/5] END model__max_depth=15, model__splitter=random;, score=0.835 total time=   3.8s\n",
            "[CV 3/5] END model__max_depth=15, model__splitter=random;, score=0.835 total time=   2.7s\n",
            "[CV 4/5] END model__max_depth=15, model__splitter=random;, score=0.831 total time=   2.9s\n",
            "[CV 5/5] END model__max_depth=15, model__splitter=random;, score=0.835 total time=   2.7s\n",
            "Best Score: 0.8350392255829743\n",
            "Best Parameters: {'model__max_depth': 5, 'model__splitter': 'best'}\n",
            "Test Score: 0.8403562863994518\n"
          ]
        }
      ]
    },
    {
      "cell_type": "code",
      "source": [
        "GridSearch_3= perform_gridsearch_THP(CLFPipeline_3, GridParameters_3, 'Decision Tree Classifier')"
      ],
      "metadata": {
        "colab": {
          "base_uri": "https://localhost:8080/"
        },
        "id": "LvMaFvxDjehi",
        "outputId": "1bc27a3a-14b8-4db5-e043-265919aba29d"
      },
      "execution_count": null,
      "outputs": [
        {
          "output_type": "stream",
          "name": "stdout",
          "text": [
            "Fitting 5 folds for each of 9 candidates, totalling 45 fits\n",
            "[CV 1/5] END model__max_depth=None, model__max_features=sqrt;, score=0.841 total time=  37.5s\n",
            "[CV 2/5] END model__max_depth=None, model__max_features=sqrt;, score=0.841 total time=  37.2s\n",
            "[CV 3/5] END model__max_depth=None, model__max_features=sqrt;, score=0.841 total time=  38.6s\n",
            "[CV 4/5] END model__max_depth=None, model__max_features=sqrt;, score=0.840 total time=  37.2s\n",
            "[CV 5/5] END model__max_depth=None, model__max_features=sqrt;, score=0.842 total time=  37.0s\n",
            "[CV 1/5] END model__max_depth=None, model__max_features=None;, score=0.849 total time=13.2min\n",
            "[CV 2/5] END model__max_depth=None, model__max_features=None;, score=0.852 total time=13.0min\n",
            "[CV 3/5] END model__max_depth=None, model__max_features=None;, score=0.848 total time=12.9min\n",
            "[CV 4/5] END model__max_depth=None, model__max_features=None;, score=0.856 total time=13.2min\n",
            "[CV 5/5] END model__max_depth=None, model__max_features=None;, score=0.851 total time=12.3min\n",
            "[CV 1/5] END model__max_depth=None, model__max_features=0.4;, score=0.851 total time= 5.3min\n",
            "[CV 2/5] END model__max_depth=None, model__max_features=0.4;, score=0.851 total time= 5.2min\n",
            "[CV 3/5] END model__max_depth=None, model__max_features=0.4;, score=0.849 total time= 5.1min\n",
            "[CV 4/5] END model__max_depth=None, model__max_features=0.4;, score=0.856 total time= 5.3min\n",
            "[CV 5/5] END model__max_depth=None, model__max_features=0.4;, score=0.852 total time= 5.3min\n",
            "[CV 1/5] END model__max_depth=3, model__max_features=sqrt;, score=0.794 total time=   2.8s\n",
            "[CV 2/5] END model__max_depth=3, model__max_features=sqrt;, score=0.794 total time=   1.8s\n",
            "[CV 3/5] END model__max_depth=3, model__max_features=sqrt;, score=0.795 total time=   1.7s\n",
            "[CV 4/5] END model__max_depth=3, model__max_features=sqrt;, score=0.795 total time=   1.8s\n",
            "[CV 5/5] END model__max_depth=3, model__max_features=sqrt;, score=0.795 total time=   1.8s\n",
            "[CV 1/5] END model__max_depth=3, model__max_features=None;, score=0.830 total time=  11.1s\n",
            "[CV 2/5] END model__max_depth=3, model__max_features=None;, score=0.830 total time=  11.1s\n",
            "[CV 3/5] END model__max_depth=3, model__max_features=None;, score=0.829 total time=  11.2s\n",
            "[CV 4/5] END model__max_depth=3, model__max_features=None;, score=0.834 total time=  11.2s\n",
            "[CV 5/5] END model__max_depth=3, model__max_features=None;, score=0.831 total time=  11.2s\n",
            "[CV 1/5] END model__max_depth=3, model__max_features=0.4;, score=0.830 total time=   5.7s\n",
            "[CV 2/5] END model__max_depth=3, model__max_features=0.4;, score=0.829 total time=   6.5s\n",
            "[CV 3/5] END model__max_depth=3, model__max_features=0.4;, score=0.828 total time=   5.7s\n",
            "[CV 4/5] END model__max_depth=3, model__max_features=0.4;, score=0.832 total time=   6.4s\n",
            "[CV 5/5] END model__max_depth=3, model__max_features=0.4;, score=0.832 total time=   5.6s\n",
            "[CV 1/5] END model__max_depth=10, model__max_features=sqrt;, score=0.794 total time=   2.1s\n",
            "[CV 2/5] END model__max_depth=10, model__max_features=sqrt;, score=0.794 total time=   2.7s\n",
            "[CV 3/5] END model__max_depth=10, model__max_features=sqrt;, score=0.795 total time=   2.5s\n",
            "[CV 4/5] END model__max_depth=10, model__max_features=sqrt;, score=0.795 total time=   2.1s\n",
            "[CV 5/5] END model__max_depth=10, model__max_features=sqrt;, score=0.795 total time=   2.1s\n",
            "[CV 1/5] END model__max_depth=10, model__max_features=None;, score=0.838 total time=  56.8s\n",
            "[CV 2/5] END model__max_depth=10, model__max_features=None;, score=0.838 total time= 1.0min\n",
            "[CV 3/5] END model__max_depth=10, model__max_features=None;, score=0.839 total time= 1.1min\n",
            "[CV 4/5] END model__max_depth=10, model__max_features=None;, score=0.842 total time=  58.9s\n",
            "[CV 5/5] END model__max_depth=10, model__max_features=None;, score=0.840 total time=  59.5s\n",
            "[CV 1/5] END model__max_depth=10, model__max_features=0.4;, score=0.837 total time=  32.4s\n",
            "[CV 2/5] END model__max_depth=10, model__max_features=0.4;, score=0.839 total time=  32.7s\n",
            "[CV 3/5] END model__max_depth=10, model__max_features=0.4;, score=0.837 total time=  34.4s\n",
            "[CV 4/5] END model__max_depth=10, model__max_features=0.4;, score=0.843 total time=  32.6s\n",
            "[CV 5/5] END model__max_depth=10, model__max_features=0.4;, score=0.840 total time=  33.0s\n",
            "Best Score: 0.8517836649388432\n",
            "Best Parameters: {'model__max_depth': None, 'model__max_features': 0.4}\n",
            "Test Score: 0.8610825625214115\n"
          ]
        }
      ]
    },
    {
      "cell_type": "code",
      "source": [
        "#Model fitting-1\n",
        "CLFPipeline_1.fit(X_train, y_train)"
      ],
      "metadata": {
        "colab": {
          "base_uri": "https://localhost:8080/",
          "height": 190
        },
        "id": "R7DUgzP8uTpf",
        "outputId": "4e75b47e-444e-4d20-bd52-6bbe167c998c"
      },
      "execution_count": null,
      "outputs": [
        {
          "output_type": "execute_result",
          "data": {
            "text/plain": [
              "Pipeline(steps=[('column_trans',\n",
              "                 ColumnTransformer(remainder='passthrough',\n",
              "                                   transformers=[('summary_tf',\n",
              "                                                  CountVectorizer(),\n",
              "                                                  'summary'),\n",
              "                                                 ('review_tf',\n",
              "                                                  CountVectorizer(),\n",
              "                                                  'reviewText'),\n",
              "                                                 ('category_tf',\n",
              "                                                  OneHotEncoder(dtype='int',\n",
              "                                                                handle_unknown='ignore'),\n",
              "                                                  ['category']),\n",
              "                                                 ('vote_tf',\n",
              "                                                  OneHotEncoder(dtype='int',\n",
              "                                                                handle_unknown='ignore'),\n",
              "                                                  ['vote'])])),\n",
              "                ('model',\n",
              "                 LogisticRegression(C=0.5, max_iter=50, random_state=2,\n",
              "                                    solver='liblinear'))])"
            ],
            "text/html": [
              "<style>#sk-container-id-1 {color: black;background-color: white;}#sk-container-id-1 pre{padding: 0;}#sk-container-id-1 div.sk-toggleable {background-color: white;}#sk-container-id-1 label.sk-toggleable__label {cursor: pointer;display: block;width: 100%;margin-bottom: 0;padding: 0.3em;box-sizing: border-box;text-align: center;}#sk-container-id-1 label.sk-toggleable__label-arrow:before {content: \"▸\";float: left;margin-right: 0.25em;color: #696969;}#sk-container-id-1 label.sk-toggleable__label-arrow:hover:before {color: black;}#sk-container-id-1 div.sk-estimator:hover label.sk-toggleable__label-arrow:before {color: black;}#sk-container-id-1 div.sk-toggleable__content {max-height: 0;max-width: 0;overflow: hidden;text-align: left;background-color: #f0f8ff;}#sk-container-id-1 div.sk-toggleable__content pre {margin: 0.2em;color: black;border-radius: 0.25em;background-color: #f0f8ff;}#sk-container-id-1 input.sk-toggleable__control:checked~div.sk-toggleable__content {max-height: 200px;max-width: 100%;overflow: auto;}#sk-container-id-1 input.sk-toggleable__control:checked~label.sk-toggleable__label-arrow:before {content: \"▾\";}#sk-container-id-1 div.sk-estimator input.sk-toggleable__control:checked~label.sk-toggleable__label {background-color: #d4ebff;}#sk-container-id-1 div.sk-label input.sk-toggleable__control:checked~label.sk-toggleable__label {background-color: #d4ebff;}#sk-container-id-1 input.sk-hidden--visually {border: 0;clip: rect(1px 1px 1px 1px);clip: rect(1px, 1px, 1px, 1px);height: 1px;margin: -1px;overflow: hidden;padding: 0;position: absolute;width: 1px;}#sk-container-id-1 div.sk-estimator {font-family: monospace;background-color: #f0f8ff;border: 1px dotted black;border-radius: 0.25em;box-sizing: border-box;margin-bottom: 0.5em;}#sk-container-id-1 div.sk-estimator:hover {background-color: #d4ebff;}#sk-container-id-1 div.sk-parallel-item::after {content: \"\";width: 100%;border-bottom: 1px solid gray;flex-grow: 1;}#sk-container-id-1 div.sk-label:hover label.sk-toggleable__label {background-color: #d4ebff;}#sk-container-id-1 div.sk-serial::before {content: \"\";position: absolute;border-left: 1px solid gray;box-sizing: border-box;top: 0;bottom: 0;left: 50%;z-index: 0;}#sk-container-id-1 div.sk-serial {display: flex;flex-direction: column;align-items: center;background-color: white;padding-right: 0.2em;padding-left: 0.2em;position: relative;}#sk-container-id-1 div.sk-item {position: relative;z-index: 1;}#sk-container-id-1 div.sk-parallel {display: flex;align-items: stretch;justify-content: center;background-color: white;position: relative;}#sk-container-id-1 div.sk-item::before, #sk-container-id-1 div.sk-parallel-item::before {content: \"\";position: absolute;border-left: 1px solid gray;box-sizing: border-box;top: 0;bottom: 0;left: 50%;z-index: -1;}#sk-container-id-1 div.sk-parallel-item {display: flex;flex-direction: column;z-index: 1;position: relative;background-color: white;}#sk-container-id-1 div.sk-parallel-item:first-child::after {align-self: flex-end;width: 50%;}#sk-container-id-1 div.sk-parallel-item:last-child::after {align-self: flex-start;width: 50%;}#sk-container-id-1 div.sk-parallel-item:only-child::after {width: 0;}#sk-container-id-1 div.sk-dashed-wrapped {border: 1px dashed gray;margin: 0 0.4em 0.5em 0.4em;box-sizing: border-box;padding-bottom: 0.4em;background-color: white;}#sk-container-id-1 div.sk-label label {font-family: monospace;font-weight: bold;display: inline-block;line-height: 1.2em;}#sk-container-id-1 div.sk-label-container {text-align: center;}#sk-container-id-1 div.sk-container {/* jupyter's `normalize.less` sets `[hidden] { display: none; }` but bootstrap.min.css set `[hidden] { display: none !important; }` so we also need the `!important` here to be able to override the default hidden behavior on the sphinx rendered scikit-learn.org. See: https://github.com/scikit-learn/scikit-learn/issues/21755 */display: inline-block !important;position: relative;}#sk-container-id-1 div.sk-text-repr-fallback {display: none;}</style><div id=\"sk-container-id-1\" class=\"sk-top-container\"><div class=\"sk-text-repr-fallback\"><pre>Pipeline(steps=[(&#x27;column_trans&#x27;,\n",
              "                 ColumnTransformer(remainder=&#x27;passthrough&#x27;,\n",
              "                                   transformers=[(&#x27;summary_tf&#x27;,\n",
              "                                                  CountVectorizer(),\n",
              "                                                  &#x27;summary&#x27;),\n",
              "                                                 (&#x27;review_tf&#x27;,\n",
              "                                                  CountVectorizer(),\n",
              "                                                  &#x27;reviewText&#x27;),\n",
              "                                                 (&#x27;category_tf&#x27;,\n",
              "                                                  OneHotEncoder(dtype=&#x27;int&#x27;,\n",
              "                                                                handle_unknown=&#x27;ignore&#x27;),\n",
              "                                                  [&#x27;category&#x27;]),\n",
              "                                                 (&#x27;vote_tf&#x27;,\n",
              "                                                  OneHotEncoder(dtype=&#x27;int&#x27;,\n",
              "                                                                handle_unknown=&#x27;ignore&#x27;),\n",
              "                                                  [&#x27;vote&#x27;])])),\n",
              "                (&#x27;model&#x27;,\n",
              "                 LogisticRegression(C=0.5, max_iter=50, random_state=2,\n",
              "                                    solver=&#x27;liblinear&#x27;))])</pre><b>In a Jupyter environment, please rerun this cell to show the HTML representation or trust the notebook. <br />On GitHub, the HTML representation is unable to render, please try loading this page with nbviewer.org.</b></div><div class=\"sk-container\" hidden><div class=\"sk-item sk-dashed-wrapped\"><div class=\"sk-label-container\"><div class=\"sk-label sk-toggleable\"><input class=\"sk-toggleable__control sk-hidden--visually\" id=\"sk-estimator-id-1\" type=\"checkbox\" ><label for=\"sk-estimator-id-1\" class=\"sk-toggleable__label sk-toggleable__label-arrow\">Pipeline</label><div class=\"sk-toggleable__content\"><pre>Pipeline(steps=[(&#x27;column_trans&#x27;,\n",
              "                 ColumnTransformer(remainder=&#x27;passthrough&#x27;,\n",
              "                                   transformers=[(&#x27;summary_tf&#x27;,\n",
              "                                                  CountVectorizer(),\n",
              "                                                  &#x27;summary&#x27;),\n",
              "                                                 (&#x27;review_tf&#x27;,\n",
              "                                                  CountVectorizer(),\n",
              "                                                  &#x27;reviewText&#x27;),\n",
              "                                                 (&#x27;category_tf&#x27;,\n",
              "                                                  OneHotEncoder(dtype=&#x27;int&#x27;,\n",
              "                                                                handle_unknown=&#x27;ignore&#x27;),\n",
              "                                                  [&#x27;category&#x27;]),\n",
              "                                                 (&#x27;vote_tf&#x27;,\n",
              "                                                  OneHotEncoder(dtype=&#x27;int&#x27;,\n",
              "                                                                handle_unknown=&#x27;ignore&#x27;),\n",
              "                                                  [&#x27;vote&#x27;])])),\n",
              "                (&#x27;model&#x27;,\n",
              "                 LogisticRegression(C=0.5, max_iter=50, random_state=2,\n",
              "                                    solver=&#x27;liblinear&#x27;))])</pre></div></div></div><div class=\"sk-serial\"><div class=\"sk-item sk-dashed-wrapped\"><div class=\"sk-label-container\"><div class=\"sk-label sk-toggleable\"><input class=\"sk-toggleable__control sk-hidden--visually\" id=\"sk-estimator-id-2\" type=\"checkbox\" ><label for=\"sk-estimator-id-2\" class=\"sk-toggleable__label sk-toggleable__label-arrow\">column_trans: ColumnTransformer</label><div class=\"sk-toggleable__content\"><pre>ColumnTransformer(remainder=&#x27;passthrough&#x27;,\n",
              "                  transformers=[(&#x27;summary_tf&#x27;, CountVectorizer(), &#x27;summary&#x27;),\n",
              "                                (&#x27;review_tf&#x27;, CountVectorizer(), &#x27;reviewText&#x27;),\n",
              "                                (&#x27;category_tf&#x27;,\n",
              "                                 OneHotEncoder(dtype=&#x27;int&#x27;,\n",
              "                                               handle_unknown=&#x27;ignore&#x27;),\n",
              "                                 [&#x27;category&#x27;]),\n",
              "                                (&#x27;vote_tf&#x27;,\n",
              "                                 OneHotEncoder(dtype=&#x27;int&#x27;,\n",
              "                                               handle_unknown=&#x27;ignore&#x27;),\n",
              "                                 [&#x27;vote&#x27;])])</pre></div></div></div><div class=\"sk-parallel\"><div class=\"sk-parallel-item\"><div class=\"sk-item\"><div class=\"sk-label-container\"><div class=\"sk-label sk-toggleable\"><input class=\"sk-toggleable__control sk-hidden--visually\" id=\"sk-estimator-id-3\" type=\"checkbox\" ><label for=\"sk-estimator-id-3\" class=\"sk-toggleable__label sk-toggleable__label-arrow\">summary_tf</label><div class=\"sk-toggleable__content\"><pre>summary</pre></div></div></div><div class=\"sk-serial\"><div class=\"sk-item\"><div class=\"sk-estimator sk-toggleable\"><input class=\"sk-toggleable__control sk-hidden--visually\" id=\"sk-estimator-id-4\" type=\"checkbox\" ><label for=\"sk-estimator-id-4\" class=\"sk-toggleable__label sk-toggleable__label-arrow\">CountVectorizer</label><div class=\"sk-toggleable__content\"><pre>CountVectorizer()</pre></div></div></div></div></div></div><div class=\"sk-parallel-item\"><div class=\"sk-item\"><div class=\"sk-label-container\"><div class=\"sk-label sk-toggleable\"><input class=\"sk-toggleable__control sk-hidden--visually\" id=\"sk-estimator-id-5\" type=\"checkbox\" ><label for=\"sk-estimator-id-5\" class=\"sk-toggleable__label sk-toggleable__label-arrow\">review_tf</label><div class=\"sk-toggleable__content\"><pre>reviewText</pre></div></div></div><div class=\"sk-serial\"><div class=\"sk-item\"><div class=\"sk-estimator sk-toggleable\"><input class=\"sk-toggleable__control sk-hidden--visually\" id=\"sk-estimator-id-6\" type=\"checkbox\" ><label for=\"sk-estimator-id-6\" class=\"sk-toggleable__label sk-toggleable__label-arrow\">CountVectorizer</label><div class=\"sk-toggleable__content\"><pre>CountVectorizer()</pre></div></div></div></div></div></div><div class=\"sk-parallel-item\"><div class=\"sk-item\"><div class=\"sk-label-container\"><div class=\"sk-label sk-toggleable\"><input class=\"sk-toggleable__control sk-hidden--visually\" id=\"sk-estimator-id-7\" type=\"checkbox\" ><label for=\"sk-estimator-id-7\" class=\"sk-toggleable__label sk-toggleable__label-arrow\">category_tf</label><div class=\"sk-toggleable__content\"><pre>[&#x27;category&#x27;]</pre></div></div></div><div class=\"sk-serial\"><div class=\"sk-item\"><div class=\"sk-estimator sk-toggleable\"><input class=\"sk-toggleable__control sk-hidden--visually\" id=\"sk-estimator-id-8\" type=\"checkbox\" ><label for=\"sk-estimator-id-8\" class=\"sk-toggleable__label sk-toggleable__label-arrow\">OneHotEncoder</label><div class=\"sk-toggleable__content\"><pre>OneHotEncoder(dtype=&#x27;int&#x27;, handle_unknown=&#x27;ignore&#x27;)</pre></div></div></div></div></div></div><div class=\"sk-parallel-item\"><div class=\"sk-item\"><div class=\"sk-label-container\"><div class=\"sk-label sk-toggleable\"><input class=\"sk-toggleable__control sk-hidden--visually\" id=\"sk-estimator-id-9\" type=\"checkbox\" ><label for=\"sk-estimator-id-9\" class=\"sk-toggleable__label sk-toggleable__label-arrow\">vote_tf</label><div class=\"sk-toggleable__content\"><pre>[&#x27;vote&#x27;]</pre></div></div></div><div class=\"sk-serial\"><div class=\"sk-item\"><div class=\"sk-estimator sk-toggleable\"><input class=\"sk-toggleable__control sk-hidden--visually\" id=\"sk-estimator-id-10\" type=\"checkbox\" ><label for=\"sk-estimator-id-10\" class=\"sk-toggleable__label sk-toggleable__label-arrow\">OneHotEncoder</label><div class=\"sk-toggleable__content\"><pre>OneHotEncoder(dtype=&#x27;int&#x27;, handle_unknown=&#x27;ignore&#x27;)</pre></div></div></div></div></div></div><div class=\"sk-parallel-item\"><div class=\"sk-item\"><div class=\"sk-label-container\"><div class=\"sk-label sk-toggleable\"><input class=\"sk-toggleable__control sk-hidden--visually\" id=\"sk-estimator-id-11\" type=\"checkbox\" ><label for=\"sk-estimator-id-11\" class=\"sk-toggleable__label sk-toggleable__label-arrow\">remainder</label><div class=\"sk-toggleable__content\"><pre>[]</pre></div></div></div><div class=\"sk-serial\"><div class=\"sk-item\"><div class=\"sk-estimator sk-toggleable\"><input class=\"sk-toggleable__control sk-hidden--visually\" id=\"sk-estimator-id-12\" type=\"checkbox\" ><label for=\"sk-estimator-id-12\" class=\"sk-toggleable__label sk-toggleable__label-arrow\">passthrough</label><div class=\"sk-toggleable__content\"><pre>passthrough</pre></div></div></div></div></div></div></div></div><div class=\"sk-item\"><div class=\"sk-estimator sk-toggleable\"><input class=\"sk-toggleable__control sk-hidden--visually\" id=\"sk-estimator-id-13\" type=\"checkbox\" ><label for=\"sk-estimator-id-13\" class=\"sk-toggleable__label sk-toggleable__label-arrow\">LogisticRegression</label><div class=\"sk-toggleable__content\"><pre>LogisticRegression(C=0.5, max_iter=50, random_state=2, solver=&#x27;liblinear&#x27;)</pre></div></div></div></div></div></div></div>"
            ]
          },
          "metadata": {},
          "execution_count": 17
        }
      ]
    },
    {
      "cell_type": "code",
      "source": [
        "#Model fitting-2\n",
        "CLFPipeline_2.fit(X_train, y_train)"
      ],
      "metadata": {
        "colab": {
          "base_uri": "https://localhost:8080/",
          "height": 190
        },
        "id": "_MqQuf8iuY4F",
        "outputId": "ae651260-a59b-4cb1-886d-29163a55d27c"
      },
      "execution_count": null,
      "outputs": [
        {
          "output_type": "execute_result",
          "data": {
            "text/plain": [
              "Pipeline(steps=[('column_trans',\n",
              "                 ColumnTransformer(remainder='passthrough',\n",
              "                                   transformers=[('summary_tf',\n",
              "                                                  CountVectorizer(),\n",
              "                                                  'summary'),\n",
              "                                                 ('review_tf',\n",
              "                                                  CountVectorizer(),\n",
              "                                                  'reviewText'),\n",
              "                                                 ('category_tf',\n",
              "                                                  OneHotEncoder(dtype='int',\n",
              "                                                                handle_unknown='ignore'),\n",
              "                                                  ['category']),\n",
              "                                                 ('vote_tf',\n",
              "                                                  OneHotEncoder(dtype='int',\n",
              "                                                                handle_unknown='ignore'),\n",
              "                                                  ['vote'])])),\n",
              "                ('model',\n",
              "                 DecisionTreeClassifier(max_depth=5, random_state=2,\n",
              "                                        splitter='random'))])"
            ],
            "text/html": [
              "<style>#sk-container-id-2 {color: black;background-color: white;}#sk-container-id-2 pre{padding: 0;}#sk-container-id-2 div.sk-toggleable {background-color: white;}#sk-container-id-2 label.sk-toggleable__label {cursor: pointer;display: block;width: 100%;margin-bottom: 0;padding: 0.3em;box-sizing: border-box;text-align: center;}#sk-container-id-2 label.sk-toggleable__label-arrow:before {content: \"▸\";float: left;margin-right: 0.25em;color: #696969;}#sk-container-id-2 label.sk-toggleable__label-arrow:hover:before {color: black;}#sk-container-id-2 div.sk-estimator:hover label.sk-toggleable__label-arrow:before {color: black;}#sk-container-id-2 div.sk-toggleable__content {max-height: 0;max-width: 0;overflow: hidden;text-align: left;background-color: #f0f8ff;}#sk-container-id-2 div.sk-toggleable__content pre {margin: 0.2em;color: black;border-radius: 0.25em;background-color: #f0f8ff;}#sk-container-id-2 input.sk-toggleable__control:checked~div.sk-toggleable__content {max-height: 200px;max-width: 100%;overflow: auto;}#sk-container-id-2 input.sk-toggleable__control:checked~label.sk-toggleable__label-arrow:before {content: \"▾\";}#sk-container-id-2 div.sk-estimator input.sk-toggleable__control:checked~label.sk-toggleable__label {background-color: #d4ebff;}#sk-container-id-2 div.sk-label input.sk-toggleable__control:checked~label.sk-toggleable__label {background-color: #d4ebff;}#sk-container-id-2 input.sk-hidden--visually {border: 0;clip: rect(1px 1px 1px 1px);clip: rect(1px, 1px, 1px, 1px);height: 1px;margin: -1px;overflow: hidden;padding: 0;position: absolute;width: 1px;}#sk-container-id-2 div.sk-estimator {font-family: monospace;background-color: #f0f8ff;border: 1px dotted black;border-radius: 0.25em;box-sizing: border-box;margin-bottom: 0.5em;}#sk-container-id-2 div.sk-estimator:hover {background-color: #d4ebff;}#sk-container-id-2 div.sk-parallel-item::after {content: \"\";width: 100%;border-bottom: 1px solid gray;flex-grow: 1;}#sk-container-id-2 div.sk-label:hover label.sk-toggleable__label {background-color: #d4ebff;}#sk-container-id-2 div.sk-serial::before {content: \"\";position: absolute;border-left: 1px solid gray;box-sizing: border-box;top: 0;bottom: 0;left: 50%;z-index: 0;}#sk-container-id-2 div.sk-serial {display: flex;flex-direction: column;align-items: center;background-color: white;padding-right: 0.2em;padding-left: 0.2em;position: relative;}#sk-container-id-2 div.sk-item {position: relative;z-index: 1;}#sk-container-id-2 div.sk-parallel {display: flex;align-items: stretch;justify-content: center;background-color: white;position: relative;}#sk-container-id-2 div.sk-item::before, #sk-container-id-2 div.sk-parallel-item::before {content: \"\";position: absolute;border-left: 1px solid gray;box-sizing: border-box;top: 0;bottom: 0;left: 50%;z-index: -1;}#sk-container-id-2 div.sk-parallel-item {display: flex;flex-direction: column;z-index: 1;position: relative;background-color: white;}#sk-container-id-2 div.sk-parallel-item:first-child::after {align-self: flex-end;width: 50%;}#sk-container-id-2 div.sk-parallel-item:last-child::after {align-self: flex-start;width: 50%;}#sk-container-id-2 div.sk-parallel-item:only-child::after {width: 0;}#sk-container-id-2 div.sk-dashed-wrapped {border: 1px dashed gray;margin: 0 0.4em 0.5em 0.4em;box-sizing: border-box;padding-bottom: 0.4em;background-color: white;}#sk-container-id-2 div.sk-label label {font-family: monospace;font-weight: bold;display: inline-block;line-height: 1.2em;}#sk-container-id-2 div.sk-label-container {text-align: center;}#sk-container-id-2 div.sk-container {/* jupyter's `normalize.less` sets `[hidden] { display: none; }` but bootstrap.min.css set `[hidden] { display: none !important; }` so we also need the `!important` here to be able to override the default hidden behavior on the sphinx rendered scikit-learn.org. See: https://github.com/scikit-learn/scikit-learn/issues/21755 */display: inline-block !important;position: relative;}#sk-container-id-2 div.sk-text-repr-fallback {display: none;}</style><div id=\"sk-container-id-2\" class=\"sk-top-container\"><div class=\"sk-text-repr-fallback\"><pre>Pipeline(steps=[(&#x27;column_trans&#x27;,\n",
              "                 ColumnTransformer(remainder=&#x27;passthrough&#x27;,\n",
              "                                   transformers=[(&#x27;summary_tf&#x27;,\n",
              "                                                  CountVectorizer(),\n",
              "                                                  &#x27;summary&#x27;),\n",
              "                                                 (&#x27;review_tf&#x27;,\n",
              "                                                  CountVectorizer(),\n",
              "                                                  &#x27;reviewText&#x27;),\n",
              "                                                 (&#x27;category_tf&#x27;,\n",
              "                                                  OneHotEncoder(dtype=&#x27;int&#x27;,\n",
              "                                                                handle_unknown=&#x27;ignore&#x27;),\n",
              "                                                  [&#x27;category&#x27;]),\n",
              "                                                 (&#x27;vote_tf&#x27;,\n",
              "                                                  OneHotEncoder(dtype=&#x27;int&#x27;,\n",
              "                                                                handle_unknown=&#x27;ignore&#x27;),\n",
              "                                                  [&#x27;vote&#x27;])])),\n",
              "                (&#x27;model&#x27;,\n",
              "                 DecisionTreeClassifier(max_depth=5, random_state=2,\n",
              "                                        splitter=&#x27;random&#x27;))])</pre><b>In a Jupyter environment, please rerun this cell to show the HTML representation or trust the notebook. <br />On GitHub, the HTML representation is unable to render, please try loading this page with nbviewer.org.</b></div><div class=\"sk-container\" hidden><div class=\"sk-item sk-dashed-wrapped\"><div class=\"sk-label-container\"><div class=\"sk-label sk-toggleable\"><input class=\"sk-toggleable__control sk-hidden--visually\" id=\"sk-estimator-id-14\" type=\"checkbox\" ><label for=\"sk-estimator-id-14\" class=\"sk-toggleable__label sk-toggleable__label-arrow\">Pipeline</label><div class=\"sk-toggleable__content\"><pre>Pipeline(steps=[(&#x27;column_trans&#x27;,\n",
              "                 ColumnTransformer(remainder=&#x27;passthrough&#x27;,\n",
              "                                   transformers=[(&#x27;summary_tf&#x27;,\n",
              "                                                  CountVectorizer(),\n",
              "                                                  &#x27;summary&#x27;),\n",
              "                                                 (&#x27;review_tf&#x27;,\n",
              "                                                  CountVectorizer(),\n",
              "                                                  &#x27;reviewText&#x27;),\n",
              "                                                 (&#x27;category_tf&#x27;,\n",
              "                                                  OneHotEncoder(dtype=&#x27;int&#x27;,\n",
              "                                                                handle_unknown=&#x27;ignore&#x27;),\n",
              "                                                  [&#x27;category&#x27;]),\n",
              "                                                 (&#x27;vote_tf&#x27;,\n",
              "                                                  OneHotEncoder(dtype=&#x27;int&#x27;,\n",
              "                                                                handle_unknown=&#x27;ignore&#x27;),\n",
              "                                                  [&#x27;vote&#x27;])])),\n",
              "                (&#x27;model&#x27;,\n",
              "                 DecisionTreeClassifier(max_depth=5, random_state=2,\n",
              "                                        splitter=&#x27;random&#x27;))])</pre></div></div></div><div class=\"sk-serial\"><div class=\"sk-item sk-dashed-wrapped\"><div class=\"sk-label-container\"><div class=\"sk-label sk-toggleable\"><input class=\"sk-toggleable__control sk-hidden--visually\" id=\"sk-estimator-id-15\" type=\"checkbox\" ><label for=\"sk-estimator-id-15\" class=\"sk-toggleable__label sk-toggleable__label-arrow\">column_trans: ColumnTransformer</label><div class=\"sk-toggleable__content\"><pre>ColumnTransformer(remainder=&#x27;passthrough&#x27;,\n",
              "                  transformers=[(&#x27;summary_tf&#x27;, CountVectorizer(), &#x27;summary&#x27;),\n",
              "                                (&#x27;review_tf&#x27;, CountVectorizer(), &#x27;reviewText&#x27;),\n",
              "                                (&#x27;category_tf&#x27;,\n",
              "                                 OneHotEncoder(dtype=&#x27;int&#x27;,\n",
              "                                               handle_unknown=&#x27;ignore&#x27;),\n",
              "                                 [&#x27;category&#x27;]),\n",
              "                                (&#x27;vote_tf&#x27;,\n",
              "                                 OneHotEncoder(dtype=&#x27;int&#x27;,\n",
              "                                               handle_unknown=&#x27;ignore&#x27;),\n",
              "                                 [&#x27;vote&#x27;])])</pre></div></div></div><div class=\"sk-parallel\"><div class=\"sk-parallel-item\"><div class=\"sk-item\"><div class=\"sk-label-container\"><div class=\"sk-label sk-toggleable\"><input class=\"sk-toggleable__control sk-hidden--visually\" id=\"sk-estimator-id-16\" type=\"checkbox\" ><label for=\"sk-estimator-id-16\" class=\"sk-toggleable__label sk-toggleable__label-arrow\">summary_tf</label><div class=\"sk-toggleable__content\"><pre>summary</pre></div></div></div><div class=\"sk-serial\"><div class=\"sk-item\"><div class=\"sk-estimator sk-toggleable\"><input class=\"sk-toggleable__control sk-hidden--visually\" id=\"sk-estimator-id-17\" type=\"checkbox\" ><label for=\"sk-estimator-id-17\" class=\"sk-toggleable__label sk-toggleable__label-arrow\">CountVectorizer</label><div class=\"sk-toggleable__content\"><pre>CountVectorizer()</pre></div></div></div></div></div></div><div class=\"sk-parallel-item\"><div class=\"sk-item\"><div class=\"sk-label-container\"><div class=\"sk-label sk-toggleable\"><input class=\"sk-toggleable__control sk-hidden--visually\" id=\"sk-estimator-id-18\" type=\"checkbox\" ><label for=\"sk-estimator-id-18\" class=\"sk-toggleable__label sk-toggleable__label-arrow\">review_tf</label><div class=\"sk-toggleable__content\"><pre>reviewText</pre></div></div></div><div class=\"sk-serial\"><div class=\"sk-item\"><div class=\"sk-estimator sk-toggleable\"><input class=\"sk-toggleable__control sk-hidden--visually\" id=\"sk-estimator-id-19\" type=\"checkbox\" ><label for=\"sk-estimator-id-19\" class=\"sk-toggleable__label sk-toggleable__label-arrow\">CountVectorizer</label><div class=\"sk-toggleable__content\"><pre>CountVectorizer()</pre></div></div></div></div></div></div><div class=\"sk-parallel-item\"><div class=\"sk-item\"><div class=\"sk-label-container\"><div class=\"sk-label sk-toggleable\"><input class=\"sk-toggleable__control sk-hidden--visually\" id=\"sk-estimator-id-20\" type=\"checkbox\" ><label for=\"sk-estimator-id-20\" class=\"sk-toggleable__label sk-toggleable__label-arrow\">category_tf</label><div class=\"sk-toggleable__content\"><pre>[&#x27;category&#x27;]</pre></div></div></div><div class=\"sk-serial\"><div class=\"sk-item\"><div class=\"sk-estimator sk-toggleable\"><input class=\"sk-toggleable__control sk-hidden--visually\" id=\"sk-estimator-id-21\" type=\"checkbox\" ><label for=\"sk-estimator-id-21\" class=\"sk-toggleable__label sk-toggleable__label-arrow\">OneHotEncoder</label><div class=\"sk-toggleable__content\"><pre>OneHotEncoder(dtype=&#x27;int&#x27;, handle_unknown=&#x27;ignore&#x27;)</pre></div></div></div></div></div></div><div class=\"sk-parallel-item\"><div class=\"sk-item\"><div class=\"sk-label-container\"><div class=\"sk-label sk-toggleable\"><input class=\"sk-toggleable__control sk-hidden--visually\" id=\"sk-estimator-id-22\" type=\"checkbox\" ><label for=\"sk-estimator-id-22\" class=\"sk-toggleable__label sk-toggleable__label-arrow\">vote_tf</label><div class=\"sk-toggleable__content\"><pre>[&#x27;vote&#x27;]</pre></div></div></div><div class=\"sk-serial\"><div class=\"sk-item\"><div class=\"sk-estimator sk-toggleable\"><input class=\"sk-toggleable__control sk-hidden--visually\" id=\"sk-estimator-id-23\" type=\"checkbox\" ><label for=\"sk-estimator-id-23\" class=\"sk-toggleable__label sk-toggleable__label-arrow\">OneHotEncoder</label><div class=\"sk-toggleable__content\"><pre>OneHotEncoder(dtype=&#x27;int&#x27;, handle_unknown=&#x27;ignore&#x27;)</pre></div></div></div></div></div></div><div class=\"sk-parallel-item\"><div class=\"sk-item\"><div class=\"sk-label-container\"><div class=\"sk-label sk-toggleable\"><input class=\"sk-toggleable__control sk-hidden--visually\" id=\"sk-estimator-id-24\" type=\"checkbox\" ><label for=\"sk-estimator-id-24\" class=\"sk-toggleable__label sk-toggleable__label-arrow\">remainder</label><div class=\"sk-toggleable__content\"><pre>[]</pre></div></div></div><div class=\"sk-serial\"><div class=\"sk-item\"><div class=\"sk-estimator sk-toggleable\"><input class=\"sk-toggleable__control sk-hidden--visually\" id=\"sk-estimator-id-25\" type=\"checkbox\" ><label for=\"sk-estimator-id-25\" class=\"sk-toggleable__label sk-toggleable__label-arrow\">passthrough</label><div class=\"sk-toggleable__content\"><pre>passthrough</pre></div></div></div></div></div></div></div></div><div class=\"sk-item\"><div class=\"sk-estimator sk-toggleable\"><input class=\"sk-toggleable__control sk-hidden--visually\" id=\"sk-estimator-id-26\" type=\"checkbox\" ><label for=\"sk-estimator-id-26\" class=\"sk-toggleable__label sk-toggleable__label-arrow\">DecisionTreeClassifier</label><div class=\"sk-toggleable__content\"><pre>DecisionTreeClassifier(max_depth=5, random_state=2, splitter=&#x27;random&#x27;)</pre></div></div></div></div></div></div></div>"
            ]
          },
          "metadata": {},
          "execution_count": 18
        }
      ]
    },
    {
      "cell_type": "code",
      "source": [
        "#Model fitting-3\n",
        "CLFPipeline_3.fit(X_train, y_train)"
      ],
      "metadata": {
        "colab": {
          "base_uri": "https://localhost:8080/",
          "height": 190
        },
        "id": "w_5pTdp7uc6O",
        "outputId": "7a973ad1-2864-4af9-a6b7-93b612183f3e"
      },
      "execution_count": null,
      "outputs": [
        {
          "output_type": "execute_result",
          "data": {
            "text/plain": [
              "Pipeline(steps=[('column_trans',\n",
              "                 ColumnTransformer(remainder='passthrough',\n",
              "                                   transformers=[('summary_tf',\n",
              "                                                  CountVectorizer(),\n",
              "                                                  'summary'),\n",
              "                                                 ('review_tf',\n",
              "                                                  CountVectorizer(),\n",
              "                                                  'reviewText'),\n",
              "                                                 ('category_tf',\n",
              "                                                  OneHotEncoder(dtype='int',\n",
              "                                                                handle_unknown='ignore'),\n",
              "                                                  ['category']),\n",
              "                                                 ('vote_tf',\n",
              "                                                  OneHotEncoder(dtype='int',\n",
              "                                                                handle_unknown='ignore'),\n",
              "                                                  ['vote'])])),\n",
              "                ('model',\n",
              "                 RandomForestClassifier(max_features=0.4, random_state=2))])"
            ],
            "text/html": [
              "<style>#sk-container-id-3 {color: black;background-color: white;}#sk-container-id-3 pre{padding: 0;}#sk-container-id-3 div.sk-toggleable {background-color: white;}#sk-container-id-3 label.sk-toggleable__label {cursor: pointer;display: block;width: 100%;margin-bottom: 0;padding: 0.3em;box-sizing: border-box;text-align: center;}#sk-container-id-3 label.sk-toggleable__label-arrow:before {content: \"▸\";float: left;margin-right: 0.25em;color: #696969;}#sk-container-id-3 label.sk-toggleable__label-arrow:hover:before {color: black;}#sk-container-id-3 div.sk-estimator:hover label.sk-toggleable__label-arrow:before {color: black;}#sk-container-id-3 div.sk-toggleable__content {max-height: 0;max-width: 0;overflow: hidden;text-align: left;background-color: #f0f8ff;}#sk-container-id-3 div.sk-toggleable__content pre {margin: 0.2em;color: black;border-radius: 0.25em;background-color: #f0f8ff;}#sk-container-id-3 input.sk-toggleable__control:checked~div.sk-toggleable__content {max-height: 200px;max-width: 100%;overflow: auto;}#sk-container-id-3 input.sk-toggleable__control:checked~label.sk-toggleable__label-arrow:before {content: \"▾\";}#sk-container-id-3 div.sk-estimator input.sk-toggleable__control:checked~label.sk-toggleable__label {background-color: #d4ebff;}#sk-container-id-3 div.sk-label input.sk-toggleable__control:checked~label.sk-toggleable__label {background-color: #d4ebff;}#sk-container-id-3 input.sk-hidden--visually {border: 0;clip: rect(1px 1px 1px 1px);clip: rect(1px, 1px, 1px, 1px);height: 1px;margin: -1px;overflow: hidden;padding: 0;position: absolute;width: 1px;}#sk-container-id-3 div.sk-estimator {font-family: monospace;background-color: #f0f8ff;border: 1px dotted black;border-radius: 0.25em;box-sizing: border-box;margin-bottom: 0.5em;}#sk-container-id-3 div.sk-estimator:hover {background-color: #d4ebff;}#sk-container-id-3 div.sk-parallel-item::after {content: \"\";width: 100%;border-bottom: 1px solid gray;flex-grow: 1;}#sk-container-id-3 div.sk-label:hover label.sk-toggleable__label {background-color: #d4ebff;}#sk-container-id-3 div.sk-serial::before {content: \"\";position: absolute;border-left: 1px solid gray;box-sizing: border-box;top: 0;bottom: 0;left: 50%;z-index: 0;}#sk-container-id-3 div.sk-serial {display: flex;flex-direction: column;align-items: center;background-color: white;padding-right: 0.2em;padding-left: 0.2em;position: relative;}#sk-container-id-3 div.sk-item {position: relative;z-index: 1;}#sk-container-id-3 div.sk-parallel {display: flex;align-items: stretch;justify-content: center;background-color: white;position: relative;}#sk-container-id-3 div.sk-item::before, #sk-container-id-3 div.sk-parallel-item::before {content: \"\";position: absolute;border-left: 1px solid gray;box-sizing: border-box;top: 0;bottom: 0;left: 50%;z-index: -1;}#sk-container-id-3 div.sk-parallel-item {display: flex;flex-direction: column;z-index: 1;position: relative;background-color: white;}#sk-container-id-3 div.sk-parallel-item:first-child::after {align-self: flex-end;width: 50%;}#sk-container-id-3 div.sk-parallel-item:last-child::after {align-self: flex-start;width: 50%;}#sk-container-id-3 div.sk-parallel-item:only-child::after {width: 0;}#sk-container-id-3 div.sk-dashed-wrapped {border: 1px dashed gray;margin: 0 0.4em 0.5em 0.4em;box-sizing: border-box;padding-bottom: 0.4em;background-color: white;}#sk-container-id-3 div.sk-label label {font-family: monospace;font-weight: bold;display: inline-block;line-height: 1.2em;}#sk-container-id-3 div.sk-label-container {text-align: center;}#sk-container-id-3 div.sk-container {/* jupyter's `normalize.less` sets `[hidden] { display: none; }` but bootstrap.min.css set `[hidden] { display: none !important; }` so we also need the `!important` here to be able to override the default hidden behavior on the sphinx rendered scikit-learn.org. See: https://github.com/scikit-learn/scikit-learn/issues/21755 */display: inline-block !important;position: relative;}#sk-container-id-3 div.sk-text-repr-fallback {display: none;}</style><div id=\"sk-container-id-3\" class=\"sk-top-container\"><div class=\"sk-text-repr-fallback\"><pre>Pipeline(steps=[(&#x27;column_trans&#x27;,\n",
              "                 ColumnTransformer(remainder=&#x27;passthrough&#x27;,\n",
              "                                   transformers=[(&#x27;summary_tf&#x27;,\n",
              "                                                  CountVectorizer(),\n",
              "                                                  &#x27;summary&#x27;),\n",
              "                                                 (&#x27;review_tf&#x27;,\n",
              "                                                  CountVectorizer(),\n",
              "                                                  &#x27;reviewText&#x27;),\n",
              "                                                 (&#x27;category_tf&#x27;,\n",
              "                                                  OneHotEncoder(dtype=&#x27;int&#x27;,\n",
              "                                                                handle_unknown=&#x27;ignore&#x27;),\n",
              "                                                  [&#x27;category&#x27;]),\n",
              "                                                 (&#x27;vote_tf&#x27;,\n",
              "                                                  OneHotEncoder(dtype=&#x27;int&#x27;,\n",
              "                                                                handle_unknown=&#x27;ignore&#x27;),\n",
              "                                                  [&#x27;vote&#x27;])])),\n",
              "                (&#x27;model&#x27;,\n",
              "                 RandomForestClassifier(max_features=0.4, random_state=2))])</pre><b>In a Jupyter environment, please rerun this cell to show the HTML representation or trust the notebook. <br />On GitHub, the HTML representation is unable to render, please try loading this page with nbviewer.org.</b></div><div class=\"sk-container\" hidden><div class=\"sk-item sk-dashed-wrapped\"><div class=\"sk-label-container\"><div class=\"sk-label sk-toggleable\"><input class=\"sk-toggleable__control sk-hidden--visually\" id=\"sk-estimator-id-27\" type=\"checkbox\" ><label for=\"sk-estimator-id-27\" class=\"sk-toggleable__label sk-toggleable__label-arrow\">Pipeline</label><div class=\"sk-toggleable__content\"><pre>Pipeline(steps=[(&#x27;column_trans&#x27;,\n",
              "                 ColumnTransformer(remainder=&#x27;passthrough&#x27;,\n",
              "                                   transformers=[(&#x27;summary_tf&#x27;,\n",
              "                                                  CountVectorizer(),\n",
              "                                                  &#x27;summary&#x27;),\n",
              "                                                 (&#x27;review_tf&#x27;,\n",
              "                                                  CountVectorizer(),\n",
              "                                                  &#x27;reviewText&#x27;),\n",
              "                                                 (&#x27;category_tf&#x27;,\n",
              "                                                  OneHotEncoder(dtype=&#x27;int&#x27;,\n",
              "                                                                handle_unknown=&#x27;ignore&#x27;),\n",
              "                                                  [&#x27;category&#x27;]),\n",
              "                                                 (&#x27;vote_tf&#x27;,\n",
              "                                                  OneHotEncoder(dtype=&#x27;int&#x27;,\n",
              "                                                                handle_unknown=&#x27;ignore&#x27;),\n",
              "                                                  [&#x27;vote&#x27;])])),\n",
              "                (&#x27;model&#x27;,\n",
              "                 RandomForestClassifier(max_features=0.4, random_state=2))])</pre></div></div></div><div class=\"sk-serial\"><div class=\"sk-item sk-dashed-wrapped\"><div class=\"sk-label-container\"><div class=\"sk-label sk-toggleable\"><input class=\"sk-toggleable__control sk-hidden--visually\" id=\"sk-estimator-id-28\" type=\"checkbox\" ><label for=\"sk-estimator-id-28\" class=\"sk-toggleable__label sk-toggleable__label-arrow\">column_trans: ColumnTransformer</label><div class=\"sk-toggleable__content\"><pre>ColumnTransformer(remainder=&#x27;passthrough&#x27;,\n",
              "                  transformers=[(&#x27;summary_tf&#x27;, CountVectorizer(), &#x27;summary&#x27;),\n",
              "                                (&#x27;review_tf&#x27;, CountVectorizer(), &#x27;reviewText&#x27;),\n",
              "                                (&#x27;category_tf&#x27;,\n",
              "                                 OneHotEncoder(dtype=&#x27;int&#x27;,\n",
              "                                               handle_unknown=&#x27;ignore&#x27;),\n",
              "                                 [&#x27;category&#x27;]),\n",
              "                                (&#x27;vote_tf&#x27;,\n",
              "                                 OneHotEncoder(dtype=&#x27;int&#x27;,\n",
              "                                               handle_unknown=&#x27;ignore&#x27;),\n",
              "                                 [&#x27;vote&#x27;])])</pre></div></div></div><div class=\"sk-parallel\"><div class=\"sk-parallel-item\"><div class=\"sk-item\"><div class=\"sk-label-container\"><div class=\"sk-label sk-toggleable\"><input class=\"sk-toggleable__control sk-hidden--visually\" id=\"sk-estimator-id-29\" type=\"checkbox\" ><label for=\"sk-estimator-id-29\" class=\"sk-toggleable__label sk-toggleable__label-arrow\">summary_tf</label><div class=\"sk-toggleable__content\"><pre>summary</pre></div></div></div><div class=\"sk-serial\"><div class=\"sk-item\"><div class=\"sk-estimator sk-toggleable\"><input class=\"sk-toggleable__control sk-hidden--visually\" id=\"sk-estimator-id-30\" type=\"checkbox\" ><label for=\"sk-estimator-id-30\" class=\"sk-toggleable__label sk-toggleable__label-arrow\">CountVectorizer</label><div class=\"sk-toggleable__content\"><pre>CountVectorizer()</pre></div></div></div></div></div></div><div class=\"sk-parallel-item\"><div class=\"sk-item\"><div class=\"sk-label-container\"><div class=\"sk-label sk-toggleable\"><input class=\"sk-toggleable__control sk-hidden--visually\" id=\"sk-estimator-id-31\" type=\"checkbox\" ><label for=\"sk-estimator-id-31\" class=\"sk-toggleable__label sk-toggleable__label-arrow\">review_tf</label><div class=\"sk-toggleable__content\"><pre>reviewText</pre></div></div></div><div class=\"sk-serial\"><div class=\"sk-item\"><div class=\"sk-estimator sk-toggleable\"><input class=\"sk-toggleable__control sk-hidden--visually\" id=\"sk-estimator-id-32\" type=\"checkbox\" ><label for=\"sk-estimator-id-32\" class=\"sk-toggleable__label sk-toggleable__label-arrow\">CountVectorizer</label><div class=\"sk-toggleable__content\"><pre>CountVectorizer()</pre></div></div></div></div></div></div><div class=\"sk-parallel-item\"><div class=\"sk-item\"><div class=\"sk-label-container\"><div class=\"sk-label sk-toggleable\"><input class=\"sk-toggleable__control sk-hidden--visually\" id=\"sk-estimator-id-33\" type=\"checkbox\" ><label for=\"sk-estimator-id-33\" class=\"sk-toggleable__label sk-toggleable__label-arrow\">category_tf</label><div class=\"sk-toggleable__content\"><pre>[&#x27;category&#x27;]</pre></div></div></div><div class=\"sk-serial\"><div class=\"sk-item\"><div class=\"sk-estimator sk-toggleable\"><input class=\"sk-toggleable__control sk-hidden--visually\" id=\"sk-estimator-id-34\" type=\"checkbox\" ><label for=\"sk-estimator-id-34\" class=\"sk-toggleable__label sk-toggleable__label-arrow\">OneHotEncoder</label><div class=\"sk-toggleable__content\"><pre>OneHotEncoder(dtype=&#x27;int&#x27;, handle_unknown=&#x27;ignore&#x27;)</pre></div></div></div></div></div></div><div class=\"sk-parallel-item\"><div class=\"sk-item\"><div class=\"sk-label-container\"><div class=\"sk-label sk-toggleable\"><input class=\"sk-toggleable__control sk-hidden--visually\" id=\"sk-estimator-id-35\" type=\"checkbox\" ><label for=\"sk-estimator-id-35\" class=\"sk-toggleable__label sk-toggleable__label-arrow\">vote_tf</label><div class=\"sk-toggleable__content\"><pre>[&#x27;vote&#x27;]</pre></div></div></div><div class=\"sk-serial\"><div class=\"sk-item\"><div class=\"sk-estimator sk-toggleable\"><input class=\"sk-toggleable__control sk-hidden--visually\" id=\"sk-estimator-id-36\" type=\"checkbox\" ><label for=\"sk-estimator-id-36\" class=\"sk-toggleable__label sk-toggleable__label-arrow\">OneHotEncoder</label><div class=\"sk-toggleable__content\"><pre>OneHotEncoder(dtype=&#x27;int&#x27;, handle_unknown=&#x27;ignore&#x27;)</pre></div></div></div></div></div></div><div class=\"sk-parallel-item\"><div class=\"sk-item\"><div class=\"sk-label-container\"><div class=\"sk-label sk-toggleable\"><input class=\"sk-toggleable__control sk-hidden--visually\" id=\"sk-estimator-id-37\" type=\"checkbox\" ><label for=\"sk-estimator-id-37\" class=\"sk-toggleable__label sk-toggleable__label-arrow\">remainder</label><div class=\"sk-toggleable__content\"><pre>[]</pre></div></div></div><div class=\"sk-serial\"><div class=\"sk-item\"><div class=\"sk-estimator sk-toggleable\"><input class=\"sk-toggleable__control sk-hidden--visually\" id=\"sk-estimator-id-38\" type=\"checkbox\" ><label for=\"sk-estimator-id-38\" class=\"sk-toggleable__label sk-toggleable__label-arrow\">passthrough</label><div class=\"sk-toggleable__content\"><pre>passthrough</pre></div></div></div></div></div></div></div></div><div class=\"sk-item\"><div class=\"sk-estimator sk-toggleable\"><input class=\"sk-toggleable__control sk-hidden--visually\" id=\"sk-estimator-id-39\" type=\"checkbox\" ><label for=\"sk-estimator-id-39\" class=\"sk-toggleable__label sk-toggleable__label-arrow\">RandomForestClassifier</label><div class=\"sk-toggleable__content\"><pre>RandomForestClassifier(max_features=0.4, random_state=2)</pre></div></div></div></div></div></div></div>"
            ]
          },
          "metadata": {},
          "execution_count": 19
        }
      ]
    },
    {
      "cell_type": "code",
      "source": [
        "from sklearn.metrics import roc_curve, auc, roc_auc_score\n",
        "from sklearn.metrics import ConfusionMatrixDisplay\n",
        "from IPython.display import display, HTML\n",
        "#With the given predicted y--->calculating false_positives, false_negatives, true_positives and true_negatives\n",
        "def performance_analysis(y_actual,y_pred):\n",
        "    false_positive = np.sum((y_actual == 0) & (y_pred == 1))\n",
        "    false_negative = np.sum((y_actual == 1) & (y_pred == 0))\n",
        "    true_positive = np.sum((y_actual == 1) & (y_pred == 1))\n",
        "    true_negative = np.sum((y_actual == 0) & (y_pred == 0))\n",
        "    \n",
        "    return false_positive, false_negative, true_positive, true_negative\n",
        "\n",
        "\n",
        "#Calculation of metrics for each model\n",
        "def metrics_value(model, y_test, y_pred, y_prob, model_pipeline):\n",
        "  F1_Score = f1_score(y_test, y_pred, average = 'macro')\n",
        "  false_positive, false_negative, true_positive, true_negative = performance_analysis(y_test,y_pred)\n",
        "  Accuracy = (true_positive + true_negative) / (true_positive + true_negative + false_positive + false_negative)\n",
        "  y_prob = y_prob[:,1]\n",
        "  fpr, tpr, Thresholds = roc_curve(y_test, y_prob)\n",
        "  AUC_Score = roc_auc_score(y_test, y_prob)\n",
        "\n",
        "  # Define HTML tags for bold text\n",
        "  BOLD = '<b>'\n",
        "  RESET = '</b>'\n",
        "\n",
        "  # Printing the values in bold\n",
        "  display(HTML(f\"{BOLD}Model : {model}{RESET}\"))\n",
        "  display(HTML(f\"{BOLD}F1 Score:{RESET} {F1_Score}\"))\n",
        "  display(HTML(f\"{BOLD}AUC Score:{RESET} {AUC_Score}\"))\n",
        "  display(HTML(f\"{BOLD}Accuracy:{RESET} {Accuracy}\"))\n",
        "  display(HTML(f\"{BOLD}Thresholds:{RESET} {Thresholds}\"))\n",
        "  \n",
        "  #Plotting the values\n",
        "  plt.plot(fpr, tpr, color='yellowgreen', label=f'ROC curve for model: {model}')\n",
        "  plt.plot([0, 1], [0, 1])\n",
        "  plt.xlabel('False Positive Rate')\n",
        "  plt.ylabel('True Positive Rate')\n",
        "  plt.title('ROC Curve')\n",
        "  plt.legend()\n",
        "  plt.show() \n",
        "  print('\\n')\n",
        "\n",
        "  #Confusion Matrix\n",
        "  disp = ConfusionMatrixDisplay.from_estimator(\n",
        "          model_pipeline,\n",
        "          X_test,\n",
        "          y_test,\n",
        "          display_labels=[0,1],\n",
        "          cmap=plt.cm.Greens\n",
        "      )\n",
        "  plt.title(\"Confusion Matrix\")\n",
        "  plt.show()"
      ],
      "metadata": {
        "id": "eyjsJs4OweCf"
      },
      "execution_count": null,
      "outputs": []
    },
    {
      "cell_type": "code",
      "source": [
        "#Predicting the overall score from the test data\n",
        "y_PredictionModel_1 = CLFPipeline_1.predict(X_test)\n",
        "y_ProbModel_1 = CLFPipeline_1.predict_proba(X_test)\n",
        "metrics_value(\"Logistic Regression\", y_test,y_PredictionModel_1,y_ProbModel_1, CLFPipeline_1)"
      ],
      "metadata": {
        "colab": {
          "base_uri": "https://localhost:8080/",
          "height": 1000
        },
        "id": "BE-rGYVuw2_4",
        "outputId": "ddabbfb4-c489-4292-d0f2-9b9117eae706"
      },
      "execution_count": null,
      "outputs": [
        {
          "output_type": "display_data",
          "data": {
            "text/plain": [
              "<IPython.core.display.HTML object>"
            ],
            "text/html": [
              "<b>Model : Logistic Regression</b>"
            ]
          },
          "metadata": {}
        },
        {
          "output_type": "display_data",
          "data": {
            "text/plain": [
              "<IPython.core.display.HTML object>"
            ],
            "text/html": [
              "<b>F1 Score:</b> 0.777357443121146"
            ]
          },
          "metadata": {}
        },
        {
          "output_type": "display_data",
          "data": {
            "text/plain": [
              "<IPython.core.display.HTML object>"
            ],
            "text/html": [
              "<b>AUC Score:</b> 0.8975186492901477"
            ]
          },
          "metadata": {}
        },
        {
          "output_type": "display_data",
          "data": {
            "text/plain": [
              "<IPython.core.display.HTML object>"
            ],
            "text/html": [
              "<b>Accuracy:</b> 0.8670777663583419"
            ]
          },
          "metadata": {}
        },
        {
          "output_type": "display_data",
          "data": {
            "text/plain": [
              "<IPython.core.display.HTML object>"
            ],
            "text/html": [
              "<b>Thresholds:</b> [2.00000000e+00 1.00000000e+00 9.99997910e-01 ... 4.75754352e-04\n",
              " 4.67459182e-04 3.70715209e-07]"
            ]
          },
          "metadata": {}
        },
        {
          "output_type": "display_data",
          "data": {
            "text/plain": [
              "<Figure size 640x480 with 1 Axes>"
            ],
            "image/png": "[encoded data removed]"
          },
          "metadata": {}
        },
        {
          "output_type": "stream",
          "name": "stdout",
          "text": [
            "\n",
            "\n"
          ]
        },
        {
          "output_type": "display_data",
          "data": {
            "text/plain": [
              "<Figure size 640x480 with 2 Axes>"
            ],
            "image/png": "[encoded data removed]"
          },
          "metadata": {}
        }
      ]
    },
    {
      "cell_type": "code",
      "source": [
        "#Predicting the overall score from the test data\n",
        "y_PredictionModel_2 = CLFPipeline_2.predict(X_test)\n",
        "y_ProbModel_2 = CLFPipeline_2.predict_proba(X_test)\n",
        "metrics_value(\"Logistic Regression\", y_test,y_PredictionModel_2,y_ProbModel_2, CLFPipeline_2)"
      ],
      "metadata": {
        "colab": {
          "base_uri": "https://localhost:8080/",
          "height": 1000
        },
        "id": "a5yAjh9wxCII",
        "outputId": "40488a3f-fa2f-4033-cf86-2262a7344f2c"
      },
      "execution_count": null,
      "outputs": [
        {
          "output_type": "display_data",
          "data": {
            "text/plain": [
              "<IPython.core.display.HTML object>"
            ],
            "text/html": [
              "<b>Model : Logistic Regression</b>"
            ]
          },
          "metadata": {}
        },
        {
          "output_type": "display_data",
          "data": {
            "text/plain": [
              "<IPython.core.display.HTML object>"
            ],
            "text/html": [
              "<b>F1 Score:</b> 0.6233476282102073"
            ]
          },
          "metadata": {}
        },
        {
          "output_type": "display_data",
          "data": {
            "text/plain": [
              "<IPython.core.display.HTML object>"
            ],
            "text/html": [
              "<b>AUC Score:</b> 0.7255244652150198"
            ]
          },
          "metadata": {}
        },
        {
          "output_type": "display_data",
          "data": {
            "text/plain": [
              "<IPython.core.display.HTML object>"
            ],
            "text/html": [
              "<b>Accuracy:</b> 0.8377869133264817"
            ]
          },
          "metadata": {}
        },
        {
          "output_type": "display_data",
          "data": {
            "text/plain": [
              "<IPython.core.display.HTML object>"
            ],
            "text/html": [
              "<b>Thresholds:</b> [1.99536532 0.99536532 0.95       0.83279149 0.78219396 0.67276888\n",
              " 0.65727342 0.32758621 0.25388601 0.25       0.24675325 0.11764706\n",
              " 0.00675676 0.        ]"
            ]
          },
          "metadata": {}
        },
        {
          "output_type": "display_data",
          "data": {
            "text/plain": [
              "<Figure size 640x480 with 1 Axes>"
            ],
            "image/png": "[encoded data removed]"
          },
          "metadata": {}
        },
        {
          "output_type": "stream",
          "name": "stdout",
          "text": [
            "\n",
            "\n"
          ]
        },
        {
          "output_type": "display_data",
          "data": {
            "text/plain": [
              "<Figure size 640x480 with 2 Axes>"
            ],
            "image/png": "[encoded data removed]"
          },
          "metadata": {}
        }
      ]
    },
    {
      "cell_type": "code",
      "source": [
        "#Predicting the overall score from the test data\n",
        "y_PredictionModel_3 = CLFPipeline_3.predict(X_test)\n",
        "y_ProbModel_3 = CLFPipeline_3.predict_proba(X_test)\n",
        "metrics_value(\"Logistic Regression\", y_test,y_PredictionModel_3,y_ProbModel_3, CLFPipeline_3)"
      ],
      "metadata": {
        "colab": {
          "base_uri": "https://localhost:8080/",
          "height": 1000
        },
        "id": "DDZ3A8h6xQE4",
        "outputId": "b14ed9c7-e741-4846-8bab-049a9e26198d"
      },
      "execution_count": null,
      "outputs": [
        {
          "output_type": "display_data",
          "data": {
            "text/plain": [
              "<IPython.core.display.HTML object>"
            ],
            "text/html": [
              "<b>Model : Logistic Regression</b>"
            ]
          },
          "metadata": {}
        },
        {
          "output_type": "display_data",
          "data": {
            "text/plain": [
              "<IPython.core.display.HTML object>"
            ],
            "text/html": [
              "<b>F1 Score:</b> 0.7193143270976959"
            ]
          },
          "metadata": {}
        },
        {
          "output_type": "display_data",
          "data": {
            "text/plain": [
              "<IPython.core.display.HTML object>"
            ],
            "text/html": [
              "<b>AUC Score:</b> 0.8807411065736904"
            ]
          },
          "metadata": {}
        },
        {
          "output_type": "display_data",
          "data": {
            "text/plain": [
              "<IPython.core.display.HTML object>"
            ],
            "text/html": [
              "<b>Accuracy:</b> 0.8610825625214115"
            ]
          },
          "metadata": {}
        },
        {
          "output_type": "display_data",
          "data": {
            "text/plain": [
              "<IPython.core.display.HTML object>"
            ],
            "text/html": [
              "<b>Thresholds:</b> [2.   1.   0.99 0.98 0.97 0.96 0.95 0.94 0.93 0.92 0.91 0.9  0.89 0.88\n",
              " 0.87 0.86 0.85 0.84 0.83 0.82 0.81 0.8  0.79 0.78 0.77 0.76 0.75 0.74\n",
              " 0.73 0.72 0.71 0.7  0.69 0.68 0.67 0.66 0.65 0.64 0.63 0.62 0.61 0.6\n",
              " 0.59 0.58 0.57 0.56 0.55 0.54 0.53 0.52 0.51 0.5  0.49 0.48 0.47 0.46\n",
              " 0.45 0.44 0.43 0.42 0.41 0.4  0.39 0.38 0.37 0.36 0.35 0.34 0.33 0.32\n",
              " 0.31 0.3  0.29 0.28 0.27 0.26 0.25 0.24 0.23 0.22 0.21 0.2  0.19 0.18\n",
              " 0.17 0.16 0.15 0.14 0.13 0.12 0.11 0.1  0.09 0.08 0.07 0.06 0.05 0.04\n",
              " 0.03 0.02 0.01 0.  ]"
            ]
          },
          "metadata": {}
        },
        {
          "output_type": "display_data",
          "data": {
            "text/plain": [
              "<Figure size 640x480 with 1 Axes>"
            ],
            "image/png": "[encoded data removed]"
          },
          "metadata": {}
        },
        {
          "output_type": "stream",
          "name": "stdout",
          "text": [
            "\n",
            "\n"
          ]
        },
        {
          "output_type": "display_data",
          "data": {
            "text/plain": [
              "<Figure size 640x480 with 2 Axes>"
            ],
            "image/png": "[encoded data removed]"
          },
          "metadata": {}
        }
      ]
    },
    {
      "cell_type": "code",
      "source": [
        "#Cleaning the test data\n",
        "Test_DataFrame = create_dataframe(data_encoder(Testing_Data), train=False)\n",
        "Test_DataFrame = Test_DataFrame.replace(np.nan, '')\n",
        "\n",
        "#Predictions for test data\n",
        "test_predictions = CLFPipeline_1.predict(Test_DataFrame)"
      ],
      "metadata": {
        "id": "GYtEgKQ1xeqI"
      },
      "execution_count": null,
      "outputs": []
    },
    {
      "cell_type": "code",
      "source": [
        "# IMPORTANT: use 'id' and 'predicted' as the column names\n",
        "test_ids = list(Test_DataFrame.index) # the 'id' column name is the index of the test samples"
      ],
      "metadata": {
        "id": "n4KlgRmOxjVv"
      },
      "execution_count": null,
      "outputs": []
    },
    {
      "cell_type": "code",
      "source": [
        "test_submission = pd.DataFrame({'id':test_ids, 'binary_split_1':test_predictions})\n",
        "print(test_submission.shape) # should be (4500, 2)\n",
        "test_submission.head()"
      ],
      "metadata": {
        "colab": {
          "base_uri": "https://localhost:8080/",
          "height": 223
        },
        "id": "WJB7Fvv-x1bw",
        "outputId": "d58320c7-2a83-427b-d1cc-a94fa74ba435"
      },
      "execution_count": null,
      "outputs": [
        {
          "output_type": "stream",
          "name": "stdout",
          "text": [
            "(4500, 2)\n"
          ]
        },
        {
          "output_type": "execute_result",
          "data": {
            "text/plain": [
              "   id  binary_split_1\n",
              "0   0               0\n",
              "1   1               0\n",
              "2   2               0\n",
              "3   3               1\n",
              "4   4               1"
            ],
            "text/html": [
              "\n",
              "  <div id=\"df-ef27d0d9-c00d-4916-a51d-2657fa3ea1d7\">\n",
              "    <div class=\"colab-df-container\">\n",
              "      <div>\n",
              "<style scoped>\n",
              "    .dataframe tbody tr th:only-of-type {\n",
              "        vertical-align: middle;\n",
              "    }\n",
              "\n",
              "    .dataframe tbody tr th {\n",
              "        vertical-align: top;\n",
              "    }\n",
              "\n",
              "    .dataframe thead th {\n",
              "        text-align: right;\n",
              "    }\n",
              "</style>\n",
              "<table border=\"1\" class=\"dataframe\">\n",
              "  <thead>\n",
              "    <tr style=\"text-align: right;\">\n",
              "      <th></th>\n",
              "      <th>id</th>\n",
              "      <th>binary_split_1</th>\n",
              "    </tr>\n",
              "  </thead>\n",
              "  <tbody>\n",
              "    <tr>\n",
              "      <th>0</th>\n",
              "      <td>0</td>\n",
              "      <td>0</td>\n",
              "    </tr>\n",
              "    <tr>\n",
              "      <th>1</th>\n",
              "      <td>1</td>\n",
              "      <td>0</td>\n",
              "    </tr>\n",
              "    <tr>\n",
              "      <th>2</th>\n",
              "      <td>2</td>\n",
              "      <td>0</td>\n",
              "    </tr>\n",
              "    <tr>\n",
              "      <th>3</th>\n",
              "      <td>3</td>\n",
              "      <td>1</td>\n",
              "    </tr>\n",
              "    <tr>\n",
              "      <th>4</th>\n",
              "      <td>4</td>\n",
              "      <td>1</td>\n",
              "    </tr>\n",
              "  </tbody>\n",
              "</table>\n",
              "</div>\n",
              "      <button class=\"colab-df-convert\" onclick=\"convertToInteractive('df-ef27d0d9-c00d-4916-a51d-2657fa3ea1d7')\"\n",
              "              title=\"Convert this dataframe to an interactive table.\"\n",
              "              style=\"display:none;\">\n",
              "        \n",
              "  <svg xmlns=\"http://www.w3.org/2000/svg\" height=\"24px\"viewBox=\"0 0 24 24\"\n",
              "       width=\"24px\">\n",
              "    <path d=\"M0 0h24v24H0V0z\" fill=\"none\"/>\n",
              "    <path d=\"M18.56 5.44l.94 2.06.94-2.06 2.06-.94-2.06-.94-.94-2.06-.94 2.06-2.06.94zm-11 1L8.5 8.5l.94-2.06 2.06-.94-2.06-.94L8.5 2.5l-.94 2.06-2.06.94zm10 10l.94 2.06.94-2.06 2.06-.94-2.06-.94-.94-2.06-.94 2.06-2.06.94z\"/><path d=\"M17.41 7.96l-1.37-1.37c-.4-.4-.92-.59-1.43-.59-.52 0-1.04.2-1.43.59L10.3 9.45l-7.72 7.72c-.78.78-.78 2.05 0 2.83L4 21.41c.39.39.9.59 1.41.59.51 0 1.02-.2 1.41-.59l7.78-7.78 2.81-2.81c.8-.78.8-2.07 0-2.86zM5.41 20L4 18.59l7.72-7.72 1.47 1.35L5.41 20z\"/>\n",
              "  </svg>\n",
              "      </button>\n",
              "      \n",
              "  <style>\n",
              "    .colab-df-container {\n",
              "      display:flex;\n",
              "      flex-wrap:wrap;\n",
              "      gap: 12px;\n",
              "    }\n",
              "\n",
              "    .colab-df-convert {\n",
              "      background-color: #E8F0FE;\n",
              "      border: none;\n",
              "      border-radius: 50%;\n",
              "      cursor: pointer;\n",
              "      display: none;\n",
              "      fill: #1967D2;\n",
              "      height: 32px;\n",
              "      padding: 0 0 0 0;\n",
              "      width: 32px;\n",
              "    }\n",
              "\n",
              "    .colab-df-convert:hover {\n",
              "      background-color: #E2EBFA;\n",
              "      box-shadow: 0px 1px 2px rgba(60, 64, 67, 0.3), 0px 1px 3px 1px rgba(60, 64, 67, 0.15);\n",
              "      fill: #174EA6;\n",
              "    }\n",
              "\n",
              "    [theme=dark] .colab-df-convert {\n",
              "      background-color: #3B4455;\n",
              "      fill: #D2E3FC;\n",
              "    }\n",
              "\n",
              "    [theme=dark] .colab-df-convert:hover {\n",
              "      background-color: #434B5C;\n",
              "      box-shadow: 0px 1px 3px 1px rgba(0, 0, 0, 0.15);\n",
              "      filter: drop-shadow(0px 1px 2px rgba(0, 0, 0, 0.3));\n",
              "      fill: #FFFFFF;\n",
              "    }\n",
              "  </style>\n",
              "\n",
              "      <script>\n",
              "        const buttonEl =\n",
              "          document.querySelector('#df-ef27d0d9-c00d-4916-a51d-2657fa3ea1d7 button.colab-df-convert');\n",
              "        buttonEl.style.display =\n",
              "          google.colab.kernel.accessAllowed ? 'block' : 'none';\n",
              "\n",
              "        async function convertToInteractive(key) {\n",
              "          const element = document.querySelector('#df-ef27d0d9-c00d-4916-a51d-2657fa3ea1d7');\n",
              "          const dataTable =\n",
              "            await google.colab.kernel.invokeFunction('convertToInteractive',\n",
              "                                                     [key], {});\n",
              "          if (!dataTable) return;\n",
              "\n",
              "          const docLinkHtml = 'Like what you see? Visit the ' +\n",
              "            '<a target=\"_blank\" href=https://colab.research.google.com/notebooks/data_table.ipynb>data table notebook</a>'\n",
              "            + ' to learn more about interactive tables.';\n",
              "          element.innerHTML = '';\n",
              "          dataTable['output_type'] = 'display_data';\n",
              "          await google.colab.output.renderOutput(dataTable, element);\n",
              "          const docLink = document.createElement('div');\n",
              "          docLink.innerHTML = docLinkHtml;\n",
              "          element.appendChild(docLink);\n",
              "        }\n",
              "      </script>\n",
              "    </div>\n",
              "  </div>\n",
              "  "
            ]
          },
          "metadata": {},
          "execution_count": 27
        }
      ]
    },
    {
      "cell_type": "code",
      "source": [
        "test_submission.to_csv('test_submission_part1_final.csv', index=False)"
      ],
      "metadata": {
        "id": "6GG3rzrUx60B"
      },
      "execution_count": null,
      "outputs": []
    }
  ]
}