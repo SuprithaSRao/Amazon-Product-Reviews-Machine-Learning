{
  "nbformat": 4,
  "nbformat_minor": 0,
  "metadata": {
    "colab": {
      "provenance": []
    },
    "kernelspec": {
      "name": "python3",
      "display_name": "Python 3"
    },
    "language_info": {
      "name": "python"
    }
  },
  "cells": [
    {
      "cell_type": "code",
      "execution_count": null,
      "metadata": {
        "id": "oOKkuiyS6jyG"
      },
      "outputs": [],
      "source": [
        "import pandas as pd\n",
        "# upload Training.csv and Test.csv from the kaggle competition!\n",
        "Training_Data = pd.read_csv('Training.csv')\n",
        "Testing_Data = pd.read_csv('Test.csv')\n",
        "cutoff=4"
      ]
    },
    {
      "cell_type": "code",
      "source": [
        "#All the required library importing\n",
        "from sklearn import linear_model\n",
        "import numpy as np\n",
        "import matplotlib.pyplot as plt\n",
        "from sklearn.metrics import f1_score\n",
        "from sklearn.linear_model import LogisticRegression\n",
        "from sklearn.model_selection import train_test_split\n",
        "from sklearn.feature_extraction.text import CountVectorizer"
      ],
      "metadata": {
        "id": "vF3A0WVD7BJg"
      },
      "execution_count": null,
      "outputs": []
    },
    {
      "cell_type": "code",
      "source": [
        "#Preprocessing data\n",
        "def data_encoder(dataset):\n",
        "  dataset['category'] = dataset.category.astype('category')\n",
        "  dataset['vote'] = np.where(np.isfinite(dataset.vote),dataset.vote,-1)\n",
        "  dataset['vote'] = dataset.vote.astype('int')\n",
        "  return dataset"
      ],
      "metadata": {
        "id": "tbvWVmHm7HZo"
      },
      "execution_count": null,
      "outputs": []
    },
    {
      "cell_type": "code",
      "source": [
        "#New dataframes with processed features\n",
        "def create_dataframe(dataset, train = True):\n",
        "    dataframe = pd.DataFrame(\n",
        "    {'summary': dataset['summary'],\n",
        "    'reviewText': dataset['reviewText'],\n",
        "    'category': dataset['category'],\n",
        "    'vote': dataset['vote']})\n",
        "\n",
        "    if train == True :\n",
        "      dataframe['overall'] = dataset['overall']\n",
        "    dataframe = dataframe.replace(np.nan, '')\n",
        "    return dataframe"
      ],
      "metadata": {
        "id": "jw7FxdWu7NuO"
      },
      "execution_count": null,
      "outputs": []
    },
    {
      "cell_type": "code",
      "source": [
        "#Column transofrmer: to process the different features\n",
        "from sklearn.compose import ColumnTransformer\n",
        "#CountVectorizer:for text features\n",
        "from sklearn.feature_extraction.text import CountVectorizer\n",
        "#OneHotEncoder: for everything else\n",
        "from sklearn.preprocessing import OneHotEncoder\n",
        "\n",
        "column_trans = ColumnTransformer([\n",
        "    ('summary_tf', CountVectorizer(),'summary'),\n",
        "    ('review_tf', CountVectorizer(),'reviewText'),\n",
        "    ('category_tf', OneHotEncoder(dtype='int',handle_unknown='ignore'),['category']),\n",
        "    ('vote_tf', OneHotEncoder(dtype='int',handle_unknown='ignore'),['vote'])],remainder='passthrough', verbose_feature_names_out=True)"
      ],
      "metadata": {
        "id": "tTka02XZ7SqP"
      },
      "execution_count": null,
      "outputs": []
    },
    {
      "cell_type": "code",
      "source": [
        "#Model-1 (tuned hyper-parameters)\n",
        "from sklearn.linear_model import LogisticRegression\n",
        "LogRegCLF_1 = LogisticRegression(random_state=2, solver='liblinear', C=0.2, penalty='l2', max_iter=25)"
      ],
      "metadata": {
        "id": "C646aOyV7XyX"
      },
      "execution_count": null,
      "outputs": []
    },
    {
      "cell_type": "code",
      "source": [
        "#Model-2 (tuned hyper-parameters)\n",
        "from sklearn.tree import DecisionTreeClassifier\n",
        "DecTreeCLF_2 = DecisionTreeClassifier(random_state=2, max_depth =5, splitter='best')"
      ],
      "metadata": {
        "id": "m2gcfmub7fiu"
      },
      "execution_count": null,
      "outputs": []
    },
    {
      "cell_type": "code",
      "source": [
        "#Model-3 (tuned hyper-parameters)\n",
        "from sklearn.ensemble import RandomForestClassifier\n",
        "RanForestCLF_3 = RandomForestClassifier(max_depth=None, max_features=0.3,  random_state=2)"
      ],
      "metadata": {
        "id": "gLC0_uBb7vfe"
      },
      "execution_count": null,
      "outputs": []
    },
    {
      "cell_type": "code",
      "source": [
        "#Pipelines: to give preeprocessed data to Classifiers\n",
        "from sklearn.pipeline import Pipeline\n",
        "\n",
        "CLFPipeline_1 = Pipeline(steps=[\n",
        "    ('column_trans', column_trans),\n",
        "    ('model', LogRegCLF_1)\n",
        "])\n",
        "\n",
        "CLFPipeline_2 = Pipeline(steps=[\n",
        "    ('column_trans', column_trans),\n",
        "    ('model', DecTreeCLF_2)\n",
        "])\n",
        "\n",
        "CLFPipeline_3 = Pipeline(steps=[\n",
        "    ('column_trans', column_trans),\n",
        "    ('model', RanForestCLF_3)\n",
        "])"
      ],
      "metadata": {
        "id": "RKF9jMSp8RIv"
      },
      "execution_count": null,
      "outputs": []
    },
    {
      "cell_type": "code",
      "source": [
        "from sklearn.model_selection import train_test_split\n",
        "\n",
        "TrainingDF = create_dataframe(data_encoder(Training_Data), train=True)\n",
        "X = TrainingDF[['summary','reviewText','vote','category']]\n",
        "y = np.where(TrainingDF['overall']>cutoff,1,0)\n",
        "\n",
        "X_train, X_test, y_train, y_test = train_test_split(X, y, test_size=0.2, random_state=2)"
      ],
      "metadata": {
        "id": "L0l22Bzg8XdY"
      },
      "execution_count": null,
      "outputs": []
    },
    {
      "cell_type": "code",
      "source": [
        "#Printing values from each pipleine\n",
        "print(CLFPipeline_1.get_params())\n",
        "print(CLFPipeline_2.get_params())\n",
        "print(CLFPipeline_3.get_params())"
      ],
      "metadata": {
        "colab": {
          "base_uri": "https://localhost:8080/"
        },
        "id": "85tZKJTg8c6H",
        "outputId": "ea74dcde-f740-4313-c2cf-86f9a4e596eb"
      },
      "execution_count": null,
      "outputs": [
        {
          "output_type": "stream",
          "name": "stdout",
          "text": [
            "{'memory': None, 'steps': [('column_trans', ColumnTransformer(remainder='passthrough',\n",
            "                  transformers=[('summary_tf', CountVectorizer(), 'summary'),\n",
            "                                ('review_tf', CountVectorizer(), 'reviewText'),\n",
            "                                ('category_tf',\n",
            "                                 OneHotEncoder(dtype='int',\n",
            "                                               handle_unknown='ignore'),\n",
            "                                 ['category']),\n",
            "                                ('vote_tf',\n",
            "                                 OneHotEncoder(dtype='int',\n",
            "                                               handle_unknown='ignore'),\n",
            "                                 ['vote'])])), ('model', LogisticRegression(C=0.2, max_iter=25, random_state=2, solver='liblinear'))], 'verbose': False, 'column_trans': ColumnTransformer(remainder='passthrough',\n",
            "                  transformers=[('summary_tf', CountVectorizer(), 'summary'),\n",
            "                                ('review_tf', CountVectorizer(), 'reviewText'),\n",
            "                                ('category_tf',\n",
            "                                 OneHotEncoder(dtype='int',\n",
            "                                               handle_unknown='ignore'),\n",
            "                                 ['category']),\n",
            "                                ('vote_tf',\n",
            "                                 OneHotEncoder(dtype='int',\n",
            "                                               handle_unknown='ignore'),\n",
            "                                 ['vote'])]), 'model': LogisticRegression(C=0.2, max_iter=25, random_state=2, solver='liblinear'), 'column_trans__n_jobs': None, 'column_trans__remainder': 'passthrough', 'column_trans__sparse_threshold': 0.3, 'column_trans__transformer_weights': None, 'column_trans__transformers': [('summary_tf', CountVectorizer(), 'summary'), ('review_tf', CountVectorizer(), 'reviewText'), ('category_tf', OneHotEncoder(dtype='int', handle_unknown='ignore'), ['category']), ('vote_tf', OneHotEncoder(dtype='int', handle_unknown='ignore'), ['vote'])], 'column_trans__verbose': False, 'column_trans__verbose_feature_names_out': True, 'column_trans__summary_tf': CountVectorizer(), 'column_trans__review_tf': CountVectorizer(), 'column_trans__category_tf': OneHotEncoder(dtype='int', handle_unknown='ignore'), 'column_trans__vote_tf': OneHotEncoder(dtype='int', handle_unknown='ignore'), 'column_trans__summary_tf__analyzer': 'word', 'column_trans__summary_tf__binary': False, 'column_trans__summary_tf__decode_error': 'strict', 'column_trans__summary_tf__dtype': <class 'numpy.int64'>, 'column_trans__summary_tf__encoding': 'utf-8', 'column_trans__summary_tf__input': 'content', 'column_trans__summary_tf__lowercase': True, 'column_trans__summary_tf__max_df': 1.0, 'column_trans__summary_tf__max_features': None, 'column_trans__summary_tf__min_df': 1, 'column_trans__summary_tf__ngram_range': (1, 1), 'column_trans__summary_tf__preprocessor': None, 'column_trans__summary_tf__stop_words': None, 'column_trans__summary_tf__strip_accents': None, 'column_trans__summary_tf__token_pattern': '(?u)\\\\b\\\\w\\\\w+\\\\b', 'column_trans__summary_tf__tokenizer': None, 'column_trans__summary_tf__vocabulary': None, 'column_trans__review_tf__analyzer': 'word', 'column_trans__review_tf__binary': False, 'column_trans__review_tf__decode_error': 'strict', 'column_trans__review_tf__dtype': <class 'numpy.int64'>, 'column_trans__review_tf__encoding': 'utf-8', 'column_trans__review_tf__input': 'content', 'column_trans__review_tf__lowercase': True, 'column_trans__review_tf__max_df': 1.0, 'column_trans__review_tf__max_features': None, 'column_trans__review_tf__min_df': 1, 'column_trans__review_tf__ngram_range': (1, 1), 'column_trans__review_tf__preprocessor': None, 'column_trans__review_tf__stop_words': None, 'column_trans__review_tf__strip_accents': None, 'column_trans__review_tf__token_pattern': '(?u)\\\\b\\\\w\\\\w+\\\\b', 'column_trans__review_tf__tokenizer': None, 'column_trans__review_tf__vocabulary': None, 'column_trans__category_tf__categories': 'auto', 'column_trans__category_tf__drop': None, 'column_trans__category_tf__dtype': 'int', 'column_trans__category_tf__handle_unknown': 'ignore', 'column_trans__category_tf__max_categories': None, 'column_trans__category_tf__min_frequency': None, 'column_trans__category_tf__sparse': 'deprecated', 'column_trans__category_tf__sparse_output': True, 'column_trans__vote_tf__categories': 'auto', 'column_trans__vote_tf__drop': None, 'column_trans__vote_tf__dtype': 'int', 'column_trans__vote_tf__handle_unknown': 'ignore', 'column_trans__vote_tf__max_categories': None, 'column_trans__vote_tf__min_frequency': None, 'column_trans__vote_tf__sparse': 'deprecated', 'column_trans__vote_tf__sparse_output': True, 'model__C': 0.2, 'model__class_weight': None, 'model__dual': False, 'model__fit_intercept': True, 'model__intercept_scaling': 1, 'model__l1_ratio': None, 'model__max_iter': 25, 'model__multi_class': 'auto', 'model__n_jobs': None, 'model__penalty': 'l2', 'model__random_state': 2, 'model__solver': 'liblinear', 'model__tol': 0.0001, 'model__verbose': 0, 'model__warm_start': False}\n",
            "{'memory': None, 'steps': [('column_trans', ColumnTransformer(remainder='passthrough',\n",
            "                  transformers=[('summary_tf', CountVectorizer(), 'summary'),\n",
            "                                ('review_tf', CountVectorizer(), 'reviewText'),\n",
            "                                ('category_tf',\n",
            "                                 OneHotEncoder(dtype='int',\n",
            "                                               handle_unknown='ignore'),\n",
            "                                 ['category']),\n",
            "                                ('vote_tf',\n",
            "                                 OneHotEncoder(dtype='int',\n",
            "                                               handle_unknown='ignore'),\n",
            "                                 ['vote'])])), ('model', DecisionTreeClassifier(max_depth=5, random_state=2))], 'verbose': False, 'column_trans': ColumnTransformer(remainder='passthrough',\n",
            "                  transformers=[('summary_tf', CountVectorizer(), 'summary'),\n",
            "                                ('review_tf', CountVectorizer(), 'reviewText'),\n",
            "                                ('category_tf',\n",
            "                                 OneHotEncoder(dtype='int',\n",
            "                                               handle_unknown='ignore'),\n",
            "                                 ['category']),\n",
            "                                ('vote_tf',\n",
            "                                 OneHotEncoder(dtype='int',\n",
            "                                               handle_unknown='ignore'),\n",
            "                                 ['vote'])]), 'model': DecisionTreeClassifier(max_depth=5, random_state=2), 'column_trans__n_jobs': None, 'column_trans__remainder': 'passthrough', 'column_trans__sparse_threshold': 0.3, 'column_trans__transformer_weights': None, 'column_trans__transformers': [('summary_tf', CountVectorizer(), 'summary'), ('review_tf', CountVectorizer(), 'reviewText'), ('category_tf', OneHotEncoder(dtype='int', handle_unknown='ignore'), ['category']), ('vote_tf', OneHotEncoder(dtype='int', handle_unknown='ignore'), ['vote'])], 'column_trans__verbose': False, 'column_trans__verbose_feature_names_out': True, 'column_trans__summary_tf': CountVectorizer(), 'column_trans__review_tf': CountVectorizer(), 'column_trans__category_tf': OneHotEncoder(dtype='int', handle_unknown='ignore'), 'column_trans__vote_tf': OneHotEncoder(dtype='int', handle_unknown='ignore'), 'column_trans__summary_tf__analyzer': 'word', 'column_trans__summary_tf__binary': False, 'column_trans__summary_tf__decode_error': 'strict', 'column_trans__summary_tf__dtype': <class 'numpy.int64'>, 'column_trans__summary_tf__encoding': 'utf-8', 'column_trans__summary_tf__input': 'content', 'column_trans__summary_tf__lowercase': True, 'column_trans__summary_tf__max_df': 1.0, 'column_trans__summary_tf__max_features': None, 'column_trans__summary_tf__min_df': 1, 'column_trans__summary_tf__ngram_range': (1, 1), 'column_trans__summary_tf__preprocessor': None, 'column_trans__summary_tf__stop_words': None, 'column_trans__summary_tf__strip_accents': None, 'column_trans__summary_tf__token_pattern': '(?u)\\\\b\\\\w\\\\w+\\\\b', 'column_trans__summary_tf__tokenizer': None, 'column_trans__summary_tf__vocabulary': None, 'column_trans__review_tf__analyzer': 'word', 'column_trans__review_tf__binary': False, 'column_trans__review_tf__decode_error': 'strict', 'column_trans__review_tf__dtype': <class 'numpy.int64'>, 'column_trans__review_tf__encoding': 'utf-8', 'column_trans__review_tf__input': 'content', 'column_trans__review_tf__lowercase': True, 'column_trans__review_tf__max_df': 1.0, 'column_trans__review_tf__max_features': None, 'column_trans__review_tf__min_df': 1, 'column_trans__review_tf__ngram_range': (1, 1), 'column_trans__review_tf__preprocessor': None, 'column_trans__review_tf__stop_words': None, 'column_trans__review_tf__strip_accents': None, 'column_trans__review_tf__token_pattern': '(?u)\\\\b\\\\w\\\\w+\\\\b', 'column_trans__review_tf__tokenizer': None, 'column_trans__review_tf__vocabulary': None, 'column_trans__category_tf__categories': 'auto', 'column_trans__category_tf__drop': None, 'column_trans__category_tf__dtype': 'int', 'column_trans__category_tf__handle_unknown': 'ignore', 'column_trans__category_tf__max_categories': None, 'column_trans__category_tf__min_frequency': None, 'column_trans__category_tf__sparse': 'deprecated', 'column_trans__category_tf__sparse_output': True, 'column_trans__vote_tf__categories': 'auto', 'column_trans__vote_tf__drop': None, 'column_trans__vote_tf__dtype': 'int', 'column_trans__vote_tf__handle_unknown': 'ignore', 'column_trans__vote_tf__max_categories': None, 'column_trans__vote_tf__min_frequency': None, 'column_trans__vote_tf__sparse': 'deprecated', 'column_trans__vote_tf__sparse_output': True, 'model__ccp_alpha': 0.0, 'model__class_weight': None, 'model__criterion': 'gini', 'model__max_depth': 5, 'model__max_features': None, 'model__max_leaf_nodes': None, 'model__min_impurity_decrease': 0.0, 'model__min_samples_leaf': 1, 'model__min_samples_split': 2, 'model__min_weight_fraction_leaf': 0.0, 'model__random_state': 2, 'model__splitter': 'best'}\n",
            "{'memory': None, 'steps': [('column_trans', ColumnTransformer(remainder='passthrough',\n",
            "                  transformers=[('summary_tf', CountVectorizer(), 'summary'),\n",
            "                                ('review_tf', CountVectorizer(), 'reviewText'),\n",
            "                                ('category_tf',\n",
            "                                 OneHotEncoder(dtype='int',\n",
            "                                               handle_unknown='ignore'),\n",
            "                                 ['category']),\n",
            "                                ('vote_tf',\n",
            "                                 OneHotEncoder(dtype='int',\n",
            "                                               handle_unknown='ignore'),\n",
            "                                 ['vote'])])), ('model', RandomForestClassifier(max_features=0.3, random_state=2))], 'verbose': False, 'column_trans': ColumnTransformer(remainder='passthrough',\n",
            "                  transformers=[('summary_tf', CountVectorizer(), 'summary'),\n",
            "                                ('review_tf', CountVectorizer(), 'reviewText'),\n",
            "                                ('category_tf',\n",
            "                                 OneHotEncoder(dtype='int',\n",
            "                                               handle_unknown='ignore'),\n",
            "                                 ['category']),\n",
            "                                ('vote_tf',\n",
            "                                 OneHotEncoder(dtype='int',\n",
            "                                               handle_unknown='ignore'),\n",
            "                                 ['vote'])]), 'model': RandomForestClassifier(max_features=0.3, random_state=2), 'column_trans__n_jobs': None, 'column_trans__remainder': 'passthrough', 'column_trans__sparse_threshold': 0.3, 'column_trans__transformer_weights': None, 'column_trans__transformers': [('summary_tf', CountVectorizer(), 'summary'), ('review_tf', CountVectorizer(), 'reviewText'), ('category_tf', OneHotEncoder(dtype='int', handle_unknown='ignore'), ['category']), ('vote_tf', OneHotEncoder(dtype='int', handle_unknown='ignore'), ['vote'])], 'column_trans__verbose': False, 'column_trans__verbose_feature_names_out': True, 'column_trans__summary_tf': CountVectorizer(), 'column_trans__review_tf': CountVectorizer(), 'column_trans__category_tf': OneHotEncoder(dtype='int', handle_unknown='ignore'), 'column_trans__vote_tf': OneHotEncoder(dtype='int', handle_unknown='ignore'), 'column_trans__summary_tf__analyzer': 'word', 'column_trans__summary_tf__binary': False, 'column_trans__summary_tf__decode_error': 'strict', 'column_trans__summary_tf__dtype': <class 'numpy.int64'>, 'column_trans__summary_tf__encoding': 'utf-8', 'column_trans__summary_tf__input': 'content', 'column_trans__summary_tf__lowercase': True, 'column_trans__summary_tf__max_df': 1.0, 'column_trans__summary_tf__max_features': None, 'column_trans__summary_tf__min_df': 1, 'column_trans__summary_tf__ngram_range': (1, 1), 'column_trans__summary_tf__preprocessor': None, 'column_trans__summary_tf__stop_words': None, 'column_trans__summary_tf__strip_accents': None, 'column_trans__summary_tf__token_pattern': '(?u)\\\\b\\\\w\\\\w+\\\\b', 'column_trans__summary_tf__tokenizer': None, 'column_trans__summary_tf__vocabulary': None, 'column_trans__review_tf__analyzer': 'word', 'column_trans__review_tf__binary': False, 'column_trans__review_tf__decode_error': 'strict', 'column_trans__review_tf__dtype': <class 'numpy.int64'>, 'column_trans__review_tf__encoding': 'utf-8', 'column_trans__review_tf__input': 'content', 'column_trans__review_tf__lowercase': True, 'column_trans__review_tf__max_df': 1.0, 'column_trans__review_tf__max_features': None, 'column_trans__review_tf__min_df': 1, 'column_trans__review_tf__ngram_range': (1, 1), 'column_trans__review_tf__preprocessor': None, 'column_trans__review_tf__stop_words': None, 'column_trans__review_tf__strip_accents': None, 'column_trans__review_tf__token_pattern': '(?u)\\\\b\\\\w\\\\w+\\\\b', 'column_trans__review_tf__tokenizer': None, 'column_trans__review_tf__vocabulary': None, 'column_trans__category_tf__categories': 'auto', 'column_trans__category_tf__drop': None, 'column_trans__category_tf__dtype': 'int', 'column_trans__category_tf__handle_unknown': 'ignore', 'column_trans__category_tf__max_categories': None, 'column_trans__category_tf__min_frequency': None, 'column_trans__category_tf__sparse': 'deprecated', 'column_trans__category_tf__sparse_output': True, 'column_trans__vote_tf__categories': 'auto', 'column_trans__vote_tf__drop': None, 'column_trans__vote_tf__dtype': 'int', 'column_trans__vote_tf__handle_unknown': 'ignore', 'column_trans__vote_tf__max_categories': None, 'column_trans__vote_tf__min_frequency': None, 'column_trans__vote_tf__sparse': 'deprecated', 'column_trans__vote_tf__sparse_output': True, 'model__bootstrap': True, 'model__ccp_alpha': 0.0, 'model__class_weight': None, 'model__criterion': 'gini', 'model__max_depth': None, 'model__max_features': 0.3, 'model__max_leaf_nodes': None, 'model__max_samples': None, 'model__min_impurity_decrease': 0.0, 'model__min_samples_leaf': 1, 'model__min_samples_split': 2, 'model__min_weight_fraction_leaf': 0.0, 'model__n_estimators': 100, 'model__n_jobs': None, 'model__oob_score': False, 'model__random_state': 2, 'model__verbose': 0, 'model__warm_start': False}\n"
          ]
        }
      ]
    },
    {
      "cell_type": "code",
      "source": [
        "#Grids for tuning (hyper-parameters)\n",
        "GridParameters_1 = {'model__C' : [0.1,0.5,0.8,1.3,1.7],'model__max_iter': np.arange(25, 1000, 250, dtype=int)}\n",
        "GridParameters_2 = {'model__splitter' : ['best', 'random'],'model__max_depth' : [None,2,5]}\n",
        "GridParameters_3 = {'model__max_depth' : [None,2,5],'model__max_features' : ['sqrt', 0.3]}"
      ],
      "metadata": {
        "id": "rkBs07bf8ekf"
      },
      "execution_count": null,
      "outputs": []
    },
    {
      "cell_type": "code",
      "source": [
        "#Grid Search CV ---> hyper parameter tuning\n",
        "from sklearn.model_selection import GridSearchCV\n",
        "\n",
        "def perform_gridsearch_THP(pipeline, grid_params, model):\n",
        "  GridSearch = GridSearchCV(pipeline, grid_params, scoring='accuracy', verbose=3)\n",
        "  GridSearch.fit(X_train, y_train)\n",
        "\n",
        "  print(\"Best Score: \"+str(GridSearch.best_score_))\n",
        "  print(\"Best Parameters: \"+str(GridSearch.best_params_))\n",
        "  print(\"Test Score: \"+str(GridSearch.score(X_test,y_test)))\n",
        "\n",
        "  return GridSearch"
      ],
      "metadata": {
        "id": "DW0wQPeh8su_"
      },
      "execution_count": null,
      "outputs": []
    },
    {
      "cell_type": "code",
      "source": [
        "GridSearch_1= perform_gridsearch_THP(CLFPipeline_1, GridParameters_1, 'Logistic Regression')"
      ],
      "metadata": {
        "colab": {
          "base_uri": "https://localhost:8080/"
        },
        "id": "qMiKxbmZ-AFb",
        "outputId": "a145261f-807c-43f7-85db-7d3ef3f9b39a"
      },
      "execution_count": null,
      "outputs": [
        {
          "output_type": "stream",
          "name": "stdout",
          "text": [
            "Fitting 5 folds for each of 20 candidates, totalling 100 fits\n",
            "[CV 1/5] END ..model__C=0.1, model__max_iter=25;, score=0.890 total time=   4.0s\n",
            "[CV 2/5] END ..model__C=0.1, model__max_iter=25;, score=0.891 total time=   5.2s\n",
            "[CV 3/5] END ..model__C=0.1, model__max_iter=25;, score=0.881 total time=   3.9s\n",
            "[CV 4/5] END ..model__C=0.1, model__max_iter=25;, score=0.891 total time=   3.4s\n",
            "[CV 5/5] END ..model__C=0.1, model__max_iter=25;, score=0.883 total time=   5.5s\n",
            "[CV 1/5] END .model__C=0.1, model__max_iter=275;, score=0.890 total time=   3.4s\n",
            "[CV 2/5] END .model__C=0.1, model__max_iter=275;, score=0.891 total time=   3.6s\n",
            "[CV 3/5] END .model__C=0.1, model__max_iter=275;, score=0.881 total time=   5.6s\n",
            "[CV 4/5] END .model__C=0.1, model__max_iter=275;, score=0.891 total time=   3.5s\n",
            "[CV 5/5] END .model__C=0.1, model__max_iter=275;, score=0.883 total time=   3.3s\n",
            "[CV 1/5] END .model__C=0.1, model__max_iter=525;, score=0.890 total time=   4.3s\n",
            "[CV 2/5] END .model__C=0.1, model__max_iter=525;, score=0.891 total time=   4.1s\n",
            "[CV 3/5] END .model__C=0.1, model__max_iter=525;, score=0.881 total time=   3.6s\n",
            "[CV 4/5] END .model__C=0.1, model__max_iter=525;, score=0.891 total time=   4.1s\n",
            "[CV 5/5] END .model__C=0.1, model__max_iter=525;, score=0.883 total time=   5.0s\n",
            "[CV 1/5] END .model__C=0.1, model__max_iter=775;, score=0.890 total time=   3.2s\n",
            "[CV 2/5] END .model__C=0.1, model__max_iter=775;, score=0.891 total time=   3.4s\n",
            "[CV 3/5] END .model__C=0.1, model__max_iter=775;, score=0.881 total time=   5.1s\n",
            "[CV 4/5] END .model__C=0.1, model__max_iter=775;, score=0.891 total time=   3.5s\n",
            "[CV 5/5] END .model__C=0.1, model__max_iter=775;, score=0.883 total time=   3.6s\n",
            "[CV 1/5] END ..model__C=0.5, model__max_iter=25;, score=0.888 total time=   5.9s\n",
            "[CV 2/5] END ..model__C=0.5, model__max_iter=25;, score=0.892 total time=   4.9s\n"
          ]
        },
        {
          "output_type": "stream",
          "name": "stderr",
          "text": [
            "/usr/local/lib/python3.10/dist-packages/sklearn/svm/_base.py:1244: ConvergenceWarning: Liblinear failed to converge, increase the number of iterations.\n",
            "  warnings.warn(\n"
          ]
        },
        {
          "output_type": "stream",
          "name": "stdout",
          "text": [
            "[CV 3/5] END ..model__C=0.5, model__max_iter=25;, score=0.881 total time=   4.7s\n"
          ]
        },
        {
          "output_type": "stream",
          "name": "stderr",
          "text": [
            "/usr/local/lib/python3.10/dist-packages/sklearn/svm/_base.py:1244: ConvergenceWarning: Liblinear failed to converge, increase the number of iterations.\n",
            "  warnings.warn(\n"
          ]
        },
        {
          "output_type": "stream",
          "name": "stdout",
          "text": [
            "[CV 4/5] END ..model__C=0.5, model__max_iter=25;, score=0.885 total time=   4.3s\n",
            "[CV 5/5] END ..model__C=0.5, model__max_iter=25;, score=0.880 total time=   4.2s\n",
            "[CV 1/5] END .model__C=0.5, model__max_iter=275;, score=0.888 total time=   6.0s\n",
            "[CV 2/5] END .model__C=0.5, model__max_iter=275;, score=0.892 total time=   5.0s\n",
            "[CV 3/5] END .model__C=0.5, model__max_iter=275;, score=0.881 total time=   5.0s\n",
            "[CV 4/5] END .model__C=0.5, model__max_iter=275;, score=0.885 total time=   5.9s\n",
            "[CV 5/5] END .model__C=0.5, model__max_iter=275;, score=0.880 total time=   4.2s\n",
            "[CV 1/5] END .model__C=0.5, model__max_iter=525;, score=0.888 total time=   5.0s\n",
            "[CV 2/5] END .model__C=0.5, model__max_iter=525;, score=0.892 total time=   4.3s\n",
            "[CV 3/5] END .model__C=0.5, model__max_iter=525;, score=0.881 total time=   4.6s\n",
            "[CV 4/5] END .model__C=0.5, model__max_iter=525;, score=0.885 total time=   6.8s\n",
            "[CV 5/5] END .model__C=0.5, model__max_iter=525;, score=0.880 total time=   4.2s\n",
            "[CV 1/5] END .model__C=0.5, model__max_iter=775;, score=0.888 total time=   5.8s\n",
            "[CV 2/5] END .model__C=0.5, model__max_iter=775;, score=0.892 total time=   5.0s\n",
            "[CV 3/5] END .model__C=0.5, model__max_iter=775;, score=0.881 total time=   4.7s\n",
            "[CV 4/5] END .model__C=0.5, model__max_iter=775;, score=0.885 total time=   6.3s\n",
            "[CV 5/5] END .model__C=0.5, model__max_iter=775;, score=0.880 total time=   4.2s\n",
            "[CV 1/5] END ..model__C=0.8, model__max_iter=25;, score=0.884 total time=   5.4s\n"
          ]
        },
        {
          "output_type": "stream",
          "name": "stderr",
          "text": [
            "/usr/local/lib/python3.10/dist-packages/sklearn/svm/_base.py:1244: ConvergenceWarning: Liblinear failed to converge, increase the number of iterations.\n",
            "  warnings.warn(\n"
          ]
        },
        {
          "output_type": "stream",
          "name": "stdout",
          "text": [
            "[CV 2/5] END ..model__C=0.8, model__max_iter=25;, score=0.892 total time=   4.5s\n"
          ]
        },
        {
          "output_type": "stream",
          "name": "stderr",
          "text": [
            "/usr/local/lib/python3.10/dist-packages/sklearn/svm/_base.py:1244: ConvergenceWarning: Liblinear failed to converge, increase the number of iterations.\n",
            "  warnings.warn(\n"
          ]
        },
        {
          "output_type": "stream",
          "name": "stdout",
          "text": [
            "[CV 3/5] END ..model__C=0.8, model__max_iter=25;, score=0.880 total time=   3.6s\n"
          ]
        },
        {
          "output_type": "stream",
          "name": "stderr",
          "text": [
            "/usr/local/lib/python3.10/dist-packages/sklearn/svm/_base.py:1244: ConvergenceWarning: Liblinear failed to converge, increase the number of iterations.\n",
            "  warnings.warn(\n"
          ]
        },
        {
          "output_type": "stream",
          "name": "stdout",
          "text": [
            "[CV 4/5] END ..model__C=0.8, model__max_iter=25;, score=0.886 total time=   3.9s\n"
          ]
        },
        {
          "output_type": "stream",
          "name": "stderr",
          "text": [
            "/usr/local/lib/python3.10/dist-packages/sklearn/svm/_base.py:1244: ConvergenceWarning: Liblinear failed to converge, increase the number of iterations.\n",
            "  warnings.warn(\n"
          ]
        },
        {
          "output_type": "stream",
          "name": "stdout",
          "text": [
            "[CV 5/5] END ..model__C=0.8, model__max_iter=25;, score=0.881 total time=   5.3s\n",
            "[CV 1/5] END .model__C=0.8, model__max_iter=275;, score=0.884 total time=   4.6s\n",
            "[CV 2/5] END .model__C=0.8, model__max_iter=275;, score=0.891 total time=   5.7s\n",
            "[CV 3/5] END .model__C=0.8, model__max_iter=275;, score=0.878 total time=   4.9s\n",
            "[CV 4/5] END .model__C=0.8, model__max_iter=275;, score=0.884 total time=   4.6s\n",
            "[CV 5/5] END .model__C=0.8, model__max_iter=275;, score=0.881 total time=   5.3s\n",
            "[CV 1/5] END .model__C=0.8, model__max_iter=525;, score=0.884 total time=   4.1s\n",
            "[CV 2/5] END .model__C=0.8, model__max_iter=525;, score=0.891 total time=   5.9s\n",
            "[CV 3/5] END .model__C=0.8, model__max_iter=525;, score=0.878 total time=   4.9s\n",
            "[CV 4/5] END .model__C=0.8, model__max_iter=525;, score=0.884 total time=   4.8s\n",
            "[CV 5/5] END .model__C=0.8, model__max_iter=525;, score=0.881 total time=   6.4s\n",
            "[CV 1/5] END .model__C=0.8, model__max_iter=775;, score=0.884 total time=   4.0s\n",
            "[CV 2/5] END .model__C=0.8, model__max_iter=775;, score=0.891 total time=   6.7s\n",
            "[CV 3/5] END .model__C=0.8, model__max_iter=775;, score=0.878 total time=   5.1s\n",
            "[CV 4/5] END .model__C=0.8, model__max_iter=775;, score=0.884 total time=   4.1s\n",
            "[CV 5/5] END .model__C=0.8, model__max_iter=775;, score=0.881 total time=   6.2s\n",
            "[CV 1/5] END ..model__C=1.3, model__max_iter=25;, score=0.883 total time=   3.9s\n"
          ]
        },
        {
          "output_type": "stream",
          "name": "stderr",
          "text": [
            "/usr/local/lib/python3.10/dist-packages/sklearn/svm/_base.py:1244: ConvergenceWarning: Liblinear failed to converge, increase the number of iterations.\n",
            "  warnings.warn(\n"
          ]
        },
        {
          "output_type": "stream",
          "name": "stdout",
          "text": [
            "[CV 2/5] END ..model__C=1.3, model__max_iter=25;, score=0.890 total time=   5.1s\n"
          ]
        },
        {
          "output_type": "stream",
          "name": "stderr",
          "text": [
            "/usr/local/lib/python3.10/dist-packages/sklearn/svm/_base.py:1244: ConvergenceWarning: Liblinear failed to converge, increase the number of iterations.\n",
            "  warnings.warn(\n"
          ]
        },
        {
          "output_type": "stream",
          "name": "stdout",
          "text": [
            "[CV 3/5] END ..model__C=1.3, model__max_iter=25;, score=0.876 total time=   4.3s\n"
          ]
        },
        {
          "output_type": "stream",
          "name": "stderr",
          "text": [
            "/usr/local/lib/python3.10/dist-packages/sklearn/svm/_base.py:1244: ConvergenceWarning: Liblinear failed to converge, increase the number of iterations.\n",
            "  warnings.warn(\n"
          ]
        },
        {
          "output_type": "stream",
          "name": "stdout",
          "text": [
            "[CV 4/5] END ..model__C=1.3, model__max_iter=25;, score=0.882 total time=   4.2s\n"
          ]
        },
        {
          "output_type": "stream",
          "name": "stderr",
          "text": [
            "/usr/local/lib/python3.10/dist-packages/sklearn/svm/_base.py:1244: ConvergenceWarning: Liblinear failed to converge, increase the number of iterations.\n",
            "  warnings.warn(\n"
          ]
        },
        {
          "output_type": "stream",
          "name": "stdout",
          "text": [
            "[CV 5/5] END ..model__C=1.3, model__max_iter=25;, score=0.880 total time=   5.6s\n",
            "[CV 1/5] END .model__C=1.3, model__max_iter=275;, score=0.883 total time=   4.0s\n",
            "[CV 2/5] END .model__C=1.3, model__max_iter=275;, score=0.889 total time=   4.2s\n",
            "[CV 3/5] END .model__C=1.3, model__max_iter=275;, score=0.875 total time=   6.3s\n",
            "[CV 4/5] END .model__C=1.3, model__max_iter=275;, score=0.882 total time=   4.5s\n",
            "[CV 5/5] END .model__C=1.3, model__max_iter=275;, score=0.880 total time=   5.2s\n",
            "[CV 1/5] END .model__C=1.3, model__max_iter=525;, score=0.883 total time=   4.8s\n",
            "[CV 2/5] END .model__C=1.3, model__max_iter=525;, score=0.889 total time=   5.0s\n",
            "[CV 3/5] END .model__C=1.3, model__max_iter=525;, score=0.875 total time=   6.1s\n",
            "[CV 4/5] END .model__C=1.3, model__max_iter=525;, score=0.882 total time=   4.1s\n",
            "[CV 5/5] END .model__C=1.3, model__max_iter=525;, score=0.880 total time=   4.6s\n",
            "[CV 1/5] END .model__C=1.3, model__max_iter=775;, score=0.883 total time=   5.8s\n",
            "[CV 2/5] END .model__C=1.3, model__max_iter=775;, score=0.889 total time=   4.3s\n",
            "[CV 3/5] END .model__C=1.3, model__max_iter=775;, score=0.875 total time=   6.9s\n",
            "[CV 4/5] END .model__C=1.3, model__max_iter=775;, score=0.882 total time=   4.6s\n",
            "[CV 5/5] END .model__C=1.3, model__max_iter=775;, score=0.880 total time=   5.3s\n"
          ]
        },
        {
          "output_type": "stream",
          "name": "stderr",
          "text": [
            "/usr/local/lib/python3.10/dist-packages/sklearn/svm/_base.py:1244: ConvergenceWarning: Liblinear failed to converge, increase the number of iterations.\n",
            "  warnings.warn(\n"
          ]
        },
        {
          "output_type": "stream",
          "name": "stdout",
          "text": [
            "[CV 1/5] END ..model__C=1.7, model__max_iter=25;, score=0.883 total time=   4.9s\n"
          ]
        },
        {
          "output_type": "stream",
          "name": "stderr",
          "text": [
            "/usr/local/lib/python3.10/dist-packages/sklearn/svm/_base.py:1244: ConvergenceWarning: Liblinear failed to converge, increase the number of iterations.\n",
            "  warnings.warn(\n"
          ]
        },
        {
          "output_type": "stream",
          "name": "stdout",
          "text": [
            "[CV 2/5] END ..model__C=1.7, model__max_iter=25;, score=0.888 total time=   4.4s\n"
          ]
        },
        {
          "output_type": "stream",
          "name": "stderr",
          "text": [
            "/usr/local/lib/python3.10/dist-packages/sklearn/svm/_base.py:1244: ConvergenceWarning: Liblinear failed to converge, increase the number of iterations.\n",
            "  warnings.warn(\n"
          ]
        },
        {
          "output_type": "stream",
          "name": "stdout",
          "text": [
            "[CV 3/5] END ..model__C=1.7, model__max_iter=25;, score=0.876 total time=   5.2s\n"
          ]
        },
        {
          "output_type": "stream",
          "name": "stderr",
          "text": [
            "/usr/local/lib/python3.10/dist-packages/sklearn/svm/_base.py:1244: ConvergenceWarning: Liblinear failed to converge, increase the number of iterations.\n",
            "  warnings.warn(\n"
          ]
        },
        {
          "output_type": "stream",
          "name": "stdout",
          "text": [
            "[CV 4/5] END ..model__C=1.7, model__max_iter=25;, score=0.881 total time=   4.3s\n"
          ]
        },
        {
          "output_type": "stream",
          "name": "stderr",
          "text": [
            "/usr/local/lib/python3.10/dist-packages/sklearn/svm/_base.py:1244: ConvergenceWarning: Liblinear failed to converge, increase the number of iterations.\n",
            "  warnings.warn(\n"
          ]
        },
        {
          "output_type": "stream",
          "name": "stdout",
          "text": [
            "[CV 5/5] END ..model__C=1.7, model__max_iter=25;, score=0.881 total time=   3.7s\n",
            "[CV 1/5] END .model__C=1.7, model__max_iter=275;, score=0.884 total time=   6.7s\n",
            "[CV 2/5] END .model__C=1.7, model__max_iter=275;, score=0.888 total time=   5.6s\n",
            "[CV 3/5] END .model__C=1.7, model__max_iter=275;, score=0.874 total time=   6.6s\n",
            "[CV 4/5] END .model__C=1.7, model__max_iter=275;, score=0.882 total time=   5.5s\n",
            "[CV 5/5] END .model__C=1.7, model__max_iter=275;, score=0.879 total time=   6.6s\n",
            "[CV 1/5] END .model__C=1.7, model__max_iter=525;, score=0.884 total time=   5.1s\n",
            "[CV 2/5] END .model__C=1.7, model__max_iter=525;, score=0.888 total time=   6.2s\n",
            "[CV 3/5] END .model__C=1.7, model__max_iter=525;, score=0.874 total time=   7.4s\n",
            "[CV 4/5] END .model__C=1.7, model__max_iter=525;, score=0.882 total time=   6.0s\n",
            "[CV 5/5] END .model__C=1.7, model__max_iter=525;, score=0.879 total time=   6.6s\n",
            "[CV 1/5] END .model__C=1.7, model__max_iter=775;, score=0.884 total time=   5.3s\n",
            "[CV 2/5] END .model__C=1.7, model__max_iter=775;, score=0.888 total time=   7.3s\n",
            "[CV 3/5] END .model__C=1.7, model__max_iter=775;, score=0.874 total time=   6.6s\n",
            "[CV 4/5] END .model__C=1.7, model__max_iter=775;, score=0.882 total time=   5.9s\n",
            "[CV 5/5] END .model__C=1.7, model__max_iter=775;, score=0.879 total time=   5.7s\n",
            "Best Score: 0.8873280439652932\n",
            "Best Parameters: {'model__C': 0.1, 'model__max_iter': 25}\n",
            "Test Score: 0.89568345323741\n"
          ]
        }
      ]
    },
    {
      "cell_type": "code",
      "source": [
        "GridSearch_2= perform_gridsearch_THP(CLFPipeline_2, GridParameters_2, 'Decision Tree Classifier')"
      ],
      "metadata": {
        "colab": {
          "base_uri": "https://localhost:8080/"
        },
        "id": "T_v8DVbA_8K0",
        "outputId": "ddd7ff91-8025-42d6-a05e-0f65bf71e2b9"
      },
      "execution_count": null,
      "outputs": [
        {
          "output_type": "stream",
          "name": "stdout",
          "text": [
            "Fitting 5 folds for each of 6 candidates, totalling 30 fits\n",
            "[CV 1/5] END model__max_depth=None, model__splitter=best;, score=0.850 total time=  15.2s\n",
            "[CV 2/5] END model__max_depth=None, model__splitter=best;, score=0.854 total time=  16.0s\n",
            "[CV 3/5] END model__max_depth=None, model__splitter=best;, score=0.836 total time=  15.6s\n",
            "[CV 4/5] END model__max_depth=None, model__splitter=best;, score=0.841 total time=  15.5s\n",
            "[CV 5/5] END model__max_depth=None, model__splitter=best;, score=0.836 total time=  15.8s\n",
            "[CV 1/5] END model__max_depth=None, model__splitter=random;, score=0.853 total time=  13.6s\n",
            "[CV 2/5] END model__max_depth=None, model__splitter=random;, score=0.852 total time=  12.5s\n",
            "[CV 3/5] END model__max_depth=None, model__splitter=random;, score=0.840 total time=  14.2s\n",
            "[CV 4/5] END model__max_depth=None, model__splitter=random;, score=0.850 total time=  12.5s\n",
            "[CV 5/5] END model__max_depth=None, model__splitter=random;, score=0.850 total time=  12.4s\n",
            "[CV 1/5] END model__max_depth=2, model__splitter=best;, score=0.858 total time=   1.9s\n",
            "[CV 2/5] END model__max_depth=2, model__splitter=best;, score=0.860 total time=   3.0s\n",
            "[CV 3/5] END model__max_depth=2, model__splitter=best;, score=0.854 total time=   1.7s\n",
            "[CV 4/5] END model__max_depth=2, model__splitter=best;, score=0.855 total time=   1.7s\n",
            "[CV 5/5] END model__max_depth=2, model__splitter=best;, score=0.853 total time=   1.8s\n",
            "[CV 1/5] END model__max_depth=2, model__splitter=random;, score=0.858 total time=   1.8s\n",
            "[CV 2/5] END model__max_depth=2, model__splitter=random;, score=0.860 total time=   1.8s\n",
            "[CV 3/5] END model__max_depth=2, model__splitter=random;, score=0.854 total time=   3.0s\n",
            "[CV 4/5] END model__max_depth=2, model__splitter=random;, score=0.854 total time=   1.8s\n",
            "[CV 5/5] END model__max_depth=2, model__splitter=random;, score=0.853 total time=   1.6s\n",
            "[CV 1/5] END model__max_depth=5, model__splitter=best;, score=0.868 total time=   1.9s\n",
            "[CV 2/5] END model__max_depth=5, model__splitter=best;, score=0.870 total time=   2.0s\n",
            "[CV 3/5] END model__max_depth=5, model__splitter=best;, score=0.863 total time=   2.0s\n",
            "[CV 4/5] END model__max_depth=5, model__splitter=best;, score=0.866 total time=   2.6s\n",
            "[CV 5/5] END model__max_depth=5, model__splitter=best;, score=0.866 total time=   2.5s\n",
            "[CV 1/5] END model__max_depth=5, model__splitter=random;, score=0.862 total time=   1.9s\n",
            "[CV 2/5] END model__max_depth=5, model__splitter=random;, score=0.861 total time=   1.9s\n",
            "[CV 3/5] END model__max_depth=5, model__splitter=random;, score=0.860 total time=   1.9s\n",
            "[CV 4/5] END model__max_depth=5, model__splitter=random;, score=0.862 total time=   2.1s\n",
            "[CV 5/5] END model__max_depth=5, model__splitter=random;, score=0.857 total time=   3.0s\n",
            "Best Score: 0.8663868225146091\n",
            "Best Parameters: {'model__max_depth': 5, 'model__splitter': 'best'}\n",
            "Test Score: 0.8701610140459062\n"
          ]
        }
      ]
    },
    {
      "cell_type": "code",
      "source": [
        "GridSearch_3= perform_gridsearch_THP(CLFPipeline_3, GridParameters_3, 'Decision Tree Classifier')"
      ],
      "metadata": {
        "colab": {
          "base_uri": "https://localhost:8080/"
        },
        "id": "UE7XzSlPAr80",
        "outputId": "2ec07d33-36fc-4ba9-cc04-e907e62d6185"
      },
      "execution_count": null,
      "outputs": [
        {
          "output_type": "stream",
          "name": "stdout",
          "text": [
            "Fitting 5 folds for each of 6 candidates, totalling 30 fits\n",
            "[CV 1/5] END model__max_depth=None, model__max_features=sqrt;, score=0.870 total time=  53.3s\n",
            "[CV 2/5] END model__max_depth=None, model__max_features=sqrt;, score=0.870 total time=  52.0s\n",
            "[CV 3/5] END model__max_depth=None, model__max_features=sqrt;, score=0.865 total time=  49.5s\n",
            "[CV 4/5] END model__max_depth=None, model__max_features=sqrt;, score=0.866 total time=  52.8s\n",
            "[CV 5/5] END model__max_depth=None, model__max_features=sqrt;, score=0.864 total time=  52.8s\n",
            "[CV 1/5] END model__max_depth=None, model__max_features=0.3;, score=0.887 total time= 5.4min\n",
            "[CV 2/5] END model__max_depth=None, model__max_features=0.3;, score=0.885 total time= 5.5min\n",
            "[CV 3/5] END model__max_depth=None, model__max_features=0.3;, score=0.874 total time= 5.3min\n",
            "[CV 4/5] END model__max_depth=None, model__max_features=0.3;, score=0.882 total time= 5.4min\n",
            "[CV 5/5] END model__max_depth=None, model__max_features=0.3;, score=0.876 total time= 5.4min\n",
            "[CV 1/5] END model__max_depth=2, model__max_features=sqrt;, score=0.806 total time=   3.1s\n",
            "[CV 2/5] END model__max_depth=2, model__max_features=sqrt;, score=0.806 total time=   2.2s\n",
            "[CV 3/5] END model__max_depth=2, model__max_features=sqrt;, score=0.806 total time=   2.2s\n",
            "[CV 4/5] END model__max_depth=2, model__max_features=sqrt;, score=0.806 total time=   2.3s\n",
            "[CV 5/5] END model__max_depth=2, model__max_features=sqrt;, score=0.806 total time=   2.6s\n",
            "[CV 1/5] END model__max_depth=2, model__max_features=0.3;, score=0.858 total time=   6.1s\n",
            "[CV 2/5] END model__max_depth=2, model__max_features=0.3;, score=0.859 total time=   5.1s\n",
            "[CV 3/5] END model__max_depth=2, model__max_features=0.3;, score=0.854 total time=   6.2s\n",
            "[CV 4/5] END model__max_depth=2, model__max_features=0.3;, score=0.854 total time=   5.4s\n",
            "[CV 5/5] END model__max_depth=2, model__max_features=0.3;, score=0.853 total time=   6.6s\n",
            "[CV 1/5] END model__max_depth=5, model__max_features=sqrt;, score=0.806 total time=   2.7s\n",
            "[CV 2/5] END model__max_depth=5, model__max_features=sqrt;, score=0.806 total time=   2.7s\n",
            "[CV 3/5] END model__max_depth=5, model__max_features=sqrt;, score=0.806 total time=   2.7s\n",
            "[CV 4/5] END model__max_depth=5, model__max_features=sqrt;, score=0.806 total time=   3.5s\n",
            "[CV 5/5] END model__max_depth=5, model__max_features=sqrt;, score=0.806 total time=   2.6s\n",
            "[CV 1/5] END model__max_depth=5, model__max_features=0.3;, score=0.860 total time=  14.9s\n",
            "[CV 2/5] END model__max_depth=5, model__max_features=0.3;, score=0.861 total time=  14.7s\n",
            "[CV 3/5] END model__max_depth=5, model__max_features=0.3;, score=0.857 total time=  14.3s\n",
            "[CV 4/5] END model__max_depth=5, model__max_features=0.3;, score=0.857 total time=  14.5s\n",
            "[CV 5/5] END model__max_depth=5, model__max_features=0.3;, score=0.854 total time=  14.4s\n",
            "Best Score: 0.8808185546886641\n",
            "Best Parameters: {'model__max_depth': None, 'model__max_features': 0.3}\n",
            "Test Score: 0.8806097978759849\n"
          ]
        }
      ]
    },
    {
      "cell_type": "code",
      "source": [
        "#Model fitting-1\n",
        "CLFPipeline_1.fit(X_train, y_train)"
      ],
      "metadata": {
        "colab": {
          "base_uri": "https://localhost:8080/",
          "height": 244
        },
        "id": "J_tSH686QDs8",
        "outputId": "7b195e2f-11aa-429c-88be-be8d1ec019e9"
      },
      "execution_count": null,
      "outputs": [
        {
          "output_type": "stream",
          "name": "stderr",
          "text": [
            "/usr/local/lib/python3.10/dist-packages/sklearn/svm/_base.py:1244: ConvergenceWarning: Liblinear failed to converge, increase the number of iterations.\n",
            "  warnings.warn(\n"
          ]
        },
        {
          "output_type": "execute_result",
          "data": {
            "text/plain": [
              "Pipeline(steps=[('column_trans',\n",
              "                 ColumnTransformer(remainder='passthrough',\n",
              "                                   transformers=[('summary_tf',\n",
              "                                                  CountVectorizer(),\n",
              "                                                  'summary'),\n",
              "                                                 ('review_tf',\n",
              "                                                  CountVectorizer(),\n",
              "                                                  'reviewText'),\n",
              "                                                 ('category_tf',\n",
              "                                                  OneHotEncoder(dtype='int',\n",
              "                                                                handle_unknown='ignore'),\n",
              "                                                  ['category']),\n",
              "                                                 ('vote_tf',\n",
              "                                                  OneHotEncoder(dtype='int',\n",
              "                                                                handle_unknown='ignore'),\n",
              "                                                  ['vote'])])),\n",
              "                ('model',\n",
              "                 LogisticRegression(C=0.2, max_iter=25, random_state=2,\n",
              "                                    solver='liblinear'))])"
            ],
            "text/html": [
              "<style>#sk-container-id-1 {color: black;background-color: white;}#sk-container-id-1 pre{padding: 0;}#sk-container-id-1 div.sk-toggleable {background-color: white;}#sk-container-id-1 label.sk-toggleable__label {cursor: pointer;display: block;width: 100%;margin-bottom: 0;padding: 0.3em;box-sizing: border-box;text-align: center;}#sk-container-id-1 label.sk-toggleable__label-arrow:before {content: \"▸\";float: left;margin-right: 0.25em;color: #696969;}#sk-container-id-1 label.sk-toggleable__label-arrow:hover:before {color: black;}#sk-container-id-1 div.sk-estimator:hover label.sk-toggleable__label-arrow:before {color: black;}#sk-container-id-1 div.sk-toggleable__content {max-height: 0;max-width: 0;overflow: hidden;text-align: left;background-color: #f0f8ff;}#sk-container-id-1 div.sk-toggleable__content pre {margin: 0.2em;color: black;border-radius: 0.25em;background-color: #f0f8ff;}#sk-container-id-1 input.sk-toggleable__control:checked~div.sk-toggleable__content {max-height: 200px;max-width: 100%;overflow: auto;}#sk-container-id-1 input.sk-toggleable__control:checked~label.sk-toggleable__label-arrow:before {content: \"▾\";}#sk-container-id-1 div.sk-estimator input.sk-toggleable__control:checked~label.sk-toggleable__label {background-color: #d4ebff;}#sk-container-id-1 div.sk-label input.sk-toggleable__control:checked~label.sk-toggleable__label {background-color: #d4ebff;}#sk-container-id-1 input.sk-hidden--visually {border: 0;clip: rect(1px 1px 1px 1px);clip: rect(1px, 1px, 1px, 1px);height: 1px;margin: -1px;overflow: hidden;padding: 0;position: absolute;width: 1px;}#sk-container-id-1 div.sk-estimator {font-family: monospace;background-color: #f0f8ff;border: 1px dotted black;border-radius: 0.25em;box-sizing: border-box;margin-bottom: 0.5em;}#sk-container-id-1 div.sk-estimator:hover {background-color: #d4ebff;}#sk-container-id-1 div.sk-parallel-item::after {content: \"\";width: 100%;border-bottom: 1px solid gray;flex-grow: 1;}#sk-container-id-1 div.sk-label:hover label.sk-toggleable__label {background-color: #d4ebff;}#sk-container-id-1 div.sk-serial::before {content: \"\";position: absolute;border-left: 1px solid gray;box-sizing: border-box;top: 0;bottom: 0;left: 50%;z-index: 0;}#sk-container-id-1 div.sk-serial {display: flex;flex-direction: column;align-items: center;background-color: white;padding-right: 0.2em;padding-left: 0.2em;position: relative;}#sk-container-id-1 div.sk-item {position: relative;z-index: 1;}#sk-container-id-1 div.sk-parallel {display: flex;align-items: stretch;justify-content: center;background-color: white;position: relative;}#sk-container-id-1 div.sk-item::before, #sk-container-id-1 div.sk-parallel-item::before {content: \"\";position: absolute;border-left: 1px solid gray;box-sizing: border-box;top: 0;bottom: 0;left: 50%;z-index: -1;}#sk-container-id-1 div.sk-parallel-item {display: flex;flex-direction: column;z-index: 1;position: relative;background-color: white;}#sk-container-id-1 div.sk-parallel-item:first-child::after {align-self: flex-end;width: 50%;}#sk-container-id-1 div.sk-parallel-item:last-child::after {align-self: flex-start;width: 50%;}#sk-container-id-1 div.sk-parallel-item:only-child::after {width: 0;}#sk-container-id-1 div.sk-dashed-wrapped {border: 1px dashed gray;margin: 0 0.4em 0.5em 0.4em;box-sizing: border-box;padding-bottom: 0.4em;background-color: white;}#sk-container-id-1 div.sk-label label {font-family: monospace;font-weight: bold;display: inline-block;line-height: 1.2em;}#sk-container-id-1 div.sk-label-container {text-align: center;}#sk-container-id-1 div.sk-container {/* jupyter's `normalize.less` sets `[hidden] { display: none; }` but bootstrap.min.css set `[hidden] { display: none !important; }` so we also need the `!important` here to be able to override the default hidden behavior on the sphinx rendered scikit-learn.org. See: https://github.com/scikit-learn/scikit-learn/issues/21755 */display: inline-block !important;position: relative;}#sk-container-id-1 div.sk-text-repr-fallback {display: none;}</style><div id=\"sk-container-id-1\" class=\"sk-top-container\"><div class=\"sk-text-repr-fallback\"><pre>Pipeline(steps=[(&#x27;column_trans&#x27;,\n",
              "                 ColumnTransformer(remainder=&#x27;passthrough&#x27;,\n",
              "                                   transformers=[(&#x27;summary_tf&#x27;,\n",
              "                                                  CountVectorizer(),\n",
              "                                                  &#x27;summary&#x27;),\n",
              "                                                 (&#x27;review_tf&#x27;,\n",
              "                                                  CountVectorizer(),\n",
              "                                                  &#x27;reviewText&#x27;),\n",
              "                                                 (&#x27;category_tf&#x27;,\n",
              "                                                  OneHotEncoder(dtype=&#x27;int&#x27;,\n",
              "                                                                handle_unknown=&#x27;ignore&#x27;),\n",
              "                                                  [&#x27;category&#x27;]),\n",
              "                                                 (&#x27;vote_tf&#x27;,\n",
              "                                                  OneHotEncoder(dtype=&#x27;int&#x27;,\n",
              "                                                                handle_unknown=&#x27;ignore&#x27;),\n",
              "                                                  [&#x27;vote&#x27;])])),\n",
              "                (&#x27;model&#x27;,\n",
              "                 LogisticRegression(C=0.2, max_iter=25, random_state=2,\n",
              "                                    solver=&#x27;liblinear&#x27;))])</pre><b>In a Jupyter environment, please rerun this cell to show the HTML representation or trust the notebook. <br />On GitHub, the HTML representation is unable to render, please try loading this page with nbviewer.org.</b></div><div class=\"sk-container\" hidden><div class=\"sk-item sk-dashed-wrapped\"><div class=\"sk-label-container\"><div class=\"sk-label sk-toggleable\"><input class=\"sk-toggleable__control sk-hidden--visually\" id=\"sk-estimator-id-1\" type=\"checkbox\" ><label for=\"sk-estimator-id-1\" class=\"sk-toggleable__label sk-toggleable__label-arrow\">Pipeline</label><div class=\"sk-toggleable__content\"><pre>Pipeline(steps=[(&#x27;column_trans&#x27;,\n",
              "                 ColumnTransformer(remainder=&#x27;passthrough&#x27;,\n",
              "                                   transformers=[(&#x27;summary_tf&#x27;,\n",
              "                                                  CountVectorizer(),\n",
              "                                                  &#x27;summary&#x27;),\n",
              "                                                 (&#x27;review_tf&#x27;,\n",
              "                                                  CountVectorizer(),\n",
              "                                                  &#x27;reviewText&#x27;),\n",
              "                                                 (&#x27;category_tf&#x27;,\n",
              "                                                  OneHotEncoder(dtype=&#x27;int&#x27;,\n",
              "                                                                handle_unknown=&#x27;ignore&#x27;),\n",
              "                                                  [&#x27;category&#x27;]),\n",
              "                                                 (&#x27;vote_tf&#x27;,\n",
              "                                                  OneHotEncoder(dtype=&#x27;int&#x27;,\n",
              "                                                                handle_unknown=&#x27;ignore&#x27;),\n",
              "                                                  [&#x27;vote&#x27;])])),\n",
              "                (&#x27;model&#x27;,\n",
              "                 LogisticRegression(C=0.2, max_iter=25, random_state=2,\n",
              "                                    solver=&#x27;liblinear&#x27;))])</pre></div></div></div><div class=\"sk-serial\"><div class=\"sk-item sk-dashed-wrapped\"><div class=\"sk-label-container\"><div class=\"sk-label sk-toggleable\"><input class=\"sk-toggleable__control sk-hidden--visually\" id=\"sk-estimator-id-2\" type=\"checkbox\" ><label for=\"sk-estimator-id-2\" class=\"sk-toggleable__label sk-toggleable__label-arrow\">column_trans: ColumnTransformer</label><div class=\"sk-toggleable__content\"><pre>ColumnTransformer(remainder=&#x27;passthrough&#x27;,\n",
              "                  transformers=[(&#x27;summary_tf&#x27;, CountVectorizer(), &#x27;summary&#x27;),\n",
              "                                (&#x27;review_tf&#x27;, CountVectorizer(), &#x27;reviewText&#x27;),\n",
              "                                (&#x27;category_tf&#x27;,\n",
              "                                 OneHotEncoder(dtype=&#x27;int&#x27;,\n",
              "                                               handle_unknown=&#x27;ignore&#x27;),\n",
              "                                 [&#x27;category&#x27;]),\n",
              "                                (&#x27;vote_tf&#x27;,\n",
              "                                 OneHotEncoder(dtype=&#x27;int&#x27;,\n",
              "                                               handle_unknown=&#x27;ignore&#x27;),\n",
              "                                 [&#x27;vote&#x27;])])</pre></div></div></div><div class=\"sk-parallel\"><div class=\"sk-parallel-item\"><div class=\"sk-item\"><div class=\"sk-label-container\"><div class=\"sk-label sk-toggleable\"><input class=\"sk-toggleable__control sk-hidden--visually\" id=\"sk-estimator-id-3\" type=\"checkbox\" ><label for=\"sk-estimator-id-3\" class=\"sk-toggleable__label sk-toggleable__label-arrow\">summary_tf</label><div class=\"sk-toggleable__content\"><pre>summary</pre></div></div></div><div class=\"sk-serial\"><div class=\"sk-item\"><div class=\"sk-estimator sk-toggleable\"><input class=\"sk-toggleable__control sk-hidden--visually\" id=\"sk-estimator-id-4\" type=\"checkbox\" ><label for=\"sk-estimator-id-4\" class=\"sk-toggleable__label sk-toggleable__label-arrow\">CountVectorizer</label><div class=\"sk-toggleable__content\"><pre>CountVectorizer()</pre></div></div></div></div></div></div><div class=\"sk-parallel-item\"><div class=\"sk-item\"><div class=\"sk-label-container\"><div class=\"sk-label sk-toggleable\"><input class=\"sk-toggleable__control sk-hidden--visually\" id=\"sk-estimator-id-5\" type=\"checkbox\" ><label for=\"sk-estimator-id-5\" class=\"sk-toggleable__label sk-toggleable__label-arrow\">review_tf</label><div class=\"sk-toggleable__content\"><pre>reviewText</pre></div></div></div><div class=\"sk-serial\"><div class=\"sk-item\"><div class=\"sk-estimator sk-toggleable\"><input class=\"sk-toggleable__control sk-hidden--visually\" id=\"sk-estimator-id-6\" type=\"checkbox\" ><label for=\"sk-estimator-id-6\" class=\"sk-toggleable__label sk-toggleable__label-arrow\">CountVectorizer</label><div class=\"sk-toggleable__content\"><pre>CountVectorizer()</pre></div></div></div></div></div></div><div class=\"sk-parallel-item\"><div class=\"sk-item\"><div class=\"sk-label-container\"><div class=\"sk-label sk-toggleable\"><input class=\"sk-toggleable__control sk-hidden--visually\" id=\"sk-estimator-id-7\" type=\"checkbox\" ><label for=\"sk-estimator-id-7\" class=\"sk-toggleable__label sk-toggleable__label-arrow\">category_tf</label><div class=\"sk-toggleable__content\"><pre>[&#x27;category&#x27;]</pre></div></div></div><div class=\"sk-serial\"><div class=\"sk-item\"><div class=\"sk-estimator sk-toggleable\"><input class=\"sk-toggleable__control sk-hidden--visually\" id=\"sk-estimator-id-8\" type=\"checkbox\" ><label for=\"sk-estimator-id-8\" class=\"sk-toggleable__label sk-toggleable__label-arrow\">OneHotEncoder</label><div class=\"sk-toggleable__content\"><pre>OneHotEncoder(dtype=&#x27;int&#x27;, handle_unknown=&#x27;ignore&#x27;)</pre></div></div></div></div></div></div><div class=\"sk-parallel-item\"><div class=\"sk-item\"><div class=\"sk-label-container\"><div class=\"sk-label sk-toggleable\"><input class=\"sk-toggleable__control sk-hidden--visually\" id=\"sk-estimator-id-9\" type=\"checkbox\" ><label for=\"sk-estimator-id-9\" class=\"sk-toggleable__label sk-toggleable__label-arrow\">vote_tf</label><div class=\"sk-toggleable__content\"><pre>[&#x27;vote&#x27;]</pre></div></div></div><div class=\"sk-serial\"><div class=\"sk-item\"><div class=\"sk-estimator sk-toggleable\"><input class=\"sk-toggleable__control sk-hidden--visually\" id=\"sk-estimator-id-10\" type=\"checkbox\" ><label for=\"sk-estimator-id-10\" class=\"sk-toggleable__label sk-toggleable__label-arrow\">OneHotEncoder</label><div class=\"sk-toggleable__content\"><pre>OneHotEncoder(dtype=&#x27;int&#x27;, handle_unknown=&#x27;ignore&#x27;)</pre></div></div></div></div></div></div><div class=\"sk-parallel-item\"><div class=\"sk-item\"><div class=\"sk-label-container\"><div class=\"sk-label sk-toggleable\"><input class=\"sk-toggleable__control sk-hidden--visually\" id=\"sk-estimator-id-11\" type=\"checkbox\" ><label for=\"sk-estimator-id-11\" class=\"sk-toggleable__label sk-toggleable__label-arrow\">remainder</label><div class=\"sk-toggleable__content\"><pre>[]</pre></div></div></div><div class=\"sk-serial\"><div class=\"sk-item\"><div class=\"sk-estimator sk-toggleable\"><input class=\"sk-toggleable__control sk-hidden--visually\" id=\"sk-estimator-id-12\" type=\"checkbox\" ><label for=\"sk-estimator-id-12\" class=\"sk-toggleable__label sk-toggleable__label-arrow\">passthrough</label><div class=\"sk-toggleable__content\"><pre>passthrough</pre></div></div></div></div></div></div></div></div><div class=\"sk-item\"><div class=\"sk-estimator sk-toggleable\"><input class=\"sk-toggleable__control sk-hidden--visually\" id=\"sk-estimator-id-13\" type=\"checkbox\" ><label for=\"sk-estimator-id-13\" class=\"sk-toggleable__label sk-toggleable__label-arrow\">LogisticRegression</label><div class=\"sk-toggleable__content\"><pre>LogisticRegression(C=0.2, max_iter=25, random_state=2, solver=&#x27;liblinear&#x27;)</pre></div></div></div></div></div></div></div>"
            ]
          },
          "metadata": {},
          "execution_count": 18
        }
      ]
    },
    {
      "cell_type": "code",
      "source": [
        "#Model fitting-2\n",
        "CLFPipeline_2.fit(X_train, y_train)"
      ],
      "metadata": {
        "colab": {
          "base_uri": "https://localhost:8080/",
          "height": 190
        },
        "id": "meSFC4RlQK_8",
        "outputId": "5a37ca19-9209-4eea-b816-fcc0ce028b8b"
      },
      "execution_count": null,
      "outputs": [
        {
          "output_type": "execute_result",
          "data": {
            "text/plain": [
              "Pipeline(steps=[('column_trans',\n",
              "                 ColumnTransformer(remainder='passthrough',\n",
              "                                   transformers=[('summary_tf',\n",
              "                                                  CountVectorizer(),\n",
              "                                                  'summary'),\n",
              "                                                 ('review_tf',\n",
              "                                                  CountVectorizer(),\n",
              "                                                  'reviewText'),\n",
              "                                                 ('category_tf',\n",
              "                                                  OneHotEncoder(dtype='int',\n",
              "                                                                handle_unknown='ignore'),\n",
              "                                                  ['category']),\n",
              "                                                 ('vote_tf',\n",
              "                                                  OneHotEncoder(dtype='int',\n",
              "                                                                handle_unknown='ignore'),\n",
              "                                                  ['vote'])])),\n",
              "                ('model', DecisionTreeClassifier(max_depth=5, random_state=2))])"
            ],
            "text/html": [
              "<style>#sk-container-id-2 {color: black;background-color: white;}#sk-container-id-2 pre{padding: 0;}#sk-container-id-2 div.sk-toggleable {background-color: white;}#sk-container-id-2 label.sk-toggleable__label {cursor: pointer;display: block;width: 100%;margin-bottom: 0;padding: 0.3em;box-sizing: border-box;text-align: center;}#sk-container-id-2 label.sk-toggleable__label-arrow:before {content: \"▸\";float: left;margin-right: 0.25em;color: #696969;}#sk-container-id-2 label.sk-toggleable__label-arrow:hover:before {color: black;}#sk-container-id-2 div.sk-estimator:hover label.sk-toggleable__label-arrow:before {color: black;}#sk-container-id-2 div.sk-toggleable__content {max-height: 0;max-width: 0;overflow: hidden;text-align: left;background-color: #f0f8ff;}#sk-container-id-2 div.sk-toggleable__content pre {margin: 0.2em;color: black;border-radius: 0.25em;background-color: #f0f8ff;}#sk-container-id-2 input.sk-toggleable__control:checked~div.sk-toggleable__content {max-height: 200px;max-width: 100%;overflow: auto;}#sk-container-id-2 input.sk-toggleable__control:checked~label.sk-toggleable__label-arrow:before {content: \"▾\";}#sk-container-id-2 div.sk-estimator input.sk-toggleable__control:checked~label.sk-toggleable__label {background-color: #d4ebff;}#sk-container-id-2 div.sk-label input.sk-toggleable__control:checked~label.sk-toggleable__label {background-color: #d4ebff;}#sk-container-id-2 input.sk-hidden--visually {border: 0;clip: rect(1px 1px 1px 1px);clip: rect(1px, 1px, 1px, 1px);height: 1px;margin: -1px;overflow: hidden;padding: 0;position: absolute;width: 1px;}#sk-container-id-2 div.sk-estimator {font-family: monospace;background-color: #f0f8ff;border: 1px dotted black;border-radius: 0.25em;box-sizing: border-box;margin-bottom: 0.5em;}#sk-container-id-2 div.sk-estimator:hover {background-color: #d4ebff;}#sk-container-id-2 div.sk-parallel-item::after {content: \"\";width: 100%;border-bottom: 1px solid gray;flex-grow: 1;}#sk-container-id-2 div.sk-label:hover label.sk-toggleable__label {background-color: #d4ebff;}#sk-container-id-2 div.sk-serial::before {content: \"\";position: absolute;border-left: 1px solid gray;box-sizing: border-box;top: 0;bottom: 0;left: 50%;z-index: 0;}#sk-container-id-2 div.sk-serial {display: flex;flex-direction: column;align-items: center;background-color: white;padding-right: 0.2em;padding-left: 0.2em;position: relative;}#sk-container-id-2 div.sk-item {position: relative;z-index: 1;}#sk-container-id-2 div.sk-parallel {display: flex;align-items: stretch;justify-content: center;background-color: white;position: relative;}#sk-container-id-2 div.sk-item::before, #sk-container-id-2 div.sk-parallel-item::before {content: \"\";position: absolute;border-left: 1px solid gray;box-sizing: border-box;top: 0;bottom: 0;left: 50%;z-index: -1;}#sk-container-id-2 div.sk-parallel-item {display: flex;flex-direction: column;z-index: 1;position: relative;background-color: white;}#sk-container-id-2 div.sk-parallel-item:first-child::after {align-self: flex-end;width: 50%;}#sk-container-id-2 div.sk-parallel-item:last-child::after {align-self: flex-start;width: 50%;}#sk-container-id-2 div.sk-parallel-item:only-child::after {width: 0;}#sk-container-id-2 div.sk-dashed-wrapped {border: 1px dashed gray;margin: 0 0.4em 0.5em 0.4em;box-sizing: border-box;padding-bottom: 0.4em;background-color: white;}#sk-container-id-2 div.sk-label label {font-family: monospace;font-weight: bold;display: inline-block;line-height: 1.2em;}#sk-container-id-2 div.sk-label-container {text-align: center;}#sk-container-id-2 div.sk-container {/* jupyter's `normalize.less` sets `[hidden] { display: none; }` but bootstrap.min.css set `[hidden] { display: none !important; }` so we also need the `!important` here to be able to override the default hidden behavior on the sphinx rendered scikit-learn.org. See: https://github.com/scikit-learn/scikit-learn/issues/21755 */display: inline-block !important;position: relative;}#sk-container-id-2 div.sk-text-repr-fallback {display: none;}</style><div id=\"sk-container-id-2\" class=\"sk-top-container\"><div class=\"sk-text-repr-fallback\"><pre>Pipeline(steps=[(&#x27;column_trans&#x27;,\n",
              "                 ColumnTransformer(remainder=&#x27;passthrough&#x27;,\n",
              "                                   transformers=[(&#x27;summary_tf&#x27;,\n",
              "                                                  CountVectorizer(),\n",
              "                                                  &#x27;summary&#x27;),\n",
              "                                                 (&#x27;review_tf&#x27;,\n",
              "                                                  CountVectorizer(),\n",
              "                                                  &#x27;reviewText&#x27;),\n",
              "                                                 (&#x27;category_tf&#x27;,\n",
              "                                                  OneHotEncoder(dtype=&#x27;int&#x27;,\n",
              "                                                                handle_unknown=&#x27;ignore&#x27;),\n",
              "                                                  [&#x27;category&#x27;]),\n",
              "                                                 (&#x27;vote_tf&#x27;,\n",
              "                                                  OneHotEncoder(dtype=&#x27;int&#x27;,\n",
              "                                                                handle_unknown=&#x27;ignore&#x27;),\n",
              "                                                  [&#x27;vote&#x27;])])),\n",
              "                (&#x27;model&#x27;, DecisionTreeClassifier(max_depth=5, random_state=2))])</pre><b>In a Jupyter environment, please rerun this cell to show the HTML representation or trust the notebook. <br />On GitHub, the HTML representation is unable to render, please try loading this page with nbviewer.org.</b></div><div class=\"sk-container\" hidden><div class=\"sk-item sk-dashed-wrapped\"><div class=\"sk-label-container\"><div class=\"sk-label sk-toggleable\"><input class=\"sk-toggleable__control sk-hidden--visually\" id=\"sk-estimator-id-14\" type=\"checkbox\" ><label for=\"sk-estimator-id-14\" class=\"sk-toggleable__label sk-toggleable__label-arrow\">Pipeline</label><div class=\"sk-toggleable__content\"><pre>Pipeline(steps=[(&#x27;column_trans&#x27;,\n",
              "                 ColumnTransformer(remainder=&#x27;passthrough&#x27;,\n",
              "                                   transformers=[(&#x27;summary_tf&#x27;,\n",
              "                                                  CountVectorizer(),\n",
              "                                                  &#x27;summary&#x27;),\n",
              "                                                 (&#x27;review_tf&#x27;,\n",
              "                                                  CountVectorizer(),\n",
              "                                                  &#x27;reviewText&#x27;),\n",
              "                                                 (&#x27;category_tf&#x27;,\n",
              "                                                  OneHotEncoder(dtype=&#x27;int&#x27;,\n",
              "                                                                handle_unknown=&#x27;ignore&#x27;),\n",
              "                                                  [&#x27;category&#x27;]),\n",
              "                                                 (&#x27;vote_tf&#x27;,\n",
              "                                                  OneHotEncoder(dtype=&#x27;int&#x27;,\n",
              "                                                                handle_unknown=&#x27;ignore&#x27;),\n",
              "                                                  [&#x27;vote&#x27;])])),\n",
              "                (&#x27;model&#x27;, DecisionTreeClassifier(max_depth=5, random_state=2))])</pre></div></div></div><div class=\"sk-serial\"><div class=\"sk-item sk-dashed-wrapped\"><div class=\"sk-label-container\"><div class=\"sk-label sk-toggleable\"><input class=\"sk-toggleable__control sk-hidden--visually\" id=\"sk-estimator-id-15\" type=\"checkbox\" ><label for=\"sk-estimator-id-15\" class=\"sk-toggleable__label sk-toggleable__label-arrow\">column_trans: ColumnTransformer</label><div class=\"sk-toggleable__content\"><pre>ColumnTransformer(remainder=&#x27;passthrough&#x27;,\n",
              "                  transformers=[(&#x27;summary_tf&#x27;, CountVectorizer(), &#x27;summary&#x27;),\n",
              "                                (&#x27;review_tf&#x27;, CountVectorizer(), &#x27;reviewText&#x27;),\n",
              "                                (&#x27;category_tf&#x27;,\n",
              "                                 OneHotEncoder(dtype=&#x27;int&#x27;,\n",
              "                                               handle_unknown=&#x27;ignore&#x27;),\n",
              "                                 [&#x27;category&#x27;]),\n",
              "                                (&#x27;vote_tf&#x27;,\n",
              "                                 OneHotEncoder(dtype=&#x27;int&#x27;,\n",
              "                                               handle_unknown=&#x27;ignore&#x27;),\n",
              "                                 [&#x27;vote&#x27;])])</pre></div></div></div><div class=\"sk-parallel\"><div class=\"sk-parallel-item\"><div class=\"sk-item\"><div class=\"sk-label-container\"><div class=\"sk-label sk-toggleable\"><input class=\"sk-toggleable__control sk-hidden--visually\" id=\"sk-estimator-id-16\" type=\"checkbox\" ><label for=\"sk-estimator-id-16\" class=\"sk-toggleable__label sk-toggleable__label-arrow\">summary_tf</label><div class=\"sk-toggleable__content\"><pre>summary</pre></div></div></div><div class=\"sk-serial\"><div class=\"sk-item\"><div class=\"sk-estimator sk-toggleable\"><input class=\"sk-toggleable__control sk-hidden--visually\" id=\"sk-estimator-id-17\" type=\"checkbox\" ><label for=\"sk-estimator-id-17\" class=\"sk-toggleable__label sk-toggleable__label-arrow\">CountVectorizer</label><div class=\"sk-toggleable__content\"><pre>CountVectorizer()</pre></div></div></div></div></div></div><div class=\"sk-parallel-item\"><div class=\"sk-item\"><div class=\"sk-label-container\"><div class=\"sk-label sk-toggleable\"><input class=\"sk-toggleable__control sk-hidden--visually\" id=\"sk-estimator-id-18\" type=\"checkbox\" ><label for=\"sk-estimator-id-18\" class=\"sk-toggleable__label sk-toggleable__label-arrow\">review_tf</label><div class=\"sk-toggleable__content\"><pre>reviewText</pre></div></div></div><div class=\"sk-serial\"><div class=\"sk-item\"><div class=\"sk-estimator sk-toggleable\"><input class=\"sk-toggleable__control sk-hidden--visually\" id=\"sk-estimator-id-19\" type=\"checkbox\" ><label for=\"sk-estimator-id-19\" class=\"sk-toggleable__label sk-toggleable__label-arrow\">CountVectorizer</label><div class=\"sk-toggleable__content\"><pre>CountVectorizer()</pre></div></div></div></div></div></div><div class=\"sk-parallel-item\"><div class=\"sk-item\"><div class=\"sk-label-container\"><div class=\"sk-label sk-toggleable\"><input class=\"sk-toggleable__control sk-hidden--visually\" id=\"sk-estimator-id-20\" type=\"checkbox\" ><label for=\"sk-estimator-id-20\" class=\"sk-toggleable__label sk-toggleable__label-arrow\">category_tf</label><div class=\"sk-toggleable__content\"><pre>[&#x27;category&#x27;]</pre></div></div></div><div class=\"sk-serial\"><div class=\"sk-item\"><div class=\"sk-estimator sk-toggleable\"><input class=\"sk-toggleable__control sk-hidden--visually\" id=\"sk-estimator-id-21\" type=\"checkbox\" ><label for=\"sk-estimator-id-21\" class=\"sk-toggleable__label sk-toggleable__label-arrow\">OneHotEncoder</label><div class=\"sk-toggleable__content\"><pre>OneHotEncoder(dtype=&#x27;int&#x27;, handle_unknown=&#x27;ignore&#x27;)</pre></div></div></div></div></div></div><div class=\"sk-parallel-item\"><div class=\"sk-item\"><div class=\"sk-label-container\"><div class=\"sk-label sk-toggleable\"><input class=\"sk-toggleable__control sk-hidden--visually\" id=\"sk-estimator-id-22\" type=\"checkbox\" ><label for=\"sk-estimator-id-22\" class=\"sk-toggleable__label sk-toggleable__label-arrow\">vote_tf</label><div class=\"sk-toggleable__content\"><pre>[&#x27;vote&#x27;]</pre></div></div></div><div class=\"sk-serial\"><div class=\"sk-item\"><div class=\"sk-estimator sk-toggleable\"><input class=\"sk-toggleable__control sk-hidden--visually\" id=\"sk-estimator-id-23\" type=\"checkbox\" ><label for=\"sk-estimator-id-23\" class=\"sk-toggleable__label sk-toggleable__label-arrow\">OneHotEncoder</label><div class=\"sk-toggleable__content\"><pre>OneHotEncoder(dtype=&#x27;int&#x27;, handle_unknown=&#x27;ignore&#x27;)</pre></div></div></div></div></div></div><div class=\"sk-parallel-item\"><div class=\"sk-item\"><div class=\"sk-label-container\"><div class=\"sk-label sk-toggleable\"><input class=\"sk-toggleable__control sk-hidden--visually\" id=\"sk-estimator-id-24\" type=\"checkbox\" ><label for=\"sk-estimator-id-24\" class=\"sk-toggleable__label sk-toggleable__label-arrow\">remainder</label><div class=\"sk-toggleable__content\"><pre>[]</pre></div></div></div><div class=\"sk-serial\"><div class=\"sk-item\"><div class=\"sk-estimator sk-toggleable\"><input class=\"sk-toggleable__control sk-hidden--visually\" id=\"sk-estimator-id-25\" type=\"checkbox\" ><label for=\"sk-estimator-id-25\" class=\"sk-toggleable__label sk-toggleable__label-arrow\">passthrough</label><div class=\"sk-toggleable__content\"><pre>passthrough</pre></div></div></div></div></div></div></div></div><div class=\"sk-item\"><div class=\"sk-estimator sk-toggleable\"><input class=\"sk-toggleable__control sk-hidden--visually\" id=\"sk-estimator-id-26\" type=\"checkbox\" ><label for=\"sk-estimator-id-26\" class=\"sk-toggleable__label sk-toggleable__label-arrow\">DecisionTreeClassifier</label><div class=\"sk-toggleable__content\"><pre>DecisionTreeClassifier(max_depth=5, random_state=2)</pre></div></div></div></div></div></div></div>"
            ]
          },
          "metadata": {},
          "execution_count": 19
        }
      ]
    },
    {
      "cell_type": "code",
      "source": [
        "#Model fitting-3\n",
        "CLFPipeline_3.fit(X_train, y_train)"
      ],
      "metadata": {
        "colab": {
          "base_uri": "https://localhost:8080/",
          "height": 190
        },
        "id": "O45kUcGkQOmL",
        "outputId": "decbbe90-70b8-4986-8842-377b0e50d155"
      },
      "execution_count": null,
      "outputs": [
        {
          "output_type": "execute_result",
          "data": {
            "text/plain": [
              "Pipeline(steps=[('column_trans',\n",
              "                 ColumnTransformer(remainder='passthrough',\n",
              "                                   transformers=[('summary_tf',\n",
              "                                                  CountVectorizer(),\n",
              "                                                  'summary'),\n",
              "                                                 ('review_tf',\n",
              "                                                  CountVectorizer(),\n",
              "                                                  'reviewText'),\n",
              "                                                 ('category_tf',\n",
              "                                                  OneHotEncoder(dtype='int',\n",
              "                                                                handle_unknown='ignore'),\n",
              "                                                  ['category']),\n",
              "                                                 ('vote_tf',\n",
              "                                                  OneHotEncoder(dtype='int',\n",
              "                                                                handle_unknown='ignore'),\n",
              "                                                  ['vote'])])),\n",
              "                ('model',\n",
              "                 RandomForestClassifier(max_features=0.3, random_state=2))])"
            ],
            "text/html": [
              "<style>#sk-container-id-3 {color: black;background-color: white;}#sk-container-id-3 pre{padding: 0;}#sk-container-id-3 div.sk-toggleable {background-color: white;}#sk-container-id-3 label.sk-toggleable__label {cursor: pointer;display: block;width: 100%;margin-bottom: 0;padding: 0.3em;box-sizing: border-box;text-align: center;}#sk-container-id-3 label.sk-toggleable__label-arrow:before {content: \"▸\";float: left;margin-right: 0.25em;color: #696969;}#sk-container-id-3 label.sk-toggleable__label-arrow:hover:before {color: black;}#sk-container-id-3 div.sk-estimator:hover label.sk-toggleable__label-arrow:before {color: black;}#sk-container-id-3 div.sk-toggleable__content {max-height: 0;max-width: 0;overflow: hidden;text-align: left;background-color: #f0f8ff;}#sk-container-id-3 div.sk-toggleable__content pre {margin: 0.2em;color: black;border-radius: 0.25em;background-color: #f0f8ff;}#sk-container-id-3 input.sk-toggleable__control:checked~div.sk-toggleable__content {max-height: 200px;max-width: 100%;overflow: auto;}#sk-container-id-3 input.sk-toggleable__control:checked~label.sk-toggleable__label-arrow:before {content: \"▾\";}#sk-container-id-3 div.sk-estimator input.sk-toggleable__control:checked~label.sk-toggleable__label {background-color: #d4ebff;}#sk-container-id-3 div.sk-label input.sk-toggleable__control:checked~label.sk-toggleable__label {background-color: #d4ebff;}#sk-container-id-3 input.sk-hidden--visually {border: 0;clip: rect(1px 1px 1px 1px);clip: rect(1px, 1px, 1px, 1px);height: 1px;margin: -1px;overflow: hidden;padding: 0;position: absolute;width: 1px;}#sk-container-id-3 div.sk-estimator {font-family: monospace;background-color: #f0f8ff;border: 1px dotted black;border-radius: 0.25em;box-sizing: border-box;margin-bottom: 0.5em;}#sk-container-id-3 div.sk-estimator:hover {background-color: #d4ebff;}#sk-container-id-3 div.sk-parallel-item::after {content: \"\";width: 100%;border-bottom: 1px solid gray;flex-grow: 1;}#sk-container-id-3 div.sk-label:hover label.sk-toggleable__label {background-color: #d4ebff;}#sk-container-id-3 div.sk-serial::before {content: \"\";position: absolute;border-left: 1px solid gray;box-sizing: border-box;top: 0;bottom: 0;left: 50%;z-index: 0;}#sk-container-id-3 div.sk-serial {display: flex;flex-direction: column;align-items: center;background-color: white;padding-right: 0.2em;padding-left: 0.2em;position: relative;}#sk-container-id-3 div.sk-item {position: relative;z-index: 1;}#sk-container-id-3 div.sk-parallel {display: flex;align-items: stretch;justify-content: center;background-color: white;position: relative;}#sk-container-id-3 div.sk-item::before, #sk-container-id-3 div.sk-parallel-item::before {content: \"\";position: absolute;border-left: 1px solid gray;box-sizing: border-box;top: 0;bottom: 0;left: 50%;z-index: -1;}#sk-container-id-3 div.sk-parallel-item {display: flex;flex-direction: column;z-index: 1;position: relative;background-color: white;}#sk-container-id-3 div.sk-parallel-item:first-child::after {align-self: flex-end;width: 50%;}#sk-container-id-3 div.sk-parallel-item:last-child::after {align-self: flex-start;width: 50%;}#sk-container-id-3 div.sk-parallel-item:only-child::after {width: 0;}#sk-container-id-3 div.sk-dashed-wrapped {border: 1px dashed gray;margin: 0 0.4em 0.5em 0.4em;box-sizing: border-box;padding-bottom: 0.4em;background-color: white;}#sk-container-id-3 div.sk-label label {font-family: monospace;font-weight: bold;display: inline-block;line-height: 1.2em;}#sk-container-id-3 div.sk-label-container {text-align: center;}#sk-container-id-3 div.sk-container {/* jupyter's `normalize.less` sets `[hidden] { display: none; }` but bootstrap.min.css set `[hidden] { display: none !important; }` so we also need the `!important` here to be able to override the default hidden behavior on the sphinx rendered scikit-learn.org. See: https://github.com/scikit-learn/scikit-learn/issues/21755 */display: inline-block !important;position: relative;}#sk-container-id-3 div.sk-text-repr-fallback {display: none;}</style><div id=\"sk-container-id-3\" class=\"sk-top-container\"><div class=\"sk-text-repr-fallback\"><pre>Pipeline(steps=[(&#x27;column_trans&#x27;,\n",
              "                 ColumnTransformer(remainder=&#x27;passthrough&#x27;,\n",
              "                                   transformers=[(&#x27;summary_tf&#x27;,\n",
              "                                                  CountVectorizer(),\n",
              "                                                  &#x27;summary&#x27;),\n",
              "                                                 (&#x27;review_tf&#x27;,\n",
              "                                                  CountVectorizer(),\n",
              "                                                  &#x27;reviewText&#x27;),\n",
              "                                                 (&#x27;category_tf&#x27;,\n",
              "                                                  OneHotEncoder(dtype=&#x27;int&#x27;,\n",
              "                                                                handle_unknown=&#x27;ignore&#x27;),\n",
              "                                                  [&#x27;category&#x27;]),\n",
              "                                                 (&#x27;vote_tf&#x27;,\n",
              "                                                  OneHotEncoder(dtype=&#x27;int&#x27;,\n",
              "                                                                handle_unknown=&#x27;ignore&#x27;),\n",
              "                                                  [&#x27;vote&#x27;])])),\n",
              "                (&#x27;model&#x27;,\n",
              "                 RandomForestClassifier(max_features=0.3, random_state=2))])</pre><b>In a Jupyter environment, please rerun this cell to show the HTML representation or trust the notebook. <br />On GitHub, the HTML representation is unable to render, please try loading this page with nbviewer.org.</b></div><div class=\"sk-container\" hidden><div class=\"sk-item sk-dashed-wrapped\"><div class=\"sk-label-container\"><div class=\"sk-label sk-toggleable\"><input class=\"sk-toggleable__control sk-hidden--visually\" id=\"sk-estimator-id-27\" type=\"checkbox\" ><label for=\"sk-estimator-id-27\" class=\"sk-toggleable__label sk-toggleable__label-arrow\">Pipeline</label><div class=\"sk-toggleable__content\"><pre>Pipeline(steps=[(&#x27;column_trans&#x27;,\n",
              "                 ColumnTransformer(remainder=&#x27;passthrough&#x27;,\n",
              "                                   transformers=[(&#x27;summary_tf&#x27;,\n",
              "                                                  CountVectorizer(),\n",
              "                                                  &#x27;summary&#x27;),\n",
              "                                                 (&#x27;review_tf&#x27;,\n",
              "                                                  CountVectorizer(),\n",
              "                                                  &#x27;reviewText&#x27;),\n",
              "                                                 (&#x27;category_tf&#x27;,\n",
              "                                                  OneHotEncoder(dtype=&#x27;int&#x27;,\n",
              "                                                                handle_unknown=&#x27;ignore&#x27;),\n",
              "                                                  [&#x27;category&#x27;]),\n",
              "                                                 (&#x27;vote_tf&#x27;,\n",
              "                                                  OneHotEncoder(dtype=&#x27;int&#x27;,\n",
              "                                                                handle_unknown=&#x27;ignore&#x27;),\n",
              "                                                  [&#x27;vote&#x27;])])),\n",
              "                (&#x27;model&#x27;,\n",
              "                 RandomForestClassifier(max_features=0.3, random_state=2))])</pre></div></div></div><div class=\"sk-serial\"><div class=\"sk-item sk-dashed-wrapped\"><div class=\"sk-label-container\"><div class=\"sk-label sk-toggleable\"><input class=\"sk-toggleable__control sk-hidden--visually\" id=\"sk-estimator-id-28\" type=\"checkbox\" ><label for=\"sk-estimator-id-28\" class=\"sk-toggleable__label sk-toggleable__label-arrow\">column_trans: ColumnTransformer</label><div class=\"sk-toggleable__content\"><pre>ColumnTransformer(remainder=&#x27;passthrough&#x27;,\n",
              "                  transformers=[(&#x27;summary_tf&#x27;, CountVectorizer(), &#x27;summary&#x27;),\n",
              "                                (&#x27;review_tf&#x27;, CountVectorizer(), &#x27;reviewText&#x27;),\n",
              "                                (&#x27;category_tf&#x27;,\n",
              "                                 OneHotEncoder(dtype=&#x27;int&#x27;,\n",
              "                                               handle_unknown=&#x27;ignore&#x27;),\n",
              "                                 [&#x27;category&#x27;]),\n",
              "                                (&#x27;vote_tf&#x27;,\n",
              "                                 OneHotEncoder(dtype=&#x27;int&#x27;,\n",
              "                                               handle_unknown=&#x27;ignore&#x27;),\n",
              "                                 [&#x27;vote&#x27;])])</pre></div></div></div><div class=\"sk-parallel\"><div class=\"sk-parallel-item\"><div class=\"sk-item\"><div class=\"sk-label-container\"><div class=\"sk-label sk-toggleable\"><input class=\"sk-toggleable__control sk-hidden--visually\" id=\"sk-estimator-id-29\" type=\"checkbox\" ><label for=\"sk-estimator-id-29\" class=\"sk-toggleable__label sk-toggleable__label-arrow\">summary_tf</label><div class=\"sk-toggleable__content\"><pre>summary</pre></div></div></div><div class=\"sk-serial\"><div class=\"sk-item\"><div class=\"sk-estimator sk-toggleable\"><input class=\"sk-toggleable__control sk-hidden--visually\" id=\"sk-estimator-id-30\" type=\"checkbox\" ><label for=\"sk-estimator-id-30\" class=\"sk-toggleable__label sk-toggleable__label-arrow\">CountVectorizer</label><div class=\"sk-toggleable__content\"><pre>CountVectorizer()</pre></div></div></div></div></div></div><div class=\"sk-parallel-item\"><div class=\"sk-item\"><div class=\"sk-label-container\"><div class=\"sk-label sk-toggleable\"><input class=\"sk-toggleable__control sk-hidden--visually\" id=\"sk-estimator-id-31\" type=\"checkbox\" ><label for=\"sk-estimator-id-31\" class=\"sk-toggleable__label sk-toggleable__label-arrow\">review_tf</label><div class=\"sk-toggleable__content\"><pre>reviewText</pre></div></div></div><div class=\"sk-serial\"><div class=\"sk-item\"><div class=\"sk-estimator sk-toggleable\"><input class=\"sk-toggleable__control sk-hidden--visually\" id=\"sk-estimator-id-32\" type=\"checkbox\" ><label for=\"sk-estimator-id-32\" class=\"sk-toggleable__label sk-toggleable__label-arrow\">CountVectorizer</label><div class=\"sk-toggleable__content\"><pre>CountVectorizer()</pre></div></div></div></div></div></div><div class=\"sk-parallel-item\"><div class=\"sk-item\"><div class=\"sk-label-container\"><div class=\"sk-label sk-toggleable\"><input class=\"sk-toggleable__control sk-hidden--visually\" id=\"sk-estimator-id-33\" type=\"checkbox\" ><label for=\"sk-estimator-id-33\" class=\"sk-toggleable__label sk-toggleable__label-arrow\">category_tf</label><div class=\"sk-toggleable__content\"><pre>[&#x27;category&#x27;]</pre></div></div></div><div class=\"sk-serial\"><div class=\"sk-item\"><div class=\"sk-estimator sk-toggleable\"><input class=\"sk-toggleable__control sk-hidden--visually\" id=\"sk-estimator-id-34\" type=\"checkbox\" ><label for=\"sk-estimator-id-34\" class=\"sk-toggleable__label sk-toggleable__label-arrow\">OneHotEncoder</label><div class=\"sk-toggleable__content\"><pre>OneHotEncoder(dtype=&#x27;int&#x27;, handle_unknown=&#x27;ignore&#x27;)</pre></div></div></div></div></div></div><div class=\"sk-parallel-item\"><div class=\"sk-item\"><div class=\"sk-label-container\"><div class=\"sk-label sk-toggleable\"><input class=\"sk-toggleable__control sk-hidden--visually\" id=\"sk-estimator-id-35\" type=\"checkbox\" ><label for=\"sk-estimator-id-35\" class=\"sk-toggleable__label sk-toggleable__label-arrow\">vote_tf</label><div class=\"sk-toggleable__content\"><pre>[&#x27;vote&#x27;]</pre></div></div></div><div class=\"sk-serial\"><div class=\"sk-item\"><div class=\"sk-estimator sk-toggleable\"><input class=\"sk-toggleable__control sk-hidden--visually\" id=\"sk-estimator-id-36\" type=\"checkbox\" ><label for=\"sk-estimator-id-36\" class=\"sk-toggleable__label sk-toggleable__label-arrow\">OneHotEncoder</label><div class=\"sk-toggleable__content\"><pre>OneHotEncoder(dtype=&#x27;int&#x27;, handle_unknown=&#x27;ignore&#x27;)</pre></div></div></div></div></div></div><div class=\"sk-parallel-item\"><div class=\"sk-item\"><div class=\"sk-label-container\"><div class=\"sk-label sk-toggleable\"><input class=\"sk-toggleable__control sk-hidden--visually\" id=\"sk-estimator-id-37\" type=\"checkbox\" ><label for=\"sk-estimator-id-37\" class=\"sk-toggleable__label sk-toggleable__label-arrow\">remainder</label><div class=\"sk-toggleable__content\"><pre>[]</pre></div></div></div><div class=\"sk-serial\"><div class=\"sk-item\"><div class=\"sk-estimator sk-toggleable\"><input class=\"sk-toggleable__control sk-hidden--visually\" id=\"sk-estimator-id-38\" type=\"checkbox\" ><label for=\"sk-estimator-id-38\" class=\"sk-toggleable__label sk-toggleable__label-arrow\">passthrough</label><div class=\"sk-toggleable__content\"><pre>passthrough</pre></div></div></div></div></div></div></div></div><div class=\"sk-item\"><div class=\"sk-estimator sk-toggleable\"><input class=\"sk-toggleable__control sk-hidden--visually\" id=\"sk-estimator-id-39\" type=\"checkbox\" ><label for=\"sk-estimator-id-39\" class=\"sk-toggleable__label sk-toggleable__label-arrow\">RandomForestClassifier</label><div class=\"sk-toggleable__content\"><pre>RandomForestClassifier(max_features=0.3, random_state=2)</pre></div></div></div></div></div></div></div>"
            ]
          },
          "metadata": {},
          "execution_count": 20
        }
      ]
    },
    {
      "cell_type": "code",
      "source": [
        "from sklearn.metrics import roc_curve, auc, roc_auc_score\n",
        "from sklearn.metrics import ConfusionMatrixDisplay\n",
        "from IPython.display import display, HTML\n",
        "#With the given predicted y--->calculating false_positives, false_negatives, true_positives and true_negatives\n",
        "def performance_analysis(y_actual,y_pred):\n",
        "    false_positive = np.sum((y_actual == 0) & (y_pred == 1))\n",
        "    false_negative = np.sum((y_actual == 1) & (y_pred == 0))\n",
        "    true_positive = np.sum((y_actual == 1) & (y_pred == 1))\n",
        "    true_negative = np.sum((y_actual == 0) & (y_pred == 0))\n",
        "    \n",
        "    return false_positive, false_negative, true_positive, true_negative\n",
        "\n",
        "\n",
        "#Calculation of metrics for each model\n",
        "def metrics_value(model, y_test, y_pred, y_prob, model_pipeline):\n",
        "  F1_Score = f1_score(y_test, y_pred, average = 'macro')\n",
        "  false_positive, false_negative, true_positive, true_negative = performance_analysis(y_test,y_pred)\n",
        "  Accuracy = (true_positive + true_negative) / (true_positive + true_negative + false_positive + false_negative)\n",
        "  y_prob = y_prob[:,1]\n",
        "  fpr, tpr, Thresholds = roc_curve(y_test, y_prob)\n",
        "  AUC_Score = roc_auc_score(y_test, y_prob)\n",
        "\n",
        "  # Define HTML tags for bold text\n",
        "  BOLD = '<b>'\n",
        "  RESET = '</b>'\n",
        "\n",
        "  # Printing the values in bold\n",
        "  display(HTML(f\"{BOLD}Model : {model}{RESET}\"))\n",
        "  display(HTML(f\"{BOLD}F1 Score:{RESET} {F1_Score}\"))\n",
        "  display(HTML(f\"{BOLD}AUC Score:{RESET} {AUC_Score}\"))\n",
        "  display(HTML(f\"{BOLD}Accuracy:{RESET} {Accuracy}\"))\n",
        "  display(HTML(f\"{BOLD}Thresholds:{RESET} {Thresholds}\"))\n",
        "  \n",
        "\n",
        "  #Plotting the values\n",
        "  plt.plot(fpr, tpr, color='yellowgreen', label=f'ROC curve for model: {model}')\n",
        "  plt.plot([0, 1], [0, 1])\n",
        "  plt.xlabel('False Positive Rate')\n",
        "  plt.ylabel('True Positive Rate')\n",
        "  plt.title('ROC Curve')\n",
        "  plt.legend()\n",
        "  plt.show() \n",
        "  print('\\n')\n",
        "\n",
        "  #Confusion Matrix\n",
        "  disp = ConfusionMatrixDisplay.from_estimator(\n",
        "          model_pipeline,\n",
        "          X_test,\n",
        "          y_test,\n",
        "          display_labels=[0,1],\n",
        "          cmap=plt.cm.Greens\n",
        "      )\n",
        "  plt.title(\"Confusion Matrix\")\n",
        "  plt.show()"
      ],
      "metadata": {
        "id": "PZgsP9HOhyqz"
      },
      "execution_count": null,
      "outputs": []
    },
    {
      "cell_type": "code",
      "source": [
        "#Predicting the overall score from the test data\n",
        "y_PredictionModel_1 = CLFPipeline_1.predict(X_test)\n",
        "y_ProbModel_1 = CLFPipeline_1.predict_proba(X_test)\n",
        "metrics_value(\"Logistic Regression\", y_test,y_PredictionModel_1,y_ProbModel_1, CLFPipeline_1)"
      ],
      "metadata": {
        "colab": {
          "base_uri": "https://localhost:8080/",
          "height": 1000
        },
        "id": "10UZsbtoh-CU",
        "outputId": "b6baff57-4419-499a-c0a1-ac63a19c7cd7"
      },
      "execution_count": null,
      "outputs": [
        {
          "output_type": "display_data",
          "data": {
            "text/plain": [
              "<IPython.core.display.HTML object>"
            ],
            "text/html": [
              "<b>Model : Logistic Regression</b>"
            ]
          },
          "metadata": {}
        },
        {
          "output_type": "display_data",
          "data": {
            "text/plain": [
              "<IPython.core.display.HTML object>"
            ],
            "text/html": [
              "<b>F1 Score:</b> 0.8184036289230447"
            ]
          },
          "metadata": {}
        },
        {
          "output_type": "display_data",
          "data": {
            "text/plain": [
              "<IPython.core.display.HTML object>"
            ],
            "text/html": [
              "<b>AUC Score:</b> 0.9210397456075498"
            ]
          },
          "metadata": {}
        },
        {
          "output_type": "display_data",
          "data": {
            "text/plain": [
              "<IPython.core.display.HTML object>"
            ],
            "text/html": [
              "<b>Accuracy:</b> 0.894655704008222"
            ]
          },
          "metadata": {}
        },
        {
          "output_type": "display_data",
          "data": {
            "text/plain": [
              "<IPython.core.display.HTML object>"
            ],
            "text/html": [
              "<b>Thresholds:</b> [2.00000000e+00 9.99999998e-01 9.99297916e-01 9.99259645e-01\n",
              " 9.95739412e-01 9.94423353e-01 9.90368646e-01 9.90365651e-01\n",
              " 9.88295803e-01 9.88119019e-01 9.86262340e-01 9.86256753e-01\n",
              " 9.81981674e-01 9.81880293e-01 9.81214977e-01 9.81181254e-01\n",
              " 9.76857813e-01 9.76787424e-01 9.73643268e-01 9.73499013e-01\n",
              " 9.68981631e-01 9.68899377e-01 9.68805829e-01 9.64564926e-01\n",
              " 9.64469619e-01 9.59513634e-01 9.59449943e-01 9.58498053e-01\n",
              " 9.58423664e-01 9.58092403e-01 9.57722609e-01 9.56859816e-01\n",
              " 9.56664740e-01 9.52356397e-01 9.52129556e-01 9.51126598e-01\n",
              " 9.51030026e-01 9.47331606e-01 9.47190503e-01 9.45932312e-01\n",
              " 9.44896173e-01 9.42838387e-01 9.42732200e-01 9.42555091e-01\n",
              " 9.41274552e-01 9.38673781e-01 9.38336010e-01 9.35520356e-01\n",
              " 9.34421155e-01 9.33239235e-01 9.32360963e-01 9.31140807e-01\n",
              " 9.29628561e-01 9.28171970e-01 9.27127656e-01 9.25580159e-01\n",
              " 9.24906532e-01 9.17161273e-01 9.16313718e-01 9.09872073e-01\n",
              " 9.09617854e-01 8.96314089e-01 8.95834207e-01 8.87608668e-01\n",
              " 8.87070371e-01 8.86144565e-01 8.86067531e-01 8.86017091e-01\n",
              " 8.85195175e-01 8.80531199e-01 8.80487663e-01 8.79552164e-01\n",
              " 8.79027624e-01 8.66478892e-01 8.65449999e-01 8.62942141e-01\n",
              " 8.61140245e-01 8.60306480e-01 8.59769001e-01 8.55027424e-01\n",
              " 8.54741829e-01 8.53209573e-01 8.53059657e-01 8.50686543e-01\n",
              " 8.50453714e-01 8.49442009e-01 8.48573869e-01 8.45006343e-01\n",
              " 8.43022412e-01 8.40512367e-01 8.39760949e-01 8.27079283e-01\n",
              " 8.26488788e-01 8.22889509e-01 8.21558675e-01 8.20105604e-01\n",
              " 8.18341868e-01 8.18222827e-01 8.17276982e-01 8.14009897e-01\n",
              " 8.12326425e-01 8.09627565e-01 8.07346161e-01 8.06484008e-01\n",
              " 8.06282221e-01 8.03036693e-01 8.02554745e-01 7.98233323e-01\n",
              " 7.96234236e-01 7.94571914e-01 7.93726782e-01 7.92407217e-01\n",
              " 7.90750171e-01 7.88724121e-01 7.87398057e-01 7.85238902e-01\n",
              " 7.80181929e-01 7.79955530e-01 7.78061289e-01 7.77301924e-01\n",
              " 7.75092473e-01 7.72996558e-01 7.72900563e-01 7.72337913e-01\n",
              " 7.72229498e-01 7.69766151e-01 7.67665556e-01 7.65211171e-01\n",
              " 7.60736875e-01 7.59943383e-01 7.59713142e-01 7.54808978e-01\n",
              " 7.53151095e-01 7.43755271e-01 7.42066407e-01 7.40356312e-01\n",
              " 7.39526759e-01 7.38462317e-01 7.36023391e-01 7.35010020e-01\n",
              " 7.32789409e-01 7.32592861e-01 7.31616119e-01 7.31023354e-01\n",
              " 7.27980053e-01 7.27321130e-01 7.27148219e-01 7.25385492e-01\n",
              " 7.24197167e-01 7.19403067e-01 7.18657733e-01 7.18395235e-01\n",
              " 7.18191489e-01 7.16390871e-01 7.15834282e-01 7.14224233e-01\n",
              " 7.12929023e-01 7.11545392e-01 7.10902120e-01 7.03112285e-01\n",
              " 7.01737076e-01 7.01140583e-01 7.00587009e-01 6.97619723e-01\n",
              " 6.96216664e-01 6.89209232e-01 6.89129793e-01 6.88804900e-01\n",
              " 6.88092560e-01 6.85726102e-01 6.85107610e-01 6.84788838e-01\n",
              " 6.84269788e-01 6.83651444e-01 6.81510038e-01 6.80710041e-01\n",
              " 6.80246372e-01 6.77870155e-01 6.76516434e-01 6.74825073e-01\n",
              " 6.74243831e-01 6.74047938e-01 6.73293882e-01 6.72394193e-01\n",
              " 6.72303486e-01 6.68517346e-01 6.68453364e-01 6.64177215e-01\n",
              " 6.64106571e-01 6.60135538e-01 6.59618946e-01 6.59580311e-01\n",
              " 6.58196780e-01 6.57685394e-01 6.57668365e-01 6.54020655e-01\n",
              " 6.51522298e-01 6.51302414e-01 6.51250537e-01 6.49781980e-01\n",
              " 6.49713563e-01 6.49078430e-01 6.49012682e-01 6.47334850e-01\n",
              " 6.44869203e-01 6.44588130e-01 6.43936758e-01 6.41294295e-01\n",
              " 6.41256554e-01 6.36863464e-01 6.35670530e-01 6.32677042e-01\n",
              " 6.32482256e-01 6.32393117e-01 6.32116941e-01 6.24181386e-01\n",
              " 6.23206444e-01 6.17826614e-01 6.17022473e-01 6.16697097e-01\n",
              " 6.15974811e-01 6.12089762e-01 6.07281184e-01 6.06528643e-01\n",
              " 6.05880728e-01 6.02605741e-01 6.02370383e-01 6.02287465e-01\n",
              " 6.01649492e-01 6.01033470e-01 6.01015715e-01 5.98804767e-01\n",
              " 5.98009434e-01 5.96379705e-01 5.94933475e-01 5.85671597e-01\n",
              " 5.84572930e-01 5.81673302e-01 5.81621270e-01 5.80361977e-01\n",
              " 5.80230837e-01 5.79393143e-01 5.77662744e-01 5.76357492e-01\n",
              " 5.76234776e-01 5.76017898e-01 5.69672242e-01 5.66011958e-01\n",
              " 5.64678554e-01 5.64097364e-01 5.63239732e-01 5.62769588e-01\n",
              " 5.62646405e-01 5.62516344e-01 5.62480974e-01 5.62460194e-01\n",
              " 5.60466161e-01 5.60209435e-01 5.59324825e-01 5.58374564e-01\n",
              " 5.58065549e-01 5.55599242e-01 5.54524070e-01 5.52807783e-01\n",
              " 5.51790333e-01 5.51728090e-01 5.50580122e-01 5.50467990e-01\n",
              " 5.49329178e-01 5.48277575e-01 5.44725321e-01 5.44439104e-01\n",
              " 5.42113248e-01 5.40176974e-01 5.38739989e-01 5.38154463e-01\n",
              " 5.37529236e-01 5.37026543e-01 5.36870314e-01 5.34638033e-01\n",
              " 5.34406745e-01 5.32966803e-01 5.29537151e-01 5.28148822e-01\n",
              " 5.19760520e-01 5.18814021e-01 5.14508939e-01 5.14236406e-01\n",
              " 5.13667454e-01 5.08465635e-01 5.08442426e-01 5.08063699e-01\n",
              " 5.07245027e-01 5.05824969e-01 5.05700574e-01 5.04813519e-01\n",
              " 5.04795774e-01 5.02180253e-01 5.01580628e-01 5.00593919e-01\n",
              " 5.00562931e-01 4.98082476e-01 4.96846678e-01 4.96298064e-01\n",
              " 4.95666202e-01 4.94901663e-01 4.94396500e-01 4.91251535e-01\n",
              " 4.89459040e-01 4.84987549e-01 4.82660857e-01 4.81738338e-01\n",
              " 4.81569549e-01 4.81376735e-01 4.80398666e-01 4.80322515e-01\n",
              " 4.79807382e-01 4.76113076e-01 4.76077587e-01 4.74080465e-01\n",
              " 4.73913435e-01 4.71671349e-01 4.70390218e-01 4.67921969e-01\n",
              " 4.66183407e-01 4.64966731e-01 4.64791527e-01 4.64396579e-01\n",
              " 4.62784209e-01 4.60560610e-01 4.60523519e-01 4.59936254e-01\n",
              " 4.59220770e-01 4.59059078e-01 4.58871743e-01 4.58715348e-01\n",
              " 4.58215104e-01 4.55183115e-01 4.55046536e-01 4.52404364e-01\n",
              " 4.52088549e-01 4.49520878e-01 4.49494438e-01 4.48987713e-01\n",
              " 4.48649979e-01 4.47446425e-01 4.46519758e-01 4.45874462e-01\n",
              " 4.40576484e-01 4.37054730e-01 4.35925751e-01 4.35087781e-01\n",
              " 4.31674152e-01 4.29305692e-01 4.27549009e-01 4.27249538e-01\n",
              " 4.26239557e-01 4.25775381e-01 4.25349590e-01 4.24840982e-01\n",
              " 4.24831374e-01 4.22106353e-01 4.21497433e-01 4.21255929e-01\n",
              " 4.20707864e-01 4.19100032e-01 4.18717007e-01 4.17134956e-01\n",
              " 4.13924802e-01 4.12586145e-01 4.12519029e-01 4.12222524e-01\n",
              " 4.11679957e-01 4.11580649e-01 4.08444665e-01 4.07687364e-01\n",
              " 4.07575086e-01 4.06728235e-01 4.05238844e-01 4.04182258e-01\n",
              " 4.02009213e-01 4.01450615e-01 4.01246083e-01 4.00762610e-01\n",
              " 3.99874259e-01 3.98481184e-01 3.98150415e-01 3.97653275e-01\n",
              " 3.97524325e-01 3.97473086e-01 3.97094757e-01 3.96948185e-01\n",
              " 3.95979743e-01 3.95239965e-01 3.95203823e-01 3.94858061e-01\n",
              " 3.94362741e-01 3.93503654e-01 3.92191965e-01 3.92104158e-01\n",
              " 3.91727636e-01 3.91222423e-01 3.90837664e-01 3.90169759e-01\n",
              " 3.89406275e-01 3.89386929e-01 3.88156079e-01 3.87867208e-01\n",
              " 3.87510445e-01 3.86999054e-01 3.85814438e-01 3.85758522e-01\n",
              " 3.84610102e-01 3.83793192e-01 3.83369630e-01 3.83108218e-01\n",
              " 3.81002900e-01 3.79272256e-01 3.79249731e-01 3.78895045e-01\n",
              " 3.76868309e-01 3.75050638e-01 3.73721219e-01 3.73328842e-01\n",
              " 3.72297903e-01 3.71464300e-01 3.69762765e-01 3.69590949e-01\n",
              " 3.69331900e-01 3.68547289e-01 3.68123939e-01 3.68034260e-01\n",
              " 3.63912581e-01 3.63868713e-01 3.63247409e-01 3.62623649e-01\n",
              " 3.62474502e-01 3.62251671e-01 3.61355359e-01 3.61187519e-01\n",
              " 3.60028365e-01 3.58143517e-01 3.57801380e-01 3.55740520e-01\n",
              " 3.55683487e-01 3.55444729e-01 3.54930338e-01 3.54764013e-01\n",
              " 3.53859111e-01 3.53375803e-01 3.51600039e-01 3.51514387e-01\n",
              " 3.51493072e-01 3.50806615e-01 3.50347328e-01 3.48892911e-01\n",
              " 3.48675348e-01 3.47139718e-01 3.47106942e-01 3.46626209e-01\n",
              " 3.45452752e-01 3.45271163e-01 3.44555549e-01 3.43077054e-01\n",
              " 3.41694320e-01 3.40087178e-01 3.37886355e-01 3.37612389e-01\n",
              " 3.33841778e-01 3.32067380e-01 3.31923735e-01 3.30818390e-01\n",
              " 3.26283637e-01 3.25986969e-01 3.25609193e-01 3.25011816e-01\n",
              " 3.24977037e-01 3.24879842e-01 3.24684522e-01 3.24514977e-01\n",
              " 3.22777600e-01 3.22006110e-01 3.20724837e-01 3.20212321e-01\n",
              " 3.19062266e-01 3.18545941e-01 3.15138829e-01 3.14615942e-01\n",
              " 3.12909254e-01 3.12670531e-01 3.09827685e-01 3.09503799e-01\n",
              " 3.06198113e-01 3.05875604e-01 2.92911035e-01 2.92901883e-01\n",
              " 2.91582035e-01 2.91399481e-01 2.91245439e-01 2.90167238e-01\n",
              " 2.89318588e-01 2.88770240e-01 2.88325799e-01 2.87117202e-01\n",
              " 2.86917649e-01 2.86813770e-01 2.84724312e-01 2.83925913e-01\n",
              " 2.83495552e-01 2.83476098e-01 2.83229004e-01 2.82975325e-01\n",
              " 2.82973893e-01 2.82284205e-01 2.80225040e-01 2.79461139e-01\n",
              " 2.77269630e-01 2.75354132e-01 2.75201492e-01 2.75153535e-01\n",
              " 2.75019169e-01 2.74820689e-01 2.73151616e-01 2.73130740e-01\n",
              " 2.67727709e-01 2.67628944e-01 2.66949018e-01 2.66913536e-01\n",
              " 2.65614074e-01 2.65293984e-01 2.64934859e-01 2.64146713e-01\n",
              " 2.63843374e-01 2.61725457e-01 2.60451844e-01 2.59010426e-01\n",
              " 2.57245335e-01 2.57192742e-01 2.56229620e-01 2.56078349e-01\n",
              " 2.52990626e-01 2.52771686e-01 2.52342321e-01 2.51569241e-01\n",
              " 2.50750579e-01 2.49448100e-01 2.47106455e-01 2.46746360e-01\n",
              " 2.45276347e-01 2.44249675e-01 2.44175895e-01 2.43950921e-01\n",
              " 2.43676420e-01 2.43490283e-01 2.43295874e-01 2.42834127e-01\n",
              " 2.42476369e-01 2.42212865e-01 2.40038990e-01 2.39757240e-01\n",
              " 2.38347882e-01 2.37698315e-01 2.37148079e-01 2.36906215e-01\n",
              " 2.36062196e-01 2.35929976e-01 2.35492802e-01 2.35193697e-01\n",
              " 2.35040645e-01 2.34478812e-01 2.34332441e-01 2.33525855e-01\n",
              " 2.32234816e-01 2.31887690e-01 2.31728710e-01 2.31557751e-01\n",
              " 2.30238660e-01 2.30119707e-01 2.29571341e-01 2.29116320e-01\n",
              " 2.28978174e-01 2.28502575e-01 2.28277464e-01 2.28071212e-01\n",
              " 2.26011483e-01 2.25810986e-01 2.25594632e-01 2.25339125e-01\n",
              " 2.24539438e-01 2.24471356e-01 2.22116607e-01 2.20174172e-01\n",
              " 2.19847170e-01 2.19769565e-01 2.18924638e-01 2.18501551e-01\n",
              " 2.18501153e-01 2.18314145e-01 2.17990274e-01 2.17263503e-01\n",
              " 2.14961873e-01 2.14585267e-01 2.11524561e-01 2.11418596e-01\n",
              " 2.11095485e-01 2.10981135e-01 2.08939873e-01 2.08649351e-01\n",
              " 2.08423205e-01 2.08308470e-01 2.07756423e-01 2.07694954e-01\n",
              " 2.06994947e-01 2.06754093e-01 2.04920431e-01 2.04746689e-01\n",
              " 2.04507062e-01 2.04443739e-01 1.98952343e-01 1.98885415e-01\n",
              " 1.96653151e-01 1.96549425e-01 1.94551414e-01 1.94331741e-01\n",
              " 1.92964336e-01 1.92944417e-01 1.92556039e-01 1.92433774e-01\n",
              " 1.91527862e-01 1.91233585e-01 1.91176659e-01 1.90888508e-01\n",
              " 1.90102571e-01 1.90007157e-01 1.89561580e-01 1.89110063e-01\n",
              " 1.88408204e-01 1.88345636e-01 1.87132174e-01 1.85688794e-01\n",
              " 1.81810524e-01 1.81019830e-01 1.80950682e-01 1.80837259e-01\n",
              " 1.78080133e-01 1.77407228e-01 1.74127613e-01 1.74000050e-01\n",
              " 1.73785679e-01 1.73672959e-01 1.69215691e-01 1.68842503e-01\n",
              " 1.66435097e-01 1.66284324e-01 1.65285035e-01 1.65276521e-01\n",
              " 1.59438171e-01 1.59187696e-01 1.58870249e-01 1.58829422e-01\n",
              " 1.54764786e-01 1.54414952e-01 1.53589916e-01 1.53504631e-01\n",
              " 1.52560078e-01 1.52528196e-01 1.50767810e-01 1.50757625e-01\n",
              " 1.48006787e-01 1.47883084e-01 1.47715434e-01 1.47675521e-01\n",
              " 1.46803451e-01 1.46644077e-01 1.45408224e-01 1.44970260e-01\n",
              " 1.40601641e-01 1.40399741e-01 1.39692336e-01 1.39666113e-01\n",
              " 1.38475363e-01 1.38234246e-01 1.37081887e-01 1.36962832e-01\n",
              " 1.35545940e-01 1.35447821e-01 1.34206246e-01 1.34025256e-01\n",
              " 1.29298635e-01 1.29082460e-01 1.25604545e-01 1.25485413e-01\n",
              " 1.21721557e-01 1.21598767e-01 1.19816196e-01 1.19632454e-01\n",
              " 1.17970102e-01 1.17763858e-01 1.11192689e-01 1.11143871e-01\n",
              " 1.11005115e-01 1.10959184e-01 1.09887951e-01 1.09708027e-01\n",
              " 1.03870952e-01 1.03812295e-01 1.02737512e-01 1.02555438e-01\n",
              " 1.02231829e-01 1.02091972e-01 1.01820090e-01 1.01754754e-01\n",
              " 1.01075415e-01 1.01048058e-01 1.00647332e-01 1.00365387e-01\n",
              " 1.00306049e-01 1.00299869e-01 9.87780692e-02 9.86871631e-02\n",
              " 9.80039345e-02 9.76649875e-02 9.60531416e-02 9.56061327e-02\n",
              " 9.48750378e-02 9.48073469e-02 9.37065649e-02 9.34419266e-02\n",
              " 9.26480196e-02 9.26235378e-02 9.22913066e-02 9.21913634e-02\n",
              " 9.16724656e-02 9.16470958e-02 8.87146787e-02 8.87117443e-02\n",
              " 8.51908296e-02 8.51751353e-02 8.37490853e-02 8.34043238e-02\n",
              " 8.29073500e-02 8.28745294e-02 8.27184931e-02 8.26846455e-02\n",
              " 8.23109714e-02 8.22792603e-02 7.89878121e-02 7.88213236e-02\n",
              " 7.87485505e-02 7.86869421e-02 7.85623950e-02 7.85279799e-02\n",
              " 7.64245784e-02 7.62611795e-02 7.59566520e-02 7.59406663e-02\n",
              " 7.52951373e-02 7.52573107e-02 7.39147531e-02 7.39112501e-02\n",
              " 7.38466052e-02 7.38336236e-02 7.17677152e-02 7.16490163e-02\n",
              " 7.14762780e-02 7.14699139e-02 7.06975317e-02 7.03037775e-02\n",
              " 6.85997822e-02 6.85498757e-02 6.71332912e-02 6.69255610e-02\n",
              " 6.58982365e-02 6.54142440e-02 6.40021759e-02 6.38481572e-02\n",
              " 6.37577982e-02 6.36680360e-02 6.35352931e-02 6.34575775e-02\n",
              " 6.27184956e-02 6.26694041e-02 6.21592211e-02 6.21288916e-02\n",
              " 6.13319881e-02 6.13244109e-02 6.09545923e-02 6.08757093e-02\n",
              " 5.80118390e-02 5.78835870e-02 5.68972114e-02 5.67613982e-02\n",
              " 5.12926794e-02 5.11005374e-02 4.87065795e-02 4.86600268e-02\n",
              " 4.72805446e-02 4.70879047e-02 4.52098657e-02 4.51496103e-02\n",
              " 4.42672553e-02 4.42442934e-02 4.30624783e-02 4.30474984e-02\n",
              " 4.23154139e-02 4.22961170e-02 4.13072608e-02 4.12477609e-02\n",
              " 4.06874868e-02 4.06413816e-02 4.01871266e-02 4.01287435e-02\n",
              " 3.96231022e-02 3.95919961e-02 3.86782697e-02 3.86738387e-02\n",
              " 3.59554222e-02 3.59350231e-02 3.07364665e-02 3.06811654e-02\n",
              " 3.04788963e-02 3.03690934e-02 2.99918375e-02 2.99773752e-02\n",
              " 2.92606863e-02 2.92510480e-02 2.57981238e-02 2.57919525e-02\n",
              " 2.49013520e-02 2.48801592e-02 2.48138393e-02 2.47736464e-02\n",
              " 2.22629984e-02 2.22438060e-02 2.17801594e-02 2.17777004e-02\n",
              " 2.17576142e-02 2.17462280e-02 2.11609891e-02 2.11445518e-02\n",
              " 2.05432711e-02 2.05213396e-02 1.91635705e-02 1.91585675e-02\n",
              " 1.85662820e-02 1.85540532e-02 1.73818522e-02 1.73177310e-02\n",
              " 1.54921506e-02 1.54833789e-02 1.54305584e-02 1.54198719e-02\n",
              " 1.52638591e-02 1.52385608e-02 1.44284571e-02 1.44212105e-02\n",
              " 1.42824032e-02 1.42812769e-02 1.40215088e-02 1.40207824e-02\n",
              " 1.37914921e-02 1.37856664e-02 1.30167356e-02 1.30122416e-02\n",
              " 1.10197250e-02 1.09996330e-02 1.08889901e-02 1.08828168e-02\n",
              " 1.06372814e-02 1.06195145e-02 1.00880383e-02 1.00857995e-02\n",
              " 9.89781705e-03 9.88953621e-03 8.20806578e-03 8.20422330e-03\n",
              " 8.18630457e-03 8.17438194e-03 7.82349033e-03 7.80595153e-03\n",
              " 7.08595563e-03 7.06930273e-03 5.92250620e-03 5.91221372e-03\n",
              " 4.88374593e-03 4.88181829e-03 4.04064394e-03 4.01584289e-03\n",
              " 2.33055289e-03 2.31236100e-03 1.68136368e-03 1.67525123e-03\n",
              " 1.21783966e-03 1.20524690e-03 1.10501356e-03 1.10088502e-03\n",
              " 9.87503679e-04 9.75144735e-04 8.95989792e-04 8.91454217e-04\n",
              " 3.75740638e-04 3.74505466e-04 3.10588955e-04 3.08323459e-04\n",
              " 5.03912144e-05 5.01179474e-05 2.92036344e-05 2.78257471e-05\n",
              " 1.11203532e-05 1.07840540e-05 1.03306740e-05 9.98165694e-06\n",
              " 3.61293593e-06 3.32393000e-06 2.00109625e-09 1.52637854e-09\n",
              " 7.14588441e-15]"
            ]
          },
          "metadata": {}
        },
        {
          "output_type": "display_data",
          "data": {
            "text/plain": [
              "<Figure size 640x480 with 1 Axes>"
            ],
            "image/png": "[encoded data removed]"
          },
          "metadata": {}
        },
        {
          "output_type": "stream",
          "name": "stdout",
          "text": [
            "\n",
            "\n"
          ]
        },
        {
          "output_type": "display_data",
          "data": {
            "text/plain": [
              "<Figure size 640x480 with 2 Axes>"
            ],
            "image/png": "[encoded data removed]"
          },
          "metadata": {}
        }
      ]
    },
    {
      "cell_type": "code",
      "source": [
        "#Predicting the overall score from the test data\n",
        "y_PredictionModel_2 = CLFPipeline_2.predict(X_test)\n",
        "y_ProbModel_2 = CLFPipeline_2.predict_proba(X_test)\n",
        "metrics_value(\"Logistic Regression\", y_test,y_PredictionModel_2,y_ProbModel_2, CLFPipeline_2)"
      ],
      "metadata": {
        "colab": {
          "base_uri": "https://localhost:8080/",
          "height": 1000
        },
        "id": "PhtqYnPHiDKC",
        "outputId": "ca078295-7c8c-4cc4-9aae-43deb0d3c7eb"
      },
      "execution_count": null,
      "outputs": [
        {
          "output_type": "display_data",
          "data": {
            "text/plain": [
              "<IPython.core.display.HTML object>"
            ],
            "text/html": [
              "<b>Model : Logistic Regression</b>"
            ]
          },
          "metadata": {}
        },
        {
          "output_type": "display_data",
          "data": {
            "text/plain": [
              "<IPython.core.display.HTML object>"
            ],
            "text/html": [
              "<b>F1 Score:</b> 0.7354405127900994"
            ]
          },
          "metadata": {}
        },
        {
          "output_type": "display_data",
          "data": {
            "text/plain": [
              "<IPython.core.display.HTML object>"
            ],
            "text/html": [
              "<b>AUC Score:</b> 0.7502392583218807"
            ]
          },
          "metadata": {}
        },
        {
          "output_type": "display_data",
          "data": {
            "text/plain": [
              "<IPython.core.display.HTML object>"
            ],
            "text/html": [
              "<b>Accuracy:</b> 0.8701610140459062"
            ]
          },
          "metadata": {}
        },
        {
          "output_type": "display_data",
          "data": {
            "text/plain": [
              "<IPython.core.display.HTML object>"
            ],
            "text/html": [
              "<b>Thresholds:</b> [1.99489362 0.99489362 0.75       0.74747475 0.67597765 0.5942446\n",
              " 0.37142857 0.33489461 0.30252101 0.13750498 0.11538462 0.05970149\n",
              " 0.05555556 0.04624277 0.03174603 0.00480577 0.        ]"
            ]
          },
          "metadata": {}
        },
        {
          "output_type": "display_data",
          "data": {
            "text/plain": [
              "<Figure size 640x480 with 1 Axes>"
            ],
            "image/png": "[encoded data removed]"
          },
          "metadata": {}
        },
        {
          "output_type": "stream",
          "name": "stdout",
          "text": [
            "\n",
            "\n"
          ]
        },
        {
          "output_type": "display_data",
          "data": {
            "text/plain": [
              "<Figure size 640x480 with 2 Axes>"
            ],
            "image/png": "[encoded data removed]"
          },
          "metadata": {}
        }
      ]
    },
    {
      "cell_type": "code",
      "source": [
        "#Predicting the overall score from the test data\n",
        "y_PredictionModel_3 = CLFPipeline_3.predict(X_test)\n",
        "y_ProbModel_3 = CLFPipeline_3.predict_proba(X_test)\n",
        "metrics_value(\"Logistic Regression\", y_test,y_PredictionModel_3,y_ProbModel_3, CLFPipeline_3)"
      ],
      "metadata": {
        "colab": {
          "base_uri": "https://localhost:8080/",
          "height": 1000
        },
        "id": "Jkei4tECiJVz",
        "outputId": "a6148624-70ca-456e-a08c-3a6d0a4a78b2"
      },
      "execution_count": null,
      "outputs": [
        {
          "output_type": "display_data",
          "data": {
            "text/plain": [
              "<IPython.core.display.HTML object>"
            ],
            "text/html": [
              "<b>Model : Logistic Regression</b>"
            ]
          },
          "metadata": {}
        },
        {
          "output_type": "display_data",
          "data": {
            "text/plain": [
              "<IPython.core.display.HTML object>"
            ],
            "text/html": [
              "<b>F1 Score:</b> 0.7724430880671376"
            ]
          },
          "metadata": {}
        },
        {
          "output_type": "display_data",
          "data": {
            "text/plain": [
              "<IPython.core.display.HTML object>"
            ],
            "text/html": [
              "<b>AUC Score:</b> 0.8876073638646607"
            ]
          },
          "metadata": {}
        },
        {
          "output_type": "display_data",
          "data": {
            "text/plain": [
              "<IPython.core.display.HTML object>"
            ],
            "text/html": [
              "<b>Accuracy:</b> 0.8806097978759849"
            ]
          },
          "metadata": {}
        },
        {
          "output_type": "display_data",
          "data": {
            "text/plain": [
              "<IPython.core.display.HTML object>"
            ],
            "text/html": [
              "<b>Thresholds:</b> [2.         1.         0.99       0.98       0.97       0.96\n",
              " 0.95       0.94       0.93       0.92       0.91       0.9\n",
              " 0.88       0.87       0.86       0.85       0.84       0.83\n",
              " 0.82       0.81       0.8        0.79       0.78       0.77\n",
              " 0.76233333 0.76       0.75       0.74       0.73       0.72\n",
              " 0.71       0.7        0.69       0.68       0.67       0.66\n",
              " 0.65       0.64       0.63       0.62       0.61       0.6\n",
              " 0.59       0.58       0.57       0.56       0.55       0.54\n",
              " 0.53       0.52       0.51       0.5        0.49       0.48\n",
              " 0.47       0.46       0.45       0.44       0.43       0.42464286\n",
              " 0.42       0.41       0.4        0.39       0.38       0.37\n",
              " 0.36       0.35       0.34714286 0.34       0.33       0.32\n",
              " 0.31       0.3        0.29       0.28       0.27       0.268\n",
              " 0.26       0.25       0.24       0.23       0.22       0.21\n",
              " 0.2        0.19       0.18       0.17       0.16       0.15\n",
              " 0.14       0.13       0.12714286 0.12       0.11       0.1\n",
              " 0.09       0.08       0.07       0.064      0.06       0.05\n",
              " 0.04       0.03       0.025      0.02       0.01       0.        ]"
            ]
          },
          "metadata": {}
        },
        {
          "output_type": "display_data",
          "data": {
            "text/plain": [
              "<Figure size 640x480 with 1 Axes>"
            ],
            "image/png": "[encoded data removed]"
          },
          "metadata": {}
        },
        {
          "output_type": "stream",
          "name": "stdout",
          "text": [
            "\n",
            "\n"
          ]
        },
        {
          "output_type": "display_data",
          "data": {
            "text/plain": [
              "<Figure size 640x480 with 2 Axes>"
            ],
            "image/png": "[encoded data removed]"
          },
          "metadata": {}
        }
      ]
    },
    {
      "cell_type": "code",
      "source": [
        "#Cleaning the test data\n",
        "Test_DataFrame = create_dataframe(data_encoder(Testing_Data), train=False)\n",
        "Test_DataFrame = Test_DataFrame.replace(np.nan, '')\n",
        "\n",
        "#Predictions for test data\n",
        "test_predictions = CLFPipeline_1.predict(Test_DataFrame)"
      ],
      "metadata": {
        "id": "9OyzJVJoiMc7"
      },
      "execution_count": null,
      "outputs": []
    },
    {
      "cell_type": "code",
      "source": [
        "# IMPORTANT: use 'id' and 'predicted' as the column names\n",
        "test_ids = list(Test_DataFrame.index) # the 'id' column name is the index of the test samples"
      ],
      "metadata": {
        "id": "XOzaVOWiiO2K"
      },
      "execution_count": null,
      "outputs": []
    },
    {
      "cell_type": "code",
      "source": [
        "test_submission = pd.DataFrame({'id':test_ids, 'binary_split_4':test_predictions})\n",
        "print(test_submission.shape) # should be (4500, 2)\n",
        "test_submission.head()"
      ],
      "metadata": {
        "colab": {
          "base_uri": "https://localhost:8080/",
          "height": 223
        },
        "id": "yFxWYmT3iQ2R",
        "outputId": "3184f74a-4dde-4c70-910f-40e302f3e3dd"
      },
      "execution_count": null,
      "outputs": [
        {
          "output_type": "stream",
          "name": "stdout",
          "text": [
            "(4500, 2)\n"
          ]
        },
        {
          "output_type": "execute_result",
          "data": {
            "text/plain": [
              "   id  binary_split_4\n",
              "0   0               0\n",
              "1   1               0\n",
              "2   2               0\n",
              "3   3               0\n",
              "4   4               0"
            ],
            "text/html": [
              "\n",
              "  <div id=\"df-4ac1ded5-d738-487b-90a3-a2072ba3ad5b\">\n",
              "    <div class=\"colab-df-container\">\n",
              "      <div>\n",
              "<style scoped>\n",
              "    .dataframe tbody tr th:only-of-type {\n",
              "        vertical-align: middle;\n",
              "    }\n",
              "\n",
              "    .dataframe tbody tr th {\n",
              "        vertical-align: top;\n",
              "    }\n",
              "\n",
              "    .dataframe thead th {\n",
              "        text-align: right;\n",
              "    }\n",
              "</style>\n",
              "<table border=\"1\" class=\"dataframe\">\n",
              "  <thead>\n",
              "    <tr style=\"text-align: right;\">\n",
              "      <th></th>\n",
              "      <th>id</th>\n",
              "      <th>binary_split_4</th>\n",
              "    </tr>\n",
              "  </thead>\n",
              "  <tbody>\n",
              "    <tr>\n",
              "      <th>0</th>\n",
              "      <td>0</td>\n",
              "      <td>0</td>\n",
              "    </tr>\n",
              "    <tr>\n",
              "      <th>1</th>\n",
              "      <td>1</td>\n",
              "      <td>0</td>\n",
              "    </tr>\n",
              "    <tr>\n",
              "      <th>2</th>\n",
              "      <td>2</td>\n",
              "      <td>0</td>\n",
              "    </tr>\n",
              "    <tr>\n",
              "      <th>3</th>\n",
              "      <td>3</td>\n",
              "      <td>0</td>\n",
              "    </tr>\n",
              "    <tr>\n",
              "      <th>4</th>\n",
              "      <td>4</td>\n",
              "      <td>0</td>\n",
              "    </tr>\n",
              "  </tbody>\n",
              "</table>\n",
              "</div>\n",
              "      <button class=\"colab-df-convert\" onclick=\"convertToInteractive('df-4ac1ded5-d738-487b-90a3-a2072ba3ad5b')\"\n",
              "              title=\"Convert this dataframe to an interactive table.\"\n",
              "              style=\"display:none;\">\n",
              "        \n",
              "  <svg xmlns=\"http://www.w3.org/2000/svg\" height=\"24px\"viewBox=\"0 0 24 24\"\n",
              "       width=\"24px\">\n",
              "    <path d=\"M0 0h24v24H0V0z\" fill=\"none\"/>\n",
              "    <path d=\"M18.56 5.44l.94 2.06.94-2.06 2.06-.94-2.06-.94-.94-2.06-.94 2.06-2.06.94zm-11 1L8.5 8.5l.94-2.06 2.06-.94-2.06-.94L8.5 2.5l-.94 2.06-2.06.94zm10 10l.94 2.06.94-2.06 2.06-.94-2.06-.94-.94-2.06-.94 2.06-2.06.94z\"/><path d=\"M17.41 7.96l-1.37-1.37c-.4-.4-.92-.59-1.43-.59-.52 0-1.04.2-1.43.59L10.3 9.45l-7.72 7.72c-.78.78-.78 2.05 0 2.83L4 21.41c.39.39.9.59 1.41.59.51 0 1.02-.2 1.41-.59l7.78-7.78 2.81-2.81c.8-.78.8-2.07 0-2.86zM5.41 20L4 18.59l7.72-7.72 1.47 1.35L5.41 20z\"/>\n",
              "  </svg>\n",
              "      </button>\n",
              "      \n",
              "  <style>\n",
              "    .colab-df-container {\n",
              "      display:flex;\n",
              "      flex-wrap:wrap;\n",
              "      gap: 12px;\n",
              "    }\n",
              "\n",
              "    .colab-df-convert {\n",
              "      background-color: #E8F0FE;\n",
              "      border: none;\n",
              "      border-radius: 50%;\n",
              "      cursor: pointer;\n",
              "      display: none;\n",
              "      fill: #1967D2;\n",
              "      height: 32px;\n",
              "      padding: 0 0 0 0;\n",
              "      width: 32px;\n",
              "    }\n",
              "\n",
              "    .colab-df-convert:hover {\n",
              "      background-color: #E2EBFA;\n",
              "      box-shadow: 0px 1px 2px rgba(60, 64, 67, 0.3), 0px 1px 3px 1px rgba(60, 64, 67, 0.15);\n",
              "      fill: #174EA6;\n",
              "    }\n",
              "\n",
              "    [theme=dark] .colab-df-convert {\n",
              "      background-color: #3B4455;\n",
              "      fill: #D2E3FC;\n",
              "    }\n",
              "\n",
              "    [theme=dark] .colab-df-convert:hover {\n",
              "      background-color: #434B5C;\n",
              "      box-shadow: 0px 1px 3px 1px rgba(0, 0, 0, 0.15);\n",
              "      filter: drop-shadow(0px 1px 2px rgba(0, 0, 0, 0.3));\n",
              "      fill: #FFFFFF;\n",
              "    }\n",
              "  </style>\n",
              "\n",
              "      <script>\n",
              "        const buttonEl =\n",
              "          document.querySelector('#df-4ac1ded5-d738-487b-90a3-a2072ba3ad5b button.colab-df-convert');\n",
              "        buttonEl.style.display =\n",
              "          google.colab.kernel.accessAllowed ? 'block' : 'none';\n",
              "\n",
              "        async function convertToInteractive(key) {\n",
              "          const element = document.querySelector('#df-4ac1ded5-d738-487b-90a3-a2072ba3ad5b');\n",
              "          const dataTable =\n",
              "            await google.colab.kernel.invokeFunction('convertToInteractive',\n",
              "                                                     [key], {});\n",
              "          if (!dataTable) return;\n",
              "\n",
              "          const docLinkHtml = 'Like what you see? Visit the ' +\n",
              "            '<a target=\"_blank\" href=https://colab.research.google.com/notebooks/data_table.ipynb>data table notebook</a>'\n",
              "            + ' to learn more about interactive tables.';\n",
              "          element.innerHTML = '';\n",
              "          dataTable['output_type'] = 'display_data';\n",
              "          await google.colab.output.renderOutput(dataTable, element);\n",
              "          const docLink = document.createElement('div');\n",
              "          docLink.innerHTML = docLinkHtml;\n",
              "          element.appendChild(docLink);\n",
              "        }\n",
              "      </script>\n",
              "    </div>\n",
              "  </div>\n",
              "  "
            ]
          },
          "metadata": {},
          "execution_count": 29
        }
      ]
    },
    {
      "cell_type": "code",
      "source": [
        "test_submission.to_csv('test_submission_part4_final.csv', index=False)"
      ],
      "metadata": {
        "id": "e7DEhbaiiSrM"
      },
      "execution_count": null,
      "outputs": []
    }
  ]
}